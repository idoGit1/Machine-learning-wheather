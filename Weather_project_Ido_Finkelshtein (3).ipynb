{
  "nbformat": 4,
  "nbformat_minor": 0,
  "metadata": {
    "colab": {
      "provenance": [],
      "collapsed_sections": []
    },
    "kernelspec": {
      "name": "python3",
      "display_name": "Python 3"
    },
    "language_info": {
      "name": "python"
    }
  },
  "cells": [
    {
      "cell_type": "markdown",
      "source": [
        "שאלת החקר: האם ניתן לקבוע על פי הפרמטרים הבאים אם יהיו משקעים ומה יהיו סוגם?\n",
        "הפרמטרים (לפני ניקוי והשמטה):\n",
        "\n",
        "•   תאריך \n",
        "\n",
        "•   סוג המשקע\n",
        "\n",
        "•   טמפרטורה (-21.8-39.9)C\n",
        "\n",
        "•   טמפרטורה מורגשת (-27.7-39.3)F\n",
        "\n",
        "•   אחוזי לחות (0-100%)\n",
        "\n",
        "•   מהירות רוח (0-63.9)KM/H\n",
        "\n",
        "•   כיוון הרוח \n",
        "\n",
        "•   ראות- לפי מרחק (0-16.1)KM\n",
        "\n",
        "•   לחץ אוויר (0-1.05k)millibars\n",
        "\n",
        "•   סיכום יומי במילים \n",
        "\n",
        "בפרויקט שלי, אנסה ללמד את המכונה לקבוע האם יורד גשם/שלג/... או אין משקעים, כתלות בנתוני מדידות של הפרמטרים הכתובים למעלה. הנתונים בקובץ מורכבים מ- 12 עמודות (אחת מהן היא סוג המשקעים) ו-96454 שורות של מדידות."
      ],
      "metadata": {
        "id": "5MvdtFhvl03W"
      }
    },
    {
      "cell_type": "markdown",
      "source": [
        "התפלגויות נתונים על פי KAGGLE"
      ],
      "metadata": {
        "id": "PdAwJdjukU6J"
      }
    },
    {
      "cell_type": "markdown",
      "source": [
        "התפלגות נתונים של טמפרטורה:\n",
        "![7.png](data:image/png;base64,iVBORw0KGgoAAAANSUhEUgAAALwAAADvCAMAAAB/jU7AAAAAAXNSR0IArs4c6QAAAARnQU1BAACxjwv8YQUAAAJhUExURf///4C91AB7qECcvmiwy8/m7vz9/uXx9ujz93S30DMzM//6797NwbO1s7rD1Oj3///y3se7s9Tq//nt27O1usTT6Pn//7PAzt7v/P///O/fzsG1s7O1wdHl9f/36NTDurrI2+/5////+eHDsMfg8vz8/Pns172zzuv8/+vTurC70c7Bmc7p///x17evyuH0/P/8+eXNsLDS6///9d6+s8Tf7/z9//zv272nxOH5//Xdvaa+1+v3/Pz369e+psTg+f/8686vsMri8vz6/PLiyrCv0ev/////69S11OHFt9fx////7+Hb7+jNmfnfwanS6//027q72/X////99evl7+XJmdu7s//y2//pzpnI5fz//+jLo9GvxLe20ev5//LYuv/14cevyuX8/9u7utvy/7qZzuj//5nL6OjLmbrb9ce1s7PT6+jNs73b8vLdwamZmZmZmZm40bqZmZmpt87l+fLYt7DJ4fX9/+HJsJmZzv/85cqnvdft+fnt172jmfn5+fn6/+jPs7PN6PngxLDI4fnlzrO+3v/369e+s87q/OjQvamjmaOrvdTq4cqZzse2ppmZprfI3uXYuvLbvbPJ5eHDmf//8tu5utv0///9/Pn5/PzixKPP6/z5+brD4ejNsNHs//LgxLO+2/L////37+Xt+evSrbrY8v/y17qjzv/54cSjx+XLrcHf+evQrbra8sfj/P/33sGsyuj6/7251//13r2ZmZm529vGs6ars7O1sKmrvdTs/PnjzrenprC1s7CnprrT69fApqavs7OrqfnjyrOnqamzx+Hy//z5/AAAAK73GBIAAADLdFJOU/////////////////////////////////////////////////////////////////////////////////////////////////////////////////////////////////////////////////////////////////////////////////////////////////////////////////////////////////////////////////////////////////////////////8AvuakogAAAAlwSFlzAAAOwwAADsMBx2+oZAAAAyJJREFUeF7t1s9LFGEcx/HHfhDF3vKwdOps3sclEVpwCSYLocCLhxDxFJqCGEJ/QFBGS6euexJcwktgbGzH/qs+8+z4uDoxzOi6X8feL2j3067k+xlnMQcAAAAAwcSN1ET6QpUQb4V4K8RbId4K8VauWXyFjkO8FeKtEG+FeCvEWyHeynWNv5k+X91TEG+FeCvEW6lQfE4q8ZeKeCvEWyHeCvFWiLdCvBXirRBvhXgrRVKzg/iL+w/jr8gpiLdCvJXrEV8kNTuIPzfirRBvhXgrxFsh3grxVoi3QrwV4q0Qb4V4K8RbId7KBePDMDkF8UJ8WcQL8WURL8SXRbwQXxbxQnxZxAvxZREv44wfVXMYxBdEvIRBfEHESxjEF0S8hFHp+DDGcAriJTuIz0e8ZAfx+YiX7CA+H/GSHcTnI16yg/h8xEt2EJ+PeMkO4vMRL9lBfD7iJWdc3imIl5xB/D8RLzmD+GFjaA6D+GHES5FB/DDipcggfhjxUmQQP4x4KTKIH0a8FBmVjg9jVKcgXkoN4oV4KTWIF+Kl1CBeiJdSg3ipYrxJcxjES6lvOqpBvJT6pqMalY4P43ynIF4uOErFX5HmMIgXk1Hp+Fu3j6WBJ2aP3U2/tty/PM4RfgT3qihtBwAUFdeOlmf1HO1N+79HRzO//bClrKm6nnuTk83BK51a/2FrMIO5prt/2HAfph75+KXDRtx94d+xFK80XTTTcO2pVmfuu3/lSdM9mD9dHz9t6ZT1+Jlb8PHf1nTxF/1bluKXynw17eYUFS0myUvJ/wwGjafEuw096ktlabnl2vZXPhG9bsQrunWiVR+vq+oWDvw7Eu9N9n3mzpvkMT1Ve33j7dlby0K0uaXbpb3t4p13Sc/+bl2v+dJh6S0+uPLPt1uu99i/YC1O7pna+tbHT/5iRu8/b385G99OUwdX/qse/Q/L2B/96a25WE/7Jx/B7uDuCI7bkyvfueO6Olu0mnwGTEUzdRd3D3yOnjq6ZQ5b6Uf3RLS5IcmBdOW7P1pxrd//eeZ8Fnq/+n39vul83UqeFOZ6/aN5+zsCADAGzv0FPnHYgGZjY2IAAAAASUVORK5CYII=)"
      ],
      "metadata": {
        "id": "V_J5mEqKjw15"
      }
    },
    {
      "cell_type": "markdown",
      "source": [
        "התפלגות של לחות:\n",
        "![6.png](data:image/png;base64,iVBORw0KGgoAAAANSUhEUgAAAMoAAADzCAMAAADwznn/AAAAAXNSR0IArs4c6QAAAARnQU1BAACxjwv8YQUAAAC6UExURf///4C91AB7qECcvn+91JbJ20uiwjMzM///+evYxLq1s7PAzuHy/+vTwbPG4fX//+vSsLDJ4fX8/Pns172nxOH3///y4ce2t8fPx7O72///6M6jx+X8//LXs7rb9fXl3uX1///027q72//y2//pzpnL6JnN6P/x17O+3v/qzqPI5fz////54cSs0ev///nfwa3S6////OXJpr3b8v/66M6vt9fx///669S7qamzs7Crs8fg8v/6+QAAAHZ0A+gAAAA+dFJOU/////////////////////////////////////////////////////////////////////////////////8AuvtxNgAAAAlwSFlzAAAOwwAADsMBx2+oZAAAAjBJREFUeF7t1GtLAkEAheGxsugGBkJFV1z6IEgFUhv+/x+WNuMom7P3yTP0vh9090DtPFkZIiIiIiIiat3gYN3ALckGRTEoikFRDIpiUBSDohgUxaAoBkUxKIpBUQyKYlAUg6IYFMWgKAZFMSiKpU/xgkP3DkUgKIpBUQyKYlAUg6IYFMWgKAZFMSiKQVEMimJQFIOikwdsBFD2HhTFoCgGRTEoiv0Xir9KwgRFMSiKpU/xgh3nhrKvoCgGRTEoikFRDIpiUBSDohgUxaAolirFn3tzIih7DwqUqEGBEjUoUKIGRZpS79w7Jij9B2XrCkr/Qdm6gtJ/qVL8uY/cAGWVv4LSMSjlE5SOQSmfoHQMSvkEpWNQyicoHYNSPu2ZUu+Q9aa/pHhAD+feMUFpFZS6E5QmeUG9E7WeoDQJSuMJSnUe0PRErSco1UHpMEGpDkqHCUp1qVI25/bfL31Kw8f3OUEpBKXfCUohKP1OUApB6XeCYvOCes+KPEGxQYk0QbFBiTRBsUGJNEGxQYk0QbFBiTRBsUGJNLWgeEDTZ0WeoNgaPivyVJ8yXHfsvrTxsyJPAcpJirmzExGRYqdn56/uMoku393Frx6uTDa+cDf6za5vJoGffH53b8zo0d3p9/ScTdxlsdnKOH1xdymUhT6V6XD5EoQqFjxsdrt8+fGkUvBTycfLv5W34D8FwcK/QqO5yT8+3U0KBT8Vk38tFnN3nURlf9i5eyciIiKi+BnzDe5OcQuI9DMfAAAAAElFTkSuQmCC)"
      ],
      "metadata": {
        "id": "6EY7BS9vkZb4"
      }
    },
    {
      "cell_type": "markdown",
      "source": [
        "התפלגות של מהירות הרוח:\n",
        "![8.png](data:image/png;base64,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)"
      ],
      "metadata": {
        "id": "IYF0Y5r9kpBa"
      }
    },
    {
      "cell_type": "code",
      "execution_count": null,
      "metadata": {
        "id": "khLJoWlb7xGG"
      },
      "outputs": [],
      "source": [
        "import numpy as np\n",
        "import pandas as pd\n",
        "import matplotlib.pyplot as plt\n",
        "import seaborn as sns\n",
        "import random\n",
        "from sklearn.neighbors import KNeighborsClassifier\n",
        "from sklearn.svm import SVC\n",
        "from sklearn import svm\n",
        "from sklearn.linear_model import Perceptron\n",
        "from sklearn.model_selection import train_test_split\n",
        "from sklearn.preprocessing import MinMaxScaler\n",
        "from sklearn.metrics import classification_report, ConfusionMatrixDisplay, confusion_matrix\n",
        "from sklearn.datasets import make_classification\n",
        "from sklearn.metrics import plot_confusion_matrix\n",
        "from sklearn.metrics import recall_score\n",
        "from sklearn.metrics import precision_score\n",
        "from sklearn.metrics import f1_score\n",
        "from sklearn.metrics import accuracy_score\n",
        "%matplotlib inline"
      ]
    },
    {
      "cell_type": "code",
      "source": [
        "from google.colab import drive\n",
        "drive.mount('/content/drive')"
      ],
      "metadata": {
        "colab": {
          "base_uri": "https://localhost:8080/"
        },
        "id": "_n0D1TbWRwBW",
        "outputId": "72166192-9fbe-44a9-9b8d-4cf369819f82"
      },
      "execution_count": null,
      "outputs": [
        {
          "output_type": "stream",
          "name": "stdout",
          "text": [
            "Drive already mounted at /content/drive; to attempt to forcibly remount, call drive.mount(\"/content/drive\", force_remount=True).\n"
          ]
        }
      ]
    },
    {
      "cell_type": "code",
      "source": [
        "df=pd.read_csv('/content/drive/MyDrive/data/weatherHistory.csv')"
      ],
      "metadata": {
        "id": "-p2pH62L8d9g"
      },
      "execution_count": null,
      "outputs": []
    },
    {
      "cell_type": "markdown",
      "source": [
        "Data set: [Weather Hystory](https://drive.google.com/file/d/1ez1zfgiRKdefwEA8uJ5y7Oy-ovRMiWM5/view?usp=sharing)"
      ],
      "metadata": {
        "id": "8BNpFu24777e"
      }
    },
    {
      "cell_type": "markdown",
      "source": [
        "# Data analysis"
      ],
      "metadata": {
        "id": "axoO7wsfIgn4"
      }
    },
    {
      "cell_type": "markdown",
      "source": [
        "ניתוח הנתונים:\n",
        "\n",
        "הצגת הנתונים*\n",
        "\n",
        "הצגת גרפים*\n",
        "\n",
        "ניקוי הנתונים*\n",
        "\n",
        "פיטצר איג'נירינג* (Feature engineering)- ניתוח התכונות\n",
        "\n",
        "יחסים*"
      ],
      "metadata": {
        "id": "qR3ff4rOrsOY"
      }
    },
    {
      "cell_type": "markdown",
      "source": [
        "### Data presentation"
      ],
      "metadata": {
        "id": "QNaqmzFhWTA1"
      }
    },
    {
      "cell_type": "markdown",
      "source": [
        "בפרק הזה מוצגים הנתונים בדרכים שונות. מוצגת דגימה מהנתונים, מוצג סוג הנתונים וגודלם. כמו כן מוצגים מאפיינים של הנתונים לדוגמא: ממוצע, חציון, מינימום, מקסימום וכדומה. בפרק הזה אני יוצר עמודה של נתונים מספריים עבור הסיווג כדי שיהיה קל יותר להציג את הנתונים בגרפים בפרק הבא."
      ],
      "metadata": {
        "id": "90cOJf_vk6jV"
      }
    },
    {
      "cell_type": "code",
      "source": [
        "df.head()"
      ],
      "metadata": {
        "colab": {
          "base_uri": "https://localhost:8080/",
          "height": 354
        },
        "id": "394Ko0WO8uXI",
        "outputId": "f91e954c-54d7-480e-aa8b-31985d512a96"
      },
      "execution_count": null,
      "outputs": [
        {
          "output_type": "execute_result",
          "data": {
            "text/plain": [
              "                  Formatted Date        Summary Precip Type  Temperature (C)  \\\n",
              "0  2006-04-01 00:00:00.000 +0200  Partly Cloudy        rain         9.472222   \n",
              "1  2006-04-01 01:00:00.000 +0200  Partly Cloudy        rain         9.355556   \n",
              "2  2006-04-01 02:00:00.000 +0200  Mostly Cloudy        rain         9.377778   \n",
              "3  2006-04-01 03:00:00.000 +0200  Partly Cloudy        rain         8.288889   \n",
              "4  2006-04-01 04:00:00.000 +0200  Mostly Cloudy        rain         8.755556   \n",
              "\n",
              "   Apparent Temperature (C)  Humidity  Wind Speed (km/h)  \\\n",
              "0                  7.388889      0.89            14.1197   \n",
              "1                  7.227778      0.86            14.2646   \n",
              "2                  9.377778      0.89             3.9284   \n",
              "3                  5.944444      0.83            14.1036   \n",
              "4                  6.977778      0.83            11.0446   \n",
              "\n",
              "   Wind Bearing (degrees)  Visibility (km)  Loud Cover  Pressure (millibars)  \\\n",
              "0                   251.0          15.8263         0.0               1015.13   \n",
              "1                   259.0          15.8263         0.0               1015.63   \n",
              "2                   204.0          14.9569         0.0               1015.94   \n",
              "3                   269.0          15.8263         0.0               1016.41   \n",
              "4                   259.0          15.8263         0.0               1016.51   \n",
              "\n",
              "                       Daily Summary  \n",
              "0  Partly cloudy throughout the day.  \n",
              "1  Partly cloudy throughout the day.  \n",
              "2  Partly cloudy throughout the day.  \n",
              "3  Partly cloudy throughout the day.  \n",
              "4  Partly cloudy throughout the day.  "
            ],
            "text/html": [
              "\n",
              "  <div id=\"df-7dce08f2-2a03-470f-a01d-858134fcfe32\">\n",
              "    <div class=\"colab-df-container\">\n",
              "      <div>\n",
              "<style scoped>\n",
              "    .dataframe tbody tr th:only-of-type {\n",
              "        vertical-align: middle;\n",
              "    }\n",
              "\n",
              "    .dataframe tbody tr th {\n",
              "        vertical-align: top;\n",
              "    }\n",
              "\n",
              "    .dataframe thead th {\n",
              "        text-align: right;\n",
              "    }\n",
              "</style>\n",
              "<table border=\"1\" class=\"dataframe\">\n",
              "  <thead>\n",
              "    <tr style=\"text-align: right;\">\n",
              "      <th></th>\n",
              "      <th>Formatted Date</th>\n",
              "      <th>Summary</th>\n",
              "      <th>Precip Type</th>\n",
              "      <th>Temperature (C)</th>\n",
              "      <th>Apparent Temperature (C)</th>\n",
              "      <th>Humidity</th>\n",
              "      <th>Wind Speed (km/h)</th>\n",
              "      <th>Wind Bearing (degrees)</th>\n",
              "      <th>Visibility (km)</th>\n",
              "      <th>Loud Cover</th>\n",
              "      <th>Pressure (millibars)</th>\n",
              "      <th>Daily Summary</th>\n",
              "    </tr>\n",
              "  </thead>\n",
              "  <tbody>\n",
              "    <tr>\n",
              "      <th>0</th>\n",
              "      <td>2006-04-01 00:00:00.000 +0200</td>\n",
              "      <td>Partly Cloudy</td>\n",
              "      <td>rain</td>\n",
              "      <td>9.472222</td>\n",
              "      <td>7.388889</td>\n",
              "      <td>0.89</td>\n",
              "      <td>14.1197</td>\n",
              "      <td>251.0</td>\n",
              "      <td>15.8263</td>\n",
              "      <td>0.0</td>\n",
              "      <td>1015.13</td>\n",
              "      <td>Partly cloudy throughout the day.</td>\n",
              "    </tr>\n",
              "    <tr>\n",
              "      <th>1</th>\n",
              "      <td>2006-04-01 01:00:00.000 +0200</td>\n",
              "      <td>Partly Cloudy</td>\n",
              "      <td>rain</td>\n",
              "      <td>9.355556</td>\n",
              "      <td>7.227778</td>\n",
              "      <td>0.86</td>\n",
              "      <td>14.2646</td>\n",
              "      <td>259.0</td>\n",
              "      <td>15.8263</td>\n",
              "      <td>0.0</td>\n",
              "      <td>1015.63</td>\n",
              "      <td>Partly cloudy throughout the day.</td>\n",
              "    </tr>\n",
              "    <tr>\n",
              "      <th>2</th>\n",
              "      <td>2006-04-01 02:00:00.000 +0200</td>\n",
              "      <td>Mostly Cloudy</td>\n",
              "      <td>rain</td>\n",
              "      <td>9.377778</td>\n",
              "      <td>9.377778</td>\n",
              "      <td>0.89</td>\n",
              "      <td>3.9284</td>\n",
              "      <td>204.0</td>\n",
              "      <td>14.9569</td>\n",
              "      <td>0.0</td>\n",
              "      <td>1015.94</td>\n",
              "      <td>Partly cloudy throughout the day.</td>\n",
              "    </tr>\n",
              "    <tr>\n",
              "      <th>3</th>\n",
              "      <td>2006-04-01 03:00:00.000 +0200</td>\n",
              "      <td>Partly Cloudy</td>\n",
              "      <td>rain</td>\n",
              "      <td>8.288889</td>\n",
              "      <td>5.944444</td>\n",
              "      <td>0.83</td>\n",
              "      <td>14.1036</td>\n",
              "      <td>269.0</td>\n",
              "      <td>15.8263</td>\n",
              "      <td>0.0</td>\n",
              "      <td>1016.41</td>\n",
              "      <td>Partly cloudy throughout the day.</td>\n",
              "    </tr>\n",
              "    <tr>\n",
              "      <th>4</th>\n",
              "      <td>2006-04-01 04:00:00.000 +0200</td>\n",
              "      <td>Mostly Cloudy</td>\n",
              "      <td>rain</td>\n",
              "      <td>8.755556</td>\n",
              "      <td>6.977778</td>\n",
              "      <td>0.83</td>\n",
              "      <td>11.0446</td>\n",
              "      <td>259.0</td>\n",
              "      <td>15.8263</td>\n",
              "      <td>0.0</td>\n",
              "      <td>1016.51</td>\n",
              "      <td>Partly cloudy throughout the day.</td>\n",
              "    </tr>\n",
              "  </tbody>\n",
              "</table>\n",
              "</div>\n",
              "      <button class=\"colab-df-convert\" onclick=\"convertToInteractive('df-7dce08f2-2a03-470f-a01d-858134fcfe32')\"\n",
              "              title=\"Convert this dataframe to an interactive table.\"\n",
              "              style=\"display:none;\">\n",
              "        \n",
              "  <svg xmlns=\"http://www.w3.org/2000/svg\" height=\"24px\"viewBox=\"0 0 24 24\"\n",
              "       width=\"24px\">\n",
              "    <path d=\"M0 0h24v24H0V0z\" fill=\"none\"/>\n",
              "    <path d=\"M18.56 5.44l.94 2.06.94-2.06 2.06-.94-2.06-.94-.94-2.06-.94 2.06-2.06.94zm-11 1L8.5 8.5l.94-2.06 2.06-.94-2.06-.94L8.5 2.5l-.94 2.06-2.06.94zm10 10l.94 2.06.94-2.06 2.06-.94-2.06-.94-.94-2.06-.94 2.06-2.06.94z\"/><path d=\"M17.41 7.96l-1.37-1.37c-.4-.4-.92-.59-1.43-.59-.52 0-1.04.2-1.43.59L10.3 9.45l-7.72 7.72c-.78.78-.78 2.05 0 2.83L4 21.41c.39.39.9.59 1.41.59.51 0 1.02-.2 1.41-.59l7.78-7.78 2.81-2.81c.8-.78.8-2.07 0-2.86zM5.41 20L4 18.59l7.72-7.72 1.47 1.35L5.41 20z\"/>\n",
              "  </svg>\n",
              "      </button>\n",
              "      \n",
              "  <style>\n",
              "    .colab-df-container {\n",
              "      display:flex;\n",
              "      flex-wrap:wrap;\n",
              "      gap: 12px;\n",
              "    }\n",
              "\n",
              "    .colab-df-convert {\n",
              "      background-color: #E8F0FE;\n",
              "      border: none;\n",
              "      border-radius: 50%;\n",
              "      cursor: pointer;\n",
              "      display: none;\n",
              "      fill: #1967D2;\n",
              "      height: 32px;\n",
              "      padding: 0 0 0 0;\n",
              "      width: 32px;\n",
              "    }\n",
              "\n",
              "    .colab-df-convert:hover {\n",
              "      background-color: #E2EBFA;\n",
              "      box-shadow: 0px 1px 2px rgba(60, 64, 67, 0.3), 0px 1px 3px 1px rgba(60, 64, 67, 0.15);\n",
              "      fill: #174EA6;\n",
              "    }\n",
              "\n",
              "    [theme=dark] .colab-df-convert {\n",
              "      background-color: #3B4455;\n",
              "      fill: #D2E3FC;\n",
              "    }\n",
              "\n",
              "    [theme=dark] .colab-df-convert:hover {\n",
              "      background-color: #434B5C;\n",
              "      box-shadow: 0px 1px 3px 1px rgba(0, 0, 0, 0.15);\n",
              "      filter: drop-shadow(0px 1px 2px rgba(0, 0, 0, 0.3));\n",
              "      fill: #FFFFFF;\n",
              "    }\n",
              "  </style>\n",
              "\n",
              "      <script>\n",
              "        const buttonEl =\n",
              "          document.querySelector('#df-7dce08f2-2a03-470f-a01d-858134fcfe32 button.colab-df-convert');\n",
              "        buttonEl.style.display =\n",
              "          google.colab.kernel.accessAllowed ? 'block' : 'none';\n",
              "\n",
              "        async function convertToInteractive(key) {\n",
              "          const element = document.querySelector('#df-7dce08f2-2a03-470f-a01d-858134fcfe32');\n",
              "          const dataTable =\n",
              "            await google.colab.kernel.invokeFunction('convertToInteractive',\n",
              "                                                     [key], {});\n",
              "          if (!dataTable) return;\n",
              "\n",
              "          const docLinkHtml = 'Like what you see? Visit the ' +\n",
              "            '<a target=\"_blank\" href=https://colab.research.google.com/notebooks/data_table.ipynb>data table notebook</a>'\n",
              "            + ' to learn more about interactive tables.';\n",
              "          element.innerHTML = '';\n",
              "          dataTable['output_type'] = 'display_data';\n",
              "          await google.colab.output.renderOutput(dataTable, element);\n",
              "          const docLink = document.createElement('div');\n",
              "          docLink.innerHTML = docLinkHtml;\n",
              "          element.appendChild(docLink);\n",
              "        }\n",
              "      </script>\n",
              "    </div>\n",
              "  </div>\n",
              "  "
            ]
          },
          "metadata": {},
          "execution_count": 37
        }
      ]
    },
    {
      "cell_type": "code",
      "source": [
        "df.info()"
      ],
      "metadata": {
        "colab": {
          "base_uri": "https://localhost:8080/"
        },
        "id": "9U7rgy19GHiR",
        "outputId": "83f35a9b-ccc0-4a55-e501-72616a1c785e"
      },
      "execution_count": null,
      "outputs": [
        {
          "output_type": "stream",
          "name": "stdout",
          "text": [
            "<class 'pandas.core.frame.DataFrame'>\n",
            "RangeIndex: 96453 entries, 0 to 96452\n",
            "Data columns (total 12 columns):\n",
            " #   Column                    Non-Null Count  Dtype  \n",
            "---  ------                    --------------  -----  \n",
            " 0   Formatted Date            96453 non-null  object \n",
            " 1   Summary                   96453 non-null  object \n",
            " 2   Precip Type               96453 non-null  object \n",
            " 3   Temperature (C)           96453 non-null  float64\n",
            " 4   Apparent Temperature (C)  96453 non-null  float64\n",
            " 5   Humidity                  96453 non-null  float64\n",
            " 6   Wind Speed (km/h)         96453 non-null  float64\n",
            " 7   Wind Bearing (degrees)    96453 non-null  float64\n",
            " 8   Visibility (km)           96453 non-null  float64\n",
            " 9   Loud Cover                96453 non-null  float64\n",
            " 10  Pressure (millibars)      96453 non-null  float64\n",
            " 11  Daily Summary             96453 non-null  object \n",
            "dtypes: float64(8), object(4)\n",
            "memory usage: 8.8+ MB\n"
          ]
        }
      ]
    },
    {
      "cell_type": "code",
      "source": [
        "df.describe()"
      ],
      "metadata": {
        "colab": {
          "base_uri": "https://localhost:8080/",
          "height": 300
        },
        "id": "TWXYD6WmFjeC",
        "outputId": "3ca6ea33-2c67-433c-cd06-1ff3f6cc7a32"
      },
      "execution_count": null,
      "outputs": [
        {
          "output_type": "execute_result",
          "data": {
            "text/plain": [
              "       Temperature (C)  Apparent Temperature (C)      Humidity  \\\n",
              "count     96453.000000              96453.000000  96453.000000   \n",
              "mean         11.932678                 10.855029      0.734899   \n",
              "std           9.551546                 10.696847      0.195473   \n",
              "min         -21.822222                -27.716667      0.000000   \n",
              "25%           4.688889                  2.311111      0.600000   \n",
              "50%          12.000000                 12.000000      0.780000   \n",
              "75%          18.838889                 18.838889      0.890000   \n",
              "max          39.905556                 39.344444      1.000000   \n",
              "\n",
              "       Wind Speed (km/h)  Wind Bearing (degrees)  Visibility (km)  Loud Cover  \\\n",
              "count       96453.000000            96453.000000     96453.000000     96453.0   \n",
              "mean           10.810640              187.509232        10.347325         0.0   \n",
              "std             6.913571              107.383428         4.192123         0.0   \n",
              "min             0.000000                0.000000         0.000000         0.0   \n",
              "25%             5.828200              116.000000         8.339800         0.0   \n",
              "50%             9.965900              180.000000        10.046400         0.0   \n",
              "75%            14.135800              290.000000        14.812000         0.0   \n",
              "max            63.852600              359.000000        16.100000         0.0   \n",
              "\n",
              "       Pressure (millibars)  \n",
              "count          96453.000000  \n",
              "mean            1003.235956  \n",
              "std              116.969906  \n",
              "min                0.000000  \n",
              "25%             1011.900000  \n",
              "50%             1016.450000  \n",
              "75%             1021.090000  \n",
              "max             1046.380000  "
            ],
            "text/html": [
              "\n",
              "  <div id=\"df-867b8369-5b93-4887-baf7-2d574fa009da\">\n",
              "    <div class=\"colab-df-container\">\n",
              "      <div>\n",
              "<style scoped>\n",
              "    .dataframe tbody tr th:only-of-type {\n",
              "        vertical-align: middle;\n",
              "    }\n",
              "\n",
              "    .dataframe tbody tr th {\n",
              "        vertical-align: top;\n",
              "    }\n",
              "\n",
              "    .dataframe thead th {\n",
              "        text-align: right;\n",
              "    }\n",
              "</style>\n",
              "<table border=\"1\" class=\"dataframe\">\n",
              "  <thead>\n",
              "    <tr style=\"text-align: right;\">\n",
              "      <th></th>\n",
              "      <th>Temperature (C)</th>\n",
              "      <th>Apparent Temperature (C)</th>\n",
              "      <th>Humidity</th>\n",
              "      <th>Wind Speed (km/h)</th>\n",
              "      <th>Wind Bearing (degrees)</th>\n",
              "      <th>Visibility (km)</th>\n",
              "      <th>Loud Cover</th>\n",
              "      <th>Pressure (millibars)</th>\n",
              "    </tr>\n",
              "  </thead>\n",
              "  <tbody>\n",
              "    <tr>\n",
              "      <th>count</th>\n",
              "      <td>96453.000000</td>\n",
              "      <td>96453.000000</td>\n",
              "      <td>96453.000000</td>\n",
              "      <td>96453.000000</td>\n",
              "      <td>96453.000000</td>\n",
              "      <td>96453.000000</td>\n",
              "      <td>96453.0</td>\n",
              "      <td>96453.000000</td>\n",
              "    </tr>\n",
              "    <tr>\n",
              "      <th>mean</th>\n",
              "      <td>11.932678</td>\n",
              "      <td>10.855029</td>\n",
              "      <td>0.734899</td>\n",
              "      <td>10.810640</td>\n",
              "      <td>187.509232</td>\n",
              "      <td>10.347325</td>\n",
              "      <td>0.0</td>\n",
              "      <td>1003.235956</td>\n",
              "    </tr>\n",
              "    <tr>\n",
              "      <th>std</th>\n",
              "      <td>9.551546</td>\n",
              "      <td>10.696847</td>\n",
              "      <td>0.195473</td>\n",
              "      <td>6.913571</td>\n",
              "      <td>107.383428</td>\n",
              "      <td>4.192123</td>\n",
              "      <td>0.0</td>\n",
              "      <td>116.969906</td>\n",
              "    </tr>\n",
              "    <tr>\n",
              "      <th>min</th>\n",
              "      <td>-21.822222</td>\n",
              "      <td>-27.716667</td>\n",
              "      <td>0.000000</td>\n",
              "      <td>0.000000</td>\n",
              "      <td>0.000000</td>\n",
              "      <td>0.000000</td>\n",
              "      <td>0.0</td>\n",
              "      <td>0.000000</td>\n",
              "    </tr>\n",
              "    <tr>\n",
              "      <th>25%</th>\n",
              "      <td>4.688889</td>\n",
              "      <td>2.311111</td>\n",
              "      <td>0.600000</td>\n",
              "      <td>5.828200</td>\n",
              "      <td>116.000000</td>\n",
              "      <td>8.339800</td>\n",
              "      <td>0.0</td>\n",
              "      <td>1011.900000</td>\n",
              "    </tr>\n",
              "    <tr>\n",
              "      <th>50%</th>\n",
              "      <td>12.000000</td>\n",
              "      <td>12.000000</td>\n",
              "      <td>0.780000</td>\n",
              "      <td>9.965900</td>\n",
              "      <td>180.000000</td>\n",
              "      <td>10.046400</td>\n",
              "      <td>0.0</td>\n",
              "      <td>1016.450000</td>\n",
              "    </tr>\n",
              "    <tr>\n",
              "      <th>75%</th>\n",
              "      <td>18.838889</td>\n",
              "      <td>18.838889</td>\n",
              "      <td>0.890000</td>\n",
              "      <td>14.135800</td>\n",
              "      <td>290.000000</td>\n",
              "      <td>14.812000</td>\n",
              "      <td>0.0</td>\n",
              "      <td>1021.090000</td>\n",
              "    </tr>\n",
              "    <tr>\n",
              "      <th>max</th>\n",
              "      <td>39.905556</td>\n",
              "      <td>39.344444</td>\n",
              "      <td>1.000000</td>\n",
              "      <td>63.852600</td>\n",
              "      <td>359.000000</td>\n",
              "      <td>16.100000</td>\n",
              "      <td>0.0</td>\n",
              "      <td>1046.380000</td>\n",
              "    </tr>\n",
              "  </tbody>\n",
              "</table>\n",
              "</div>\n",
              "      <button class=\"colab-df-convert\" onclick=\"convertToInteractive('df-867b8369-5b93-4887-baf7-2d574fa009da')\"\n",
              "              title=\"Convert this dataframe to an interactive table.\"\n",
              "              style=\"display:none;\">\n",
              "        \n",
              "  <svg xmlns=\"http://www.w3.org/2000/svg\" height=\"24px\"viewBox=\"0 0 24 24\"\n",
              "       width=\"24px\">\n",
              "    <path d=\"M0 0h24v24H0V0z\" fill=\"none\"/>\n",
              "    <path d=\"M18.56 5.44l.94 2.06.94-2.06 2.06-.94-2.06-.94-.94-2.06-.94 2.06-2.06.94zm-11 1L8.5 8.5l.94-2.06 2.06-.94-2.06-.94L8.5 2.5l-.94 2.06-2.06.94zm10 10l.94 2.06.94-2.06 2.06-.94-2.06-.94-.94-2.06-.94 2.06-2.06.94z\"/><path d=\"M17.41 7.96l-1.37-1.37c-.4-.4-.92-.59-1.43-.59-.52 0-1.04.2-1.43.59L10.3 9.45l-7.72 7.72c-.78.78-.78 2.05 0 2.83L4 21.41c.39.39.9.59 1.41.59.51 0 1.02-.2 1.41-.59l7.78-7.78 2.81-2.81c.8-.78.8-2.07 0-2.86zM5.41 20L4 18.59l7.72-7.72 1.47 1.35L5.41 20z\"/>\n",
              "  </svg>\n",
              "      </button>\n",
              "      \n",
              "  <style>\n",
              "    .colab-df-container {\n",
              "      display:flex;\n",
              "      flex-wrap:wrap;\n",
              "      gap: 12px;\n",
              "    }\n",
              "\n",
              "    .colab-df-convert {\n",
              "      background-color: #E8F0FE;\n",
              "      border: none;\n",
              "      border-radius: 50%;\n",
              "      cursor: pointer;\n",
              "      display: none;\n",
              "      fill: #1967D2;\n",
              "      height: 32px;\n",
              "      padding: 0 0 0 0;\n",
              "      width: 32px;\n",
              "    }\n",
              "\n",
              "    .colab-df-convert:hover {\n",
              "      background-color: #E2EBFA;\n",
              "      box-shadow: 0px 1px 2px rgba(60, 64, 67, 0.3), 0px 1px 3px 1px rgba(60, 64, 67, 0.15);\n",
              "      fill: #174EA6;\n",
              "    }\n",
              "\n",
              "    [theme=dark] .colab-df-convert {\n",
              "      background-color: #3B4455;\n",
              "      fill: #D2E3FC;\n",
              "    }\n",
              "\n",
              "    [theme=dark] .colab-df-convert:hover {\n",
              "      background-color: #434B5C;\n",
              "      box-shadow: 0px 1px 3px 1px rgba(0, 0, 0, 0.15);\n",
              "      filter: drop-shadow(0px 1px 2px rgba(0, 0, 0, 0.3));\n",
              "      fill: #FFFFFF;\n",
              "    }\n",
              "  </style>\n",
              "\n",
              "      <script>\n",
              "        const buttonEl =\n",
              "          document.querySelector('#df-867b8369-5b93-4887-baf7-2d574fa009da button.colab-df-convert');\n",
              "        buttonEl.style.display =\n",
              "          google.colab.kernel.accessAllowed ? 'block' : 'none';\n",
              "\n",
              "        async function convertToInteractive(key) {\n",
              "          const element = document.querySelector('#df-867b8369-5b93-4887-baf7-2d574fa009da');\n",
              "          const dataTable =\n",
              "            await google.colab.kernel.invokeFunction('convertToInteractive',\n",
              "                                                     [key], {});\n",
              "          if (!dataTable) return;\n",
              "\n",
              "          const docLinkHtml = 'Like what you see? Visit the ' +\n",
              "            '<a target=\"_blank\" href=https://colab.research.google.com/notebooks/data_table.ipynb>data table notebook</a>'\n",
              "            + ' to learn more about interactive tables.';\n",
              "          element.innerHTML = '';\n",
              "          dataTable['output_type'] = 'display_data';\n",
              "          await google.colab.output.renderOutput(dataTable, element);\n",
              "          const docLink = document.createElement('div');\n",
              "          docLink.innerHTML = docLinkHtml;\n",
              "          element.appendChild(docLink);\n",
              "        }\n",
              "      </script>\n",
              "    </div>\n",
              "  </div>\n",
              "  "
            ]
          },
          "metadata": {},
          "execution_count": 39
        }
      ]
    },
    {
      "cell_type": "code",
      "source": [
        "df.describe().transpose()"
      ],
      "metadata": {
        "colab": {
          "base_uri": "https://localhost:8080/",
          "height": 300
        },
        "id": "POzVTiq9F_hx",
        "outputId": "d7e0a636-2822-41b7-d625-09cd0fff3bdf"
      },
      "execution_count": null,
      "outputs": [
        {
          "output_type": "execute_result",
          "data": {
            "text/plain": [
              "                            count         mean         std        min  \\\n",
              "Temperature (C)           96453.0    11.932678    9.551546 -21.822222   \n",
              "Apparent Temperature (C)  96453.0    10.855029   10.696847 -27.716667   \n",
              "Humidity                  96453.0     0.734899    0.195473   0.000000   \n",
              "Wind Speed (km/h)         96453.0    10.810640    6.913571   0.000000   \n",
              "Wind Bearing (degrees)    96453.0   187.509232  107.383428   0.000000   \n",
              "Visibility (km)           96453.0    10.347325    4.192123   0.000000   \n",
              "Loud Cover                96453.0     0.000000    0.000000   0.000000   \n",
              "Pressure (millibars)      96453.0  1003.235956  116.969906   0.000000   \n",
              "\n",
              "                                  25%        50%          75%          max  \n",
              "Temperature (C)              4.688889    12.0000    18.838889    39.905556  \n",
              "Apparent Temperature (C)     2.311111    12.0000    18.838889    39.344444  \n",
              "Humidity                     0.600000     0.7800     0.890000     1.000000  \n",
              "Wind Speed (km/h)            5.828200     9.9659    14.135800    63.852600  \n",
              "Wind Bearing (degrees)     116.000000   180.0000   290.000000   359.000000  \n",
              "Visibility (km)              8.339800    10.0464    14.812000    16.100000  \n",
              "Loud Cover                   0.000000     0.0000     0.000000     0.000000  \n",
              "Pressure (millibars)      1011.900000  1016.4500  1021.090000  1046.380000  "
            ],
            "text/html": [
              "\n",
              "  <div id=\"df-1721e651-42fe-4108-ac37-cf48c57ba160\">\n",
              "    <div class=\"colab-df-container\">\n",
              "      <div>\n",
              "<style scoped>\n",
              "    .dataframe tbody tr th:only-of-type {\n",
              "        vertical-align: middle;\n",
              "    }\n",
              "\n",
              "    .dataframe tbody tr th {\n",
              "        vertical-align: top;\n",
              "    }\n",
              "\n",
              "    .dataframe thead th {\n",
              "        text-align: right;\n",
              "    }\n",
              "</style>\n",
              "<table border=\"1\" class=\"dataframe\">\n",
              "  <thead>\n",
              "    <tr style=\"text-align: right;\">\n",
              "      <th></th>\n",
              "      <th>count</th>\n",
              "      <th>mean</th>\n",
              "      <th>std</th>\n",
              "      <th>min</th>\n",
              "      <th>25%</th>\n",
              "      <th>50%</th>\n",
              "      <th>75%</th>\n",
              "      <th>max</th>\n",
              "    </tr>\n",
              "  </thead>\n",
              "  <tbody>\n",
              "    <tr>\n",
              "      <th>Temperature (C)</th>\n",
              "      <td>96453.0</td>\n",
              "      <td>11.932678</td>\n",
              "      <td>9.551546</td>\n",
              "      <td>-21.822222</td>\n",
              "      <td>4.688889</td>\n",
              "      <td>12.0000</td>\n",
              "      <td>18.838889</td>\n",
              "      <td>39.905556</td>\n",
              "    </tr>\n",
              "    <tr>\n",
              "      <th>Apparent Temperature (C)</th>\n",
              "      <td>96453.0</td>\n",
              "      <td>10.855029</td>\n",
              "      <td>10.696847</td>\n",
              "      <td>-27.716667</td>\n",
              "      <td>2.311111</td>\n",
              "      <td>12.0000</td>\n",
              "      <td>18.838889</td>\n",
              "      <td>39.344444</td>\n",
              "    </tr>\n",
              "    <tr>\n",
              "      <th>Humidity</th>\n",
              "      <td>96453.0</td>\n",
              "      <td>0.734899</td>\n",
              "      <td>0.195473</td>\n",
              "      <td>0.000000</td>\n",
              "      <td>0.600000</td>\n",
              "      <td>0.7800</td>\n",
              "      <td>0.890000</td>\n",
              "      <td>1.000000</td>\n",
              "    </tr>\n",
              "    <tr>\n",
              "      <th>Wind Speed (km/h)</th>\n",
              "      <td>96453.0</td>\n",
              "      <td>10.810640</td>\n",
              "      <td>6.913571</td>\n",
              "      <td>0.000000</td>\n",
              "      <td>5.828200</td>\n",
              "      <td>9.9659</td>\n",
              "      <td>14.135800</td>\n",
              "      <td>63.852600</td>\n",
              "    </tr>\n",
              "    <tr>\n",
              "      <th>Wind Bearing (degrees)</th>\n",
              "      <td>96453.0</td>\n",
              "      <td>187.509232</td>\n",
              "      <td>107.383428</td>\n",
              "      <td>0.000000</td>\n",
              "      <td>116.000000</td>\n",
              "      <td>180.0000</td>\n",
              "      <td>290.000000</td>\n",
              "      <td>359.000000</td>\n",
              "    </tr>\n",
              "    <tr>\n",
              "      <th>Visibility (km)</th>\n",
              "      <td>96453.0</td>\n",
              "      <td>10.347325</td>\n",
              "      <td>4.192123</td>\n",
              "      <td>0.000000</td>\n",
              "      <td>8.339800</td>\n",
              "      <td>10.0464</td>\n",
              "      <td>14.812000</td>\n",
              "      <td>16.100000</td>\n",
              "    </tr>\n",
              "    <tr>\n",
              "      <th>Loud Cover</th>\n",
              "      <td>96453.0</td>\n",
              "      <td>0.000000</td>\n",
              "      <td>0.000000</td>\n",
              "      <td>0.000000</td>\n",
              "      <td>0.000000</td>\n",
              "      <td>0.0000</td>\n",
              "      <td>0.000000</td>\n",
              "      <td>0.000000</td>\n",
              "    </tr>\n",
              "    <tr>\n",
              "      <th>Pressure (millibars)</th>\n",
              "      <td>96453.0</td>\n",
              "      <td>1003.235956</td>\n",
              "      <td>116.969906</td>\n",
              "      <td>0.000000</td>\n",
              "      <td>1011.900000</td>\n",
              "      <td>1016.4500</td>\n",
              "      <td>1021.090000</td>\n",
              "      <td>1046.380000</td>\n",
              "    </tr>\n",
              "  </tbody>\n",
              "</table>\n",
              "</div>\n",
              "      <button class=\"colab-df-convert\" onclick=\"convertToInteractive('df-1721e651-42fe-4108-ac37-cf48c57ba160')\"\n",
              "              title=\"Convert this dataframe to an interactive table.\"\n",
              "              style=\"display:none;\">\n",
              "        \n",
              "  <svg xmlns=\"http://www.w3.org/2000/svg\" height=\"24px\"viewBox=\"0 0 24 24\"\n",
              "       width=\"24px\">\n",
              "    <path d=\"M0 0h24v24H0V0z\" fill=\"none\"/>\n",
              "    <path d=\"M18.56 5.44l.94 2.06.94-2.06 2.06-.94-2.06-.94-.94-2.06-.94 2.06-2.06.94zm-11 1L8.5 8.5l.94-2.06 2.06-.94-2.06-.94L8.5 2.5l-.94 2.06-2.06.94zm10 10l.94 2.06.94-2.06 2.06-.94-2.06-.94-.94-2.06-.94 2.06-2.06.94z\"/><path d=\"M17.41 7.96l-1.37-1.37c-.4-.4-.92-.59-1.43-.59-.52 0-1.04.2-1.43.59L10.3 9.45l-7.72 7.72c-.78.78-.78 2.05 0 2.83L4 21.41c.39.39.9.59 1.41.59.51 0 1.02-.2 1.41-.59l7.78-7.78 2.81-2.81c.8-.78.8-2.07 0-2.86zM5.41 20L4 18.59l7.72-7.72 1.47 1.35L5.41 20z\"/>\n",
              "  </svg>\n",
              "      </button>\n",
              "      \n",
              "  <style>\n",
              "    .colab-df-container {\n",
              "      display:flex;\n",
              "      flex-wrap:wrap;\n",
              "      gap: 12px;\n",
              "    }\n",
              "\n",
              "    .colab-df-convert {\n",
              "      background-color: #E8F0FE;\n",
              "      border: none;\n",
              "      border-radius: 50%;\n",
              "      cursor: pointer;\n",
              "      display: none;\n",
              "      fill: #1967D2;\n",
              "      height: 32px;\n",
              "      padding: 0 0 0 0;\n",
              "      width: 32px;\n",
              "    }\n",
              "\n",
              "    .colab-df-convert:hover {\n",
              "      background-color: #E2EBFA;\n",
              "      box-shadow: 0px 1px 2px rgba(60, 64, 67, 0.3), 0px 1px 3px 1px rgba(60, 64, 67, 0.15);\n",
              "      fill: #174EA6;\n",
              "    }\n",
              "\n",
              "    [theme=dark] .colab-df-convert {\n",
              "      background-color: #3B4455;\n",
              "      fill: #D2E3FC;\n",
              "    }\n",
              "\n",
              "    [theme=dark] .colab-df-convert:hover {\n",
              "      background-color: #434B5C;\n",
              "      box-shadow: 0px 1px 3px 1px rgba(0, 0, 0, 0.15);\n",
              "      filter: drop-shadow(0px 1px 2px rgba(0, 0, 0, 0.3));\n",
              "      fill: #FFFFFF;\n",
              "    }\n",
              "  </style>\n",
              "\n",
              "      <script>\n",
              "        const buttonEl =\n",
              "          document.querySelector('#df-1721e651-42fe-4108-ac37-cf48c57ba160 button.colab-df-convert');\n",
              "        buttonEl.style.display =\n",
              "          google.colab.kernel.accessAllowed ? 'block' : 'none';\n",
              "\n",
              "        async function convertToInteractive(key) {\n",
              "          const element = document.querySelector('#df-1721e651-42fe-4108-ac37-cf48c57ba160');\n",
              "          const dataTable =\n",
              "            await google.colab.kernel.invokeFunction('convertToInteractive',\n",
              "                                                     [key], {});\n",
              "          if (!dataTable) return;\n",
              "\n",
              "          const docLinkHtml = 'Like what you see? Visit the ' +\n",
              "            '<a target=\"_blank\" href=https://colab.research.google.com/notebooks/data_table.ipynb>data table notebook</a>'\n",
              "            + ' to learn more about interactive tables.';\n",
              "          element.innerHTML = '';\n",
              "          dataTable['output_type'] = 'display_data';\n",
              "          await google.colab.output.renderOutput(dataTable, element);\n",
              "          const docLink = document.createElement('div');\n",
              "          docLink.innerHTML = docLinkHtml;\n",
              "          element.appendChild(docLink);\n",
              "        }\n",
              "      </script>\n",
              "    </div>\n",
              "  </div>\n",
              "  "
            ]
          },
          "metadata": {},
          "execution_count": 40
        }
      ]
    },
    {
      "cell_type": "code",
      "source": [
        "df.select_dtypes(include='float64').nunique()"
      ],
      "metadata": {
        "colab": {
          "base_uri": "https://localhost:8080/"
        },
        "id": "1TRM4YSBGd8L",
        "outputId": "ea592e06-f7be-462d-bd9d-a9cd617ffc31"
      },
      "execution_count": null,
      "outputs": [
        {
          "output_type": "execute_result",
          "data": {
            "text/plain": [
              "Temperature (C)             7574\n",
              "Apparent Temperature (C)    8984\n",
              "Humidity                      90\n",
              "Wind Speed (km/h)           2484\n",
              "Wind Bearing (degrees)       360\n",
              "Visibility (km)              949\n",
              "Loud Cover                     1\n",
              "Pressure (millibars)        4979\n",
              "dtype: int64"
            ]
          },
          "metadata": {},
          "execution_count": 41
        }
      ]
    },
    {
      "cell_type": "code",
      "source": [
        "df.select_dtypes(include='object').nunique()"
      ],
      "metadata": {
        "colab": {
          "base_uri": "https://localhost:8080/"
        },
        "id": "yrOWudgEGwxr",
        "outputId": "d99b6f23-9706-4231-d950-31ae207ed5e5"
      },
      "execution_count": null,
      "outputs": [
        {
          "output_type": "execute_result",
          "data": {
            "text/plain": [
              "Formatted Date    96429\n",
              "Summary              27\n",
              "Precip Type           3\n",
              "Daily Summary       214\n",
              "dtype: int64"
            ]
          },
          "metadata": {},
          "execution_count": 42
        }
      ]
    },
    {
      "cell_type": "code",
      "source": [
        "numbered_percip_type=df['Precip Type']\n",
        "df['numbered_percip_type']=numbered_percip_type\n",
        "df['numbered_percip_type'].replace({'rain':1,'snow':2}, inplace=True)"
      ],
      "metadata": {
        "id": "-sQa1z3EZwqU"
      },
      "execution_count": null,
      "outputs": []
    },
    {
      "cell_type": "code",
      "source": [
        "df.info()"
      ],
      "metadata": {
        "colab": {
          "base_uri": "https://localhost:8080/"
        },
        "id": "JYRiq2Cc-QT2",
        "outputId": "90759317-f216-4e6e-e7c9-f77a55c4d8e2"
      },
      "execution_count": null,
      "outputs": [
        {
          "output_type": "stream",
          "name": "stdout",
          "text": [
            "<class 'pandas.core.frame.DataFrame'>\n",
            "RangeIndex: 96453 entries, 0 to 96452\n",
            "Data columns (total 13 columns):\n",
            " #   Column                    Non-Null Count  Dtype  \n",
            "---  ------                    --------------  -----  \n",
            " 0   Formatted Date            96453 non-null  object \n",
            " 1   Summary                   96453 non-null  object \n",
            " 2   Precip Type               96453 non-null  object \n",
            " 3   Temperature (C)           96453 non-null  float64\n",
            " 4   Apparent Temperature (C)  96453 non-null  float64\n",
            " 5   Humidity                  96453 non-null  float64\n",
            " 6   Wind Speed (km/h)         96453 non-null  float64\n",
            " 7   Wind Bearing (degrees)    96453 non-null  float64\n",
            " 8   Visibility (km)           96453 non-null  float64\n",
            " 9   Loud Cover                96453 non-null  float64\n",
            " 10  Pressure (millibars)      96453 non-null  float64\n",
            " 11  Daily Summary             96453 non-null  object \n",
            " 12  numbered_percip_type      96453 non-null  object \n",
            "dtypes: float64(8), object(5)\n",
            "memory usage: 9.6+ MB\n"
          ]
        }
      ]
    },
    {
      "cell_type": "code",
      "source": [
        "df.corr()"
      ],
      "metadata": {
        "colab": {
          "base_uri": "https://localhost:8080/",
          "height": 300
        },
        "id": "dHCLLlYM_a0m",
        "outputId": "c36c61a9-b10a-4480-f1bf-41a372648956"
      },
      "execution_count": null,
      "outputs": [
        {
          "output_type": "execute_result",
          "data": {
            "text/plain": [
              "                          Temperature (C)  Apparent Temperature (C)  Humidity  \\\n",
              "Temperature (C)                  1.000000                  0.992629 -0.632255   \n",
              "Apparent Temperature (C)         0.992629                  1.000000 -0.602571   \n",
              "Humidity                        -0.632255                 -0.602571  1.000000   \n",
              "Wind Speed (km/h)                0.008957                 -0.056650 -0.224951   \n",
              "Wind Bearing (degrees)           0.029988                  0.029031  0.000735   \n",
              "Visibility (km)                  0.392847                  0.381718 -0.369173   \n",
              "Loud Cover                            NaN                       NaN       NaN   \n",
              "Pressure (millibars)            -0.005447                 -0.000219  0.005454   \n",
              "\n",
              "                          Wind Speed (km/h)  Wind Bearing (degrees)  \\\n",
              "Temperature (C)                    0.008957                0.029988   \n",
              "Apparent Temperature (C)          -0.056650                0.029031   \n",
              "Humidity                          -0.224951                0.000735   \n",
              "Wind Speed (km/h)                  1.000000                0.103822   \n",
              "Wind Bearing (degrees)             0.103822                1.000000   \n",
              "Visibility (km)                    0.100749                0.047594   \n",
              "Loud Cover                              NaN                     NaN   \n",
              "Pressure (millibars)              -0.049263               -0.011651   \n",
              "\n",
              "                          Visibility (km)  Loud Cover  Pressure (millibars)  \n",
              "Temperature (C)                  0.392847         NaN             -0.005447  \n",
              "Apparent Temperature (C)         0.381718         NaN             -0.000219  \n",
              "Humidity                        -0.369173         NaN              0.005454  \n",
              "Wind Speed (km/h)                0.100749         NaN             -0.049263  \n",
              "Wind Bearing (degrees)           0.047594         NaN             -0.011651  \n",
              "Visibility (km)                  1.000000         NaN              0.059818  \n",
              "Loud Cover                            NaN         NaN                   NaN  \n",
              "Pressure (millibars)             0.059818         NaN              1.000000  "
            ],
            "text/html": [
              "\n",
              "  <div id=\"df-99d10d8e-8990-4131-aac2-24c4f72db6b1\">\n",
              "    <div class=\"colab-df-container\">\n",
              "      <div>\n",
              "<style scoped>\n",
              "    .dataframe tbody tr th:only-of-type {\n",
              "        vertical-align: middle;\n",
              "    }\n",
              "\n",
              "    .dataframe tbody tr th {\n",
              "        vertical-align: top;\n",
              "    }\n",
              "\n",
              "    .dataframe thead th {\n",
              "        text-align: right;\n",
              "    }\n",
              "</style>\n",
              "<table border=\"1\" class=\"dataframe\">\n",
              "  <thead>\n",
              "    <tr style=\"text-align: right;\">\n",
              "      <th></th>\n",
              "      <th>Temperature (C)</th>\n",
              "      <th>Apparent Temperature (C)</th>\n",
              "      <th>Humidity</th>\n",
              "      <th>Wind Speed (km/h)</th>\n",
              "      <th>Wind Bearing (degrees)</th>\n",
              "      <th>Visibility (km)</th>\n",
              "      <th>Loud Cover</th>\n",
              "      <th>Pressure (millibars)</th>\n",
              "    </tr>\n",
              "  </thead>\n",
              "  <tbody>\n",
              "    <tr>\n",
              "      <th>Temperature (C)</th>\n",
              "      <td>1.000000</td>\n",
              "      <td>0.992629</td>\n",
              "      <td>-0.632255</td>\n",
              "      <td>0.008957</td>\n",
              "      <td>0.029988</td>\n",
              "      <td>0.392847</td>\n",
              "      <td>NaN</td>\n",
              "      <td>-0.005447</td>\n",
              "    </tr>\n",
              "    <tr>\n",
              "      <th>Apparent Temperature (C)</th>\n",
              "      <td>0.992629</td>\n",
              "      <td>1.000000</td>\n",
              "      <td>-0.602571</td>\n",
              "      <td>-0.056650</td>\n",
              "      <td>0.029031</td>\n",
              "      <td>0.381718</td>\n",
              "      <td>NaN</td>\n",
              "      <td>-0.000219</td>\n",
              "    </tr>\n",
              "    <tr>\n",
              "      <th>Humidity</th>\n",
              "      <td>-0.632255</td>\n",
              "      <td>-0.602571</td>\n",
              "      <td>1.000000</td>\n",
              "      <td>-0.224951</td>\n",
              "      <td>0.000735</td>\n",
              "      <td>-0.369173</td>\n",
              "      <td>NaN</td>\n",
              "      <td>0.005454</td>\n",
              "    </tr>\n",
              "    <tr>\n",
              "      <th>Wind Speed (km/h)</th>\n",
              "      <td>0.008957</td>\n",
              "      <td>-0.056650</td>\n",
              "      <td>-0.224951</td>\n",
              "      <td>1.000000</td>\n",
              "      <td>0.103822</td>\n",
              "      <td>0.100749</td>\n",
              "      <td>NaN</td>\n",
              "      <td>-0.049263</td>\n",
              "    </tr>\n",
              "    <tr>\n",
              "      <th>Wind Bearing (degrees)</th>\n",
              "      <td>0.029988</td>\n",
              "      <td>0.029031</td>\n",
              "      <td>0.000735</td>\n",
              "      <td>0.103822</td>\n",
              "      <td>1.000000</td>\n",
              "      <td>0.047594</td>\n",
              "      <td>NaN</td>\n",
              "      <td>-0.011651</td>\n",
              "    </tr>\n",
              "    <tr>\n",
              "      <th>Visibility (km)</th>\n",
              "      <td>0.392847</td>\n",
              "      <td>0.381718</td>\n",
              "      <td>-0.369173</td>\n",
              "      <td>0.100749</td>\n",
              "      <td>0.047594</td>\n",
              "      <td>1.000000</td>\n",
              "      <td>NaN</td>\n",
              "      <td>0.059818</td>\n",
              "    </tr>\n",
              "    <tr>\n",
              "      <th>Loud Cover</th>\n",
              "      <td>NaN</td>\n",
              "      <td>NaN</td>\n",
              "      <td>NaN</td>\n",
              "      <td>NaN</td>\n",
              "      <td>NaN</td>\n",
              "      <td>NaN</td>\n",
              "      <td>NaN</td>\n",
              "      <td>NaN</td>\n",
              "    </tr>\n",
              "    <tr>\n",
              "      <th>Pressure (millibars)</th>\n",
              "      <td>-0.005447</td>\n",
              "      <td>-0.000219</td>\n",
              "      <td>0.005454</td>\n",
              "      <td>-0.049263</td>\n",
              "      <td>-0.011651</td>\n",
              "      <td>0.059818</td>\n",
              "      <td>NaN</td>\n",
              "      <td>1.000000</td>\n",
              "    </tr>\n",
              "  </tbody>\n",
              "</table>\n",
              "</div>\n",
              "      <button class=\"colab-df-convert\" onclick=\"convertToInteractive('df-99d10d8e-8990-4131-aac2-24c4f72db6b1')\"\n",
              "              title=\"Convert this dataframe to an interactive table.\"\n",
              "              style=\"display:none;\">\n",
              "        \n",
              "  <svg xmlns=\"http://www.w3.org/2000/svg\" height=\"24px\"viewBox=\"0 0 24 24\"\n",
              "       width=\"24px\">\n",
              "    <path d=\"M0 0h24v24H0V0z\" fill=\"none\"/>\n",
              "    <path d=\"M18.56 5.44l.94 2.06.94-2.06 2.06-.94-2.06-.94-.94-2.06-.94 2.06-2.06.94zm-11 1L8.5 8.5l.94-2.06 2.06-.94-2.06-.94L8.5 2.5l-.94 2.06-2.06.94zm10 10l.94 2.06.94-2.06 2.06-.94-2.06-.94-.94-2.06-.94 2.06-2.06.94z\"/><path d=\"M17.41 7.96l-1.37-1.37c-.4-.4-.92-.59-1.43-.59-.52 0-1.04.2-1.43.59L10.3 9.45l-7.72 7.72c-.78.78-.78 2.05 0 2.83L4 21.41c.39.39.9.59 1.41.59.51 0 1.02-.2 1.41-.59l7.78-7.78 2.81-2.81c.8-.78.8-2.07 0-2.86zM5.41 20L4 18.59l7.72-7.72 1.47 1.35L5.41 20z\"/>\n",
              "  </svg>\n",
              "      </button>\n",
              "      \n",
              "  <style>\n",
              "    .colab-df-container {\n",
              "      display:flex;\n",
              "      flex-wrap:wrap;\n",
              "      gap: 12px;\n",
              "    }\n",
              "\n",
              "    .colab-df-convert {\n",
              "      background-color: #E8F0FE;\n",
              "      border: none;\n",
              "      border-radius: 50%;\n",
              "      cursor: pointer;\n",
              "      display: none;\n",
              "      fill: #1967D2;\n",
              "      height: 32px;\n",
              "      padding: 0 0 0 0;\n",
              "      width: 32px;\n",
              "    }\n",
              "\n",
              "    .colab-df-convert:hover {\n",
              "      background-color: #E2EBFA;\n",
              "      box-shadow: 0px 1px 2px rgba(60, 64, 67, 0.3), 0px 1px 3px 1px rgba(60, 64, 67, 0.15);\n",
              "      fill: #174EA6;\n",
              "    }\n",
              "\n",
              "    [theme=dark] .colab-df-convert {\n",
              "      background-color: #3B4455;\n",
              "      fill: #D2E3FC;\n",
              "    }\n",
              "\n",
              "    [theme=dark] .colab-df-convert:hover {\n",
              "      background-color: #434B5C;\n",
              "      box-shadow: 0px 1px 3px 1px rgba(0, 0, 0, 0.15);\n",
              "      filter: drop-shadow(0px 1px 2px rgba(0, 0, 0, 0.3));\n",
              "      fill: #FFFFFF;\n",
              "    }\n",
              "  </style>\n",
              "\n",
              "      <script>\n",
              "        const buttonEl =\n",
              "          document.querySelector('#df-99d10d8e-8990-4131-aac2-24c4f72db6b1 button.colab-df-convert');\n",
              "        buttonEl.style.display =\n",
              "          google.colab.kernel.accessAllowed ? 'block' : 'none';\n",
              "\n",
              "        async function convertToInteractive(key) {\n",
              "          const element = document.querySelector('#df-99d10d8e-8990-4131-aac2-24c4f72db6b1');\n",
              "          const dataTable =\n",
              "            await google.colab.kernel.invokeFunction('convertToInteractive',\n",
              "                                                     [key], {});\n",
              "          if (!dataTable) return;\n",
              "\n",
              "          const docLinkHtml = 'Like what you see? Visit the ' +\n",
              "            '<a target=\"_blank\" href=https://colab.research.google.com/notebooks/data_table.ipynb>data table notebook</a>'\n",
              "            + ' to learn more about interactive tables.';\n",
              "          element.innerHTML = '';\n",
              "          dataTable['output_type'] = 'display_data';\n",
              "          await google.colab.output.renderOutput(dataTable, element);\n",
              "          const docLink = document.createElement('div');\n",
              "          docLink.innerHTML = docLinkHtml;\n",
              "          element.appendChild(docLink);\n",
              "        }\n",
              "      </script>\n",
              "    </div>\n",
              "  </div>\n",
              "  "
            ]
          },
          "metadata": {},
          "execution_count": 45
        }
      ]
    },
    {
      "cell_type": "markdown",
      "source": [
        "### Data visualization\n"
      ],
      "metadata": {
        "id": "uySDHP8x7rMG"
      }
    },
    {
      "cell_type": "markdown",
      "source": [
        "בפרק הזה אציג גרפים המקשרים בין הנתונים בדאטה סט, וגרפים המייצגים את הנתונים בפני עצמם (התפלגות, ספירה). \n",
        "\n",
        "אציג סוגי גרפים רבים ובינהם: COUNT, SCATTER, KDE, HISTOGRAM\n",
        "ועוד.\n",
        "\n",
        "הגרפים יוצגו באמצעות סיפריית SEABORN. "
      ],
      "metadata": {
        "id": "LZg6pYjHSNy7"
      }
    },
    {
      "cell_type": "code",
      "source": [
        "sns.countplot(x='Loud Cover',data=df);"
      ],
      "metadata": {
        "colab": {
          "base_uri": "https://localhost:8080/"
        },
        "id": "JxLQeQlhXcM8",
        "outputId": "75123213-4a3f-42dc-b3a6-f9a817047acd"
      },
      "execution_count": null,
      "outputs": [
        {
          "output_type": "display_data",
          "data": {
            "text/plain": [
              "<Figure size 432x288 with 1 Axes>"
            ],
            "image/png": "[encoded data removed]"
          },
          "metadata": {
            "needs_background": "light"
          }
        }
      ]
    },
    {
      "cell_type": "code",
      "source": [
        "sns.countplot(x='Precip Type',data=df);"
      ],
      "metadata": {
        "id": "7CTYs_GpG5GI",
        "colab": {
          "base_uri": "https://localhost:8080/"
        },
        "outputId": "22585dcd-84c8-4000-c1bd-85ca83db1abf"
      },
      "execution_count": null,
      "outputs": [
        {
          "output_type": "display_data",
          "data": {
            "text/plain": [
              "<Figure size 432x288 with 1 Axes>"
            ],
            "image/png": "[encoded data removed]"
          },
          "metadata": {
            "needs_background": "light"
          }
        }
      ]
    },
    {
      "cell_type": "code",
      "source": [
        "df.plot(kind='scatter', x='Humidity', y='numbered_percip_type', figsize=(6,6))"
      ],
      "metadata": {
        "colab": {
          "base_uri": "https://localhost:8080/"
        },
        "id": "fzvT-u6ORpng",
        "outputId": "18d676c6-b99b-4656-aa19-9c2eb8b74cf1"
      },
      "execution_count": null,
      "outputs": [
        {
          "output_type": "execute_result",
          "data": {
            "text/plain": [
              "<matplotlib.axes._subplots.AxesSubplot at 0x7f16d97ccfd0>"
            ]
          },
          "metadata": {},
          "execution_count": 14
        },
        {
          "output_type": "display_data",
          "data": {
            "text/plain": [
              "<Figure size 432x432 with 1 Axes>"
            ],
            "image/png": "[encoded data removed]"
          },
          "metadata": {
            "needs_background": "light"
          }
        }
      ]
    },
    {
      "cell_type": "code",
      "source": [
        "df.plot(kind='scatter', x='Temperature (C)', y='numbered_percip_type', figsize=(6,6))"
      ],
      "metadata": {
        "colab": {
          "base_uri": "https://localhost:8080/"
        },
        "id": "SpjqWKd5R_xo",
        "outputId": "fe78ca43-f2d2-4ef0-d2f0-0b8607831948"
      },
      "execution_count": null,
      "outputs": [
        {
          "output_type": "execute_result",
          "data": {
            "text/plain": [
              "<matplotlib.axes._subplots.AxesSubplot at 0x7f16d96d9310>"
            ]
          },
          "metadata": {},
          "execution_count": 15
        },
        {
          "output_type": "display_data",
          "data": {
            "text/plain": [
              "<Figure size 432x432 with 1 Axes>"
            ],
            "image/png": "[encoded data removed]"
          },
          "metadata": {
            "needs_background": "light"
          }
        }
      ]
    },
    {
      "cell_type": "code",
      "source": [
        "df.plot(kind='scatter', x='Apparent Temperature (C)', y='numbered_percip_type', figsize=(6,6))"
      ],
      "metadata": {
        "colab": {
          "base_uri": "https://localhost:8080/"
        },
        "id": "BFyNHlmF_rQe",
        "outputId": "70efbcd7-39b9-4041-fcf4-864fe331c6a1"
      },
      "execution_count": null,
      "outputs": [
        {
          "output_type": "execute_result",
          "data": {
            "text/plain": [
              "<matplotlib.axes._subplots.AxesSubplot at 0x7f16d965bd90>"
            ]
          },
          "metadata": {},
          "execution_count": 16
        },
        {
          "output_type": "display_data",
          "data": {
            "text/plain": [
              "<Figure size 432x432 with 1 Axes>"
            ],
            "image/png": "[encoded data removed]"
          },
          "metadata": {
            "needs_background": "light"
          }
        }
      ]
    },
    {
      "cell_type": "code",
      "source": [
        "df.plot(kind='scatter', x='Wind Speed (km/h)', y='numbered_percip_type', figsize=(6,6))"
      ],
      "metadata": {
        "colab": {
          "base_uri": "https://localhost:8080/"
        },
        "id": "KodVrNnaCzqI",
        "outputId": "e53dfd1e-0e04-4b01-add4-d147d1421b76"
      },
      "execution_count": null,
      "outputs": [
        {
          "output_type": "execute_result",
          "data": {
            "text/plain": [
              "<matplotlib.axes._subplots.AxesSubplot at 0x7f16d963ce50>"
            ]
          },
          "metadata": {},
          "execution_count": 17
        },
        {
          "output_type": "display_data",
          "data": {
            "text/plain": [
              "<Figure size 432x432 with 1 Axes>"
            ],
            "image/png": "[encoded data removed]"
          },
          "metadata": {
            "needs_background": "light"
          }
        }
      ]
    },
    {
      "cell_type": "code",
      "source": [
        "df.plot(kind='scatter', x='Visibility (km)', y='numbered_percip_type', figsize=(6,6))"
      ],
      "metadata": {
        "colab": {
          "base_uri": "https://localhost:8080/"
        },
        "id": "_lnPvuDPDWgP",
        "outputId": "1a6d3df3-0300-449a-baa5-74f04022ab07"
      },
      "execution_count": null,
      "outputs": [
        {
          "output_type": "execute_result",
          "data": {
            "text/plain": [
              "<matplotlib.axes._subplots.AxesSubplot at 0x7f16d95b2c10>"
            ]
          },
          "metadata": {},
          "execution_count": 18
        },
        {
          "output_type": "display_data",
          "data": {
            "text/plain": [
              "<Figure size 432x432 with 1 Axes>"
            ],
            "image/png": "[encoded data removed]"
          },
          "metadata": {
            "needs_background": "light"
          }
        }
      ]
    },
    {
      "cell_type": "code",
      "source": [
        "df.plot(kind='scatter', x='Pressure (millibars)', y='numbered_percip_type', figsize=(6,6))"
      ],
      "metadata": {
        "colab": {
          "base_uri": "https://localhost:8080/"
        },
        "id": "FZordOuMDv0I",
        "outputId": "48efd3d6-a7a9-4e62-fcfe-d67ae9504404"
      },
      "execution_count": null,
      "outputs": [
        {
          "output_type": "execute_result",
          "data": {
            "text/plain": [
              "<matplotlib.axes._subplots.AxesSubplot at 0x7f16d951fcd0>"
            ]
          },
          "metadata": {},
          "execution_count": 19
        },
        {
          "output_type": "display_data",
          "data": {
            "text/plain": [
              "<Figure size 432x432 with 1 Axes>"
            ],
            "image/png": "[encoded data removed]"
          },
          "metadata": {
            "needs_background": "light"
          }
        }
      ]
    },
    {
      "cell_type": "code",
      "source": [
        "df['Temperature (C)'].plot(kind='kde', figsize=(20,10))"
      ],
      "metadata": {
        "colab": {
          "base_uri": "https://localhost:8080/"
        },
        "id": "KjH2oEcROw5K",
        "outputId": "19136016-832f-42f0-97fa-0f9ffeb5a053"
      },
      "execution_count": null,
      "outputs": [
        {
          "output_type": "execute_result",
          "data": {
            "text/plain": [
              "<matplotlib.axes._subplots.AxesSubplot at 0x7f16d95285d0>"
            ]
          },
          "metadata": {},
          "execution_count": 20
        },
        {
          "output_type": "display_data",
          "data": {
            "text/plain": [
              "<Figure size 1440x720 with 1 Axes>"
            ],
            "image/png": "[encoded data removed]"
          },
          "metadata": {
            "needs_background": "light"
          }
        }
      ]
    },
    {
      "cell_type": "markdown",
      "source": [
        "**אין התפלגות נורמלית כמו בקודם**"
      ],
      "metadata": {
        "id": "rbRTR7Cm4hBp"
      }
    },
    {
      "cell_type": "code",
      "source": [
        "df['Humidity'].plot(kind='hist',bins=50, figsize=(20,10))"
      ],
      "metadata": {
        "colab": {
          "base_uri": "https://localhost:8080/"
        },
        "id": "xLhWbb2VRV3x",
        "outputId": "d4958160-d689-468d-897c-51b59644371e"
      },
      "execution_count": null,
      "outputs": [
        {
          "output_type": "execute_result",
          "data": {
            "text/plain": [
              "<matplotlib.axes._subplots.AxesSubplot at 0x7f16d948cbd0>"
            ]
          },
          "metadata": {},
          "execution_count": 21
        },
        {
          "output_type": "display_data",
          "data": {
            "text/plain": [
              "<Figure size 1440x720 with 1 Axes>"
            ],
            "image/png": "[encoded data removed]"
          },
          "metadata": {
            "needs_background": "light"
          }
        }
      ]
    },
    {
      "cell_type": "code",
      "source": [
        "sns.displot(df['numbered_percip_type'],kde=True,color='green',bins=2);"
      ],
      "metadata": {
        "colab": {
          "base_uri": "https://localhost:8080/"
        },
        "id": "qF_j3aq7f1no",
        "outputId": "2710b9d3-b729-4777-d7c8-0b9976f2f735"
      },
      "execution_count": null,
      "outputs": [
        {
          "output_type": "display_data",
          "data": {
            "text/plain": [
              "<Figure size 360x360 with 1 Axes>"
            ],
            "image/png": "[encoded data removed]"
          },
          "metadata": {
            "needs_background": "light"
          }
        }
      ]
    },
    {
      "cell_type": "code",
      "source": [
        "plt.figure(figsize=(15, 15))\n",
        "sns.boxplot(x='Humidity',y='Temperature (C)',data=df);"
      ],
      "metadata": {
        "colab": {
          "base_uri": "https://localhost:8080/"
        },
        "id": "SZImjOLkG4bw",
        "outputId": "f85aa060-39d9-46ea-c710-e788b3e4f2af"
      },
      "execution_count": null,
      "outputs": [
        {
          "output_type": "display_data",
          "data": {
            "text/plain": [
              "<Figure size 1080x1080 with 1 Axes>"
            ],
            "image/png": "[encoded data removed]"
          },
          "metadata": {
            "needs_background": "light"
          }
        }
      ]
    },
    {
      "cell_type": "code",
      "source": [
        "plt.figure(figsize = (15,10))\n",
        "sns.kdeplot(y='Pressure (millibars)',data=df, hue='numbered_percip_type',palette='viridis');"
      ],
      "metadata": {
        "colab": {
          "base_uri": "https://localhost:8080/"
        },
        "id": "1Z-b7oVxHnOn",
        "outputId": "5bfd659b-f82f-460d-b280-44078a1134b3"
      },
      "execution_count": null,
      "outputs": [
        {
          "output_type": "display_data",
          "data": {
            "text/plain": [
              "<Figure size 1080x720 with 1 Axes>"
            ],
            "image/png": "[encoded data removed]"
          },
          "metadata": {
            "needs_background": "light"
          }
        }
      ]
    },
    {
      "cell_type": "markdown",
      "source": [
        "### Data cleaning"
      ],
      "metadata": {
        "id": "LBwBn9JYIKVR"
      }
    },
    {
      "cell_type": "markdown",
      "source": [
        "ניקוי הנתונים. בפרק זה אנקה את הנתונים מתאים ריקים. כפי שאראה בהמשך, רק בעמודת המשקעים יש תאים ריקים. אך לא צריך להשמיט את השורות, אלא למלא את התאים הריקים ב CLEAR, כלומר אין משקעים."
      ],
      "metadata": {
        "id": "gUNYRug6aqCX"
      }
    },
    {
      "cell_type": "code",
      "source": [
        "df.drop('numbered_percip_type', axis=1,inplace=True)"
      ],
      "metadata": {
        "id": "DzvF65Fy7S8I"
      },
      "execution_count": null,
      "outputs": []
    },
    {
      "cell_type": "code",
      "source": [
        "df.info()"
      ],
      "metadata": {
        "colab": {
          "base_uri": "https://localhost:8080/"
        },
        "id": "unHqNddWtOSK",
        "outputId": "8f963f3d-6f4c-4648-98b7-70703edd90db"
      },
      "execution_count": null,
      "outputs": [
        {
          "output_type": "stream",
          "name": "stdout",
          "text": [
            "<class 'pandas.core.frame.DataFrame'>\n",
            "RangeIndex: 96453 entries, 0 to 96452\n",
            "Data columns (total 12 columns):\n",
            " #   Column                    Non-Null Count  Dtype  \n",
            "---  ------                    --------------  -----  \n",
            " 0   Formatted Date            96453 non-null  object \n",
            " 1   Summary                   96453 non-null  object \n",
            " 2   Precip Type               96453 non-null  object \n",
            " 3   Temperature (C)           96453 non-null  float64\n",
            " 4   Apparent Temperature (C)  96453 non-null  float64\n",
            " 5   Humidity                  96453 non-null  float64\n",
            " 6   Wind Speed (km/h)         96453 non-null  float64\n",
            " 7   Wind Bearing (degrees)    96453 non-null  float64\n",
            " 8   Visibility (km)           96453 non-null  float64\n",
            " 9   Loud Cover                96453 non-null  float64\n",
            " 10  Pressure (millibars)      96453 non-null  float64\n",
            " 11  Daily Summary             96453 non-null  object \n",
            "dtypes: float64(8), object(4)\n",
            "memory usage: 8.8+ MB\n"
          ]
        }
      ]
    },
    {
      "cell_type": "markdown",
      "source": [
        "יש תאים ריקים בעמודה של סוג המשקע. בדרך כלל הייתי פשוט מסיר את השורות, אבל סביר שהתכוונו שאם אין ערך, לא היו משקעים, ולכן אכניס לכל תאי ה NAN, CLEAR"
      ],
      "metadata": {
        "id": "Tz5KNqax5aWT"
      }
    },
    {
      "cell_type": "code",
      "source": [
        "null_rows=df[df['Precip Type'].isnull()]\n",
        "null_rows.head()"
      ],
      "metadata": {
        "colab": {
          "base_uri": "https://localhost:8080/",
          "height": 111
        },
        "id": "JYP5BCr_6kOB",
        "outputId": "2752b17d-239a-4056-9bea-9a61e85ea283"
      },
      "execution_count": null,
      "outputs": [
        {
          "output_type": "execute_result",
          "data": {
            "text/plain": [
              "Empty DataFrame\n",
              "Columns: [Formatted Date, Summary, Precip Type, Temperature (C), Apparent Temperature (C), Humidity, Wind Speed (km/h), Wind Bearing (degrees), Visibility (km), Loud Cover, Pressure (millibars), Daily Summary]\n",
              "Index: []"
            ],
            "text/html": [
              "\n",
              "  <div id=\"df-36bee478-bd9a-458a-9689-d2a433fcfc6f\">\n",
              "    <div class=\"colab-df-container\">\n",
              "      <div>\n",
              "<style scoped>\n",
              "    .dataframe tbody tr th:only-of-type {\n",
              "        vertical-align: middle;\n",
              "    }\n",
              "\n",
              "    .dataframe tbody tr th {\n",
              "        vertical-align: top;\n",
              "    }\n",
              "\n",
              "    .dataframe thead th {\n",
              "        text-align: right;\n",
              "    }\n",
              "</style>\n",
              "<table border=\"1\" class=\"dataframe\">\n",
              "  <thead>\n",
              "    <tr style=\"text-align: right;\">\n",
              "      <th></th>\n",
              "      <th>Formatted Date</th>\n",
              "      <th>Summary</th>\n",
              "      <th>Precip Type</th>\n",
              "      <th>Temperature (C)</th>\n",
              "      <th>Apparent Temperature (C)</th>\n",
              "      <th>Humidity</th>\n",
              "      <th>Wind Speed (km/h)</th>\n",
              "      <th>Wind Bearing (degrees)</th>\n",
              "      <th>Visibility (km)</th>\n",
              "      <th>Loud Cover</th>\n",
              "      <th>Pressure (millibars)</th>\n",
              "      <th>Daily Summary</th>\n",
              "    </tr>\n",
              "  </thead>\n",
              "  <tbody>\n",
              "  </tbody>\n",
              "</table>\n",
              "</div>\n",
              "      <button class=\"colab-df-convert\" onclick=\"convertToInteractive('df-36bee478-bd9a-458a-9689-d2a433fcfc6f')\"\n",
              "              title=\"Convert this dataframe to an interactive table.\"\n",
              "              style=\"display:none;\">\n",
              "        \n",
              "  <svg xmlns=\"http://www.w3.org/2000/svg\" height=\"24px\"viewBox=\"0 0 24 24\"\n",
              "       width=\"24px\">\n",
              "    <path d=\"M0 0h24v24H0V0z\" fill=\"none\"/>\n",
              "    <path d=\"M18.56 5.44l.94 2.06.94-2.06 2.06-.94-2.06-.94-.94-2.06-.94 2.06-2.06.94zm-11 1L8.5 8.5l.94-2.06 2.06-.94-2.06-.94L8.5 2.5l-.94 2.06-2.06.94zm10 10l.94 2.06.94-2.06 2.06-.94-2.06-.94-.94-2.06-.94 2.06-2.06.94z\"/><path d=\"M17.41 7.96l-1.37-1.37c-.4-.4-.92-.59-1.43-.59-.52 0-1.04.2-1.43.59L10.3 9.45l-7.72 7.72c-.78.78-.78 2.05 0 2.83L4 21.41c.39.39.9.59 1.41.59.51 0 1.02-.2 1.41-.59l7.78-7.78 2.81-2.81c.8-.78.8-2.07 0-2.86zM5.41 20L4 18.59l7.72-7.72 1.47 1.35L5.41 20z\"/>\n",
              "  </svg>\n",
              "      </button>\n",
              "      \n",
              "  <style>\n",
              "    .colab-df-container {\n",
              "      display:flex;\n",
              "      flex-wrap:wrap;\n",
              "      gap: 12px;\n",
              "    }\n",
              "\n",
              "    .colab-df-convert {\n",
              "      background-color: #E8F0FE;\n",
              "      border: none;\n",
              "      border-radius: 50%;\n",
              "      cursor: pointer;\n",
              "      display: none;\n",
              "      fill: #1967D2;\n",
              "      height: 32px;\n",
              "      padding: 0 0 0 0;\n",
              "      width: 32px;\n",
              "    }\n",
              "\n",
              "    .colab-df-convert:hover {\n",
              "      background-color: #E2EBFA;\n",
              "      box-shadow: 0px 1px 2px rgba(60, 64, 67, 0.3), 0px 1px 3px 1px rgba(60, 64, 67, 0.15);\n",
              "      fill: #174EA6;\n",
              "    }\n",
              "\n",
              "    [theme=dark] .colab-df-convert {\n",
              "      background-color: #3B4455;\n",
              "      fill: #D2E3FC;\n",
              "    }\n",
              "\n",
              "    [theme=dark] .colab-df-convert:hover {\n",
              "      background-color: #434B5C;\n",
              "      box-shadow: 0px 1px 3px 1px rgba(0, 0, 0, 0.15);\n",
              "      filter: drop-shadow(0px 1px 2px rgba(0, 0, 0, 0.3));\n",
              "      fill: #FFFFFF;\n",
              "    }\n",
              "  </style>\n",
              "\n",
              "      <script>\n",
              "        const buttonEl =\n",
              "          document.querySelector('#df-36bee478-bd9a-458a-9689-d2a433fcfc6f button.colab-df-convert');\n",
              "        buttonEl.style.display =\n",
              "          google.colab.kernel.accessAllowed ? 'block' : 'none';\n",
              "\n",
              "        async function convertToInteractive(key) {\n",
              "          const element = document.querySelector('#df-36bee478-bd9a-458a-9689-d2a433fcfc6f');\n",
              "          const dataTable =\n",
              "            await google.colab.kernel.invokeFunction('convertToInteractive',\n",
              "                                                     [key], {});\n",
              "          if (!dataTable) return;\n",
              "\n",
              "          const docLinkHtml = 'Like what you see? Visit the ' +\n",
              "            '<a target=\"_blank\" href=https://colab.research.google.com/notebooks/data_table.ipynb>data table notebook</a>'\n",
              "            + ' to learn more about interactive tables.';\n",
              "          element.innerHTML = '';\n",
              "          dataTable['output_type'] = 'display_data';\n",
              "          await google.colab.output.renderOutput(dataTable, element);\n",
              "          const docLink = document.createElement('div');\n",
              "          docLink.innerHTML = docLinkHtml;\n",
              "          element.appendChild(docLink);\n",
              "        }\n",
              "      </script>\n",
              "    </div>\n",
              "  </div>\n",
              "  "
            ]
          },
          "metadata": {},
          "execution_count": 48
        }
      ]
    },
    {
      "cell_type": "code",
      "source": [
        "df['Precip Type'].fillna('clear',inplace=True)"
      ],
      "metadata": {
        "id": "kXzorsP46uOI"
      },
      "execution_count": null,
      "outputs": []
    },
    {
      "cell_type": "code",
      "source": [
        "df['Precip Type'].isnull().sum()"
      ],
      "metadata": {
        "colab": {
          "base_uri": "https://localhost:8080/"
        },
        "id": "xu5NAp3x7Crw",
        "outputId": "93dcddbf-3da8-4d6d-a855-dd7b9b8dfb1a"
      },
      "execution_count": null,
      "outputs": [
        {
          "output_type": "execute_result",
          "data": {
            "text/plain": [
              "0"
            ]
          },
          "metadata": {},
          "execution_count": 50
        }
      ]
    },
    {
      "cell_type": "code",
      "source": [
        "df[\"Precip Type\"][52672]"
      ],
      "metadata": {
        "colab": {
          "base_uri": "https://localhost:8080/",
          "height": 35
        },
        "id": "ovy5Mu58f-MT",
        "outputId": "d361de38-ccbc-4679-c33d-fd4114149466"
      },
      "execution_count": null,
      "outputs": [
        {
          "output_type": "execute_result",
          "data": {
            "text/plain": [
              "'clear'"
            ],
            "application/vnd.google.colaboratory.intrinsic+json": {
              "type": "string"
            }
          },
          "metadata": {},
          "execution_count": 51
        }
      ]
    },
    {
      "cell_type": "markdown",
      "source": [
        "### Feature engineering"
      ],
      "metadata": {
        "id": "c4Qc0fTf8Lqg"
      }
    },
    {
      "cell_type": "markdown",
      "source": [
        "בפרק הזה אטפל בעמודות- הפרמטרים. אפרק את נתוני התאריך לפי חודש- הדבר היחיד שרלוונטי, אפריד בין החודשים כדי לשמור על לינאריות הנתונים ואוריד עמודות לא רלוונטיות או שגויות. אפרט לפני כל מהלך על הסיבות המדויקות."
      ],
      "metadata": {
        "id": "HooAWSercl9f"
      }
    },
    {
      "cell_type": "code",
      "source": [
        "df['Month']=0\n",
        "for i in range (96453):\n",
        "  if df['Formatted Date'][i][5]=='-':\n",
        "    df['Month'][i]=(int)(df['Formatted Date'][i][6])\n",
        "  else:\n",
        "    df['Month'][i]=(int)(df['Formatted Date'][i][5])*10+(int)(df['Formatted Date'][i][6])"
      ],
      "metadata": {
        "colab": {
          "base_uri": "https://localhost:8080/"
        },
        "id": "lsFz722XIO5w",
        "outputId": "3e37c57b-7cee-4a37-eb16-4e721b84a6a4"
      },
      "execution_count": null,
      "outputs": [
        {
          "output_type": "stream",
          "name": "stderr",
          "text": [
            "/usr/local/lib/python3.7/dist-packages/ipykernel_launcher.py:6: SettingWithCopyWarning: \n",
            "A value is trying to be set on a copy of a slice from a DataFrame\n",
            "\n",
            "See the caveats in the documentation: https://pandas.pydata.org/pandas-docs/stable/user_guide/indexing.html#returning-a-view-versus-a-copy\n",
            "  \n"
          ]
        }
      ]
    },
    {
      "cell_type": "code",
      "source": [
        "df.loc[df['Month']==0]"
      ],
      "metadata": {
        "colab": {
          "base_uri": "https://localhost:8080/",
          "height": 111
        },
        "id": "q7lh6Yb5_3pj",
        "outputId": "8f374cb1-50d7-4188-dea4-0f042f665655"
      },
      "execution_count": null,
      "outputs": [
        {
          "output_type": "execute_result",
          "data": {
            "text/plain": [
              "Empty DataFrame\n",
              "Columns: [Formatted Date, Summary, Precip Type, Temperature (C), Apparent Temperature (C), Humidity, Wind Speed (km/h), Wind Bearing (degrees), Visibility (km), Loud Cover, Pressure (millibars), Daily Summary, Month]\n",
              "Index: []"
            ],
            "text/html": [
              "\n",
              "  <div id=\"df-7a5229f9-1ad4-40a2-83d8-bc83e8f79239\">\n",
              "    <div class=\"colab-df-container\">\n",
              "      <div>\n",
              "<style scoped>\n",
              "    .dataframe tbody tr th:only-of-type {\n",
              "        vertical-align: middle;\n",
              "    }\n",
              "\n",
              "    .dataframe tbody tr th {\n",
              "        vertical-align: top;\n",
              "    }\n",
              "\n",
              "    .dataframe thead th {\n",
              "        text-align: right;\n",
              "    }\n",
              "</style>\n",
              "<table border=\"1\" class=\"dataframe\">\n",
              "  <thead>\n",
              "    <tr style=\"text-align: right;\">\n",
              "      <th></th>\n",
              "      <th>Formatted Date</th>\n",
              "      <th>Summary</th>\n",
              "      <th>Precip Type</th>\n",
              "      <th>Temperature (C)</th>\n",
              "      <th>Apparent Temperature (C)</th>\n",
              "      <th>Humidity</th>\n",
              "      <th>Wind Speed (km/h)</th>\n",
              "      <th>Wind Bearing (degrees)</th>\n",
              "      <th>Visibility (km)</th>\n",
              "      <th>Loud Cover</th>\n",
              "      <th>Pressure (millibars)</th>\n",
              "      <th>Daily Summary</th>\n",
              "      <th>Month</th>\n",
              "    </tr>\n",
              "  </thead>\n",
              "  <tbody>\n",
              "  </tbody>\n",
              "</table>\n",
              "</div>\n",
              "      <button class=\"colab-df-convert\" onclick=\"convertToInteractive('df-7a5229f9-1ad4-40a2-83d8-bc83e8f79239')\"\n",
              "              title=\"Convert this dataframe to an interactive table.\"\n",
              "              style=\"display:none;\">\n",
              "        \n",
              "  <svg xmlns=\"http://www.w3.org/2000/svg\" height=\"24px\"viewBox=\"0 0 24 24\"\n",
              "       width=\"24px\">\n",
              "    <path d=\"M0 0h24v24H0V0z\" fill=\"none\"/>\n",
              "    <path d=\"M18.56 5.44l.94 2.06.94-2.06 2.06-.94-2.06-.94-.94-2.06-.94 2.06-2.06.94zm-11 1L8.5 8.5l.94-2.06 2.06-.94-2.06-.94L8.5 2.5l-.94 2.06-2.06.94zm10 10l.94 2.06.94-2.06 2.06-.94-2.06-.94-.94-2.06-.94 2.06-2.06.94z\"/><path d=\"M17.41 7.96l-1.37-1.37c-.4-.4-.92-.59-1.43-.59-.52 0-1.04.2-1.43.59L10.3 9.45l-7.72 7.72c-.78.78-.78 2.05 0 2.83L4 21.41c.39.39.9.59 1.41.59.51 0 1.02-.2 1.41-.59l7.78-7.78 2.81-2.81c.8-.78.8-2.07 0-2.86zM5.41 20L4 18.59l7.72-7.72 1.47 1.35L5.41 20z\"/>\n",
              "  </svg>\n",
              "      </button>\n",
              "      \n",
              "  <style>\n",
              "    .colab-df-container {\n",
              "      display:flex;\n",
              "      flex-wrap:wrap;\n",
              "      gap: 12px;\n",
              "    }\n",
              "\n",
              "    .colab-df-convert {\n",
              "      background-color: #E8F0FE;\n",
              "      border: none;\n",
              "      border-radius: 50%;\n",
              "      cursor: pointer;\n",
              "      display: none;\n",
              "      fill: #1967D2;\n",
              "      height: 32px;\n",
              "      padding: 0 0 0 0;\n",
              "      width: 32px;\n",
              "    }\n",
              "\n",
              "    .colab-df-convert:hover {\n",
              "      background-color: #E2EBFA;\n",
              "      box-shadow: 0px 1px 2px rgba(60, 64, 67, 0.3), 0px 1px 3px 1px rgba(60, 64, 67, 0.15);\n",
              "      fill: #174EA6;\n",
              "    }\n",
              "\n",
              "    [theme=dark] .colab-df-convert {\n",
              "      background-color: #3B4455;\n",
              "      fill: #D2E3FC;\n",
              "    }\n",
              "\n",
              "    [theme=dark] .colab-df-convert:hover {\n",
              "      background-color: #434B5C;\n",
              "      box-shadow: 0px 1px 3px 1px rgba(0, 0, 0, 0.15);\n",
              "      filter: drop-shadow(0px 1px 2px rgba(0, 0, 0, 0.3));\n",
              "      fill: #FFFFFF;\n",
              "    }\n",
              "  </style>\n",
              "\n",
              "      <script>\n",
              "        const buttonEl =\n",
              "          document.querySelector('#df-7a5229f9-1ad4-40a2-83d8-bc83e8f79239 button.colab-df-convert');\n",
              "        buttonEl.style.display =\n",
              "          google.colab.kernel.accessAllowed ? 'block' : 'none';\n",
              "\n",
              "        async function convertToInteractive(key) {\n",
              "          const element = document.querySelector('#df-7a5229f9-1ad4-40a2-83d8-bc83e8f79239');\n",
              "          const dataTable =\n",
              "            await google.colab.kernel.invokeFunction('convertToInteractive',\n",
              "                                                     [key], {});\n",
              "          if (!dataTable) return;\n",
              "\n",
              "          const docLinkHtml = 'Like what you see? Visit the ' +\n",
              "            '<a target=\"_blank\" href=https://colab.research.google.com/notebooks/data_table.ipynb>data table notebook</a>'\n",
              "            + ' to learn more about interactive tables.';\n",
              "          element.innerHTML = '';\n",
              "          dataTable['output_type'] = 'display_data';\n",
              "          await google.colab.output.renderOutput(dataTable, element);\n",
              "          const docLink = document.createElement('div');\n",
              "          docLink.innerHTML = docLinkHtml;\n",
              "          element.appendChild(docLink);\n",
              "        }\n",
              "      </script>\n",
              "    </div>\n",
              "  </div>\n",
              "  "
            ]
          },
          "metadata": {},
          "execution_count": 53
        }
      ]
    },
    {
      "cell_type": "code",
      "source": [
        "df['Month']"
      ],
      "metadata": {
        "colab": {
          "base_uri": "https://localhost:8080/"
        },
        "id": "11bKUNC7sR6Q",
        "outputId": "b12f8036-6793-4442-ed21-2e2d6de5557f"
      },
      "execution_count": null,
      "outputs": [
        {
          "output_type": "execute_result",
          "data": {
            "text/plain": [
              "0        4\n",
              "1        4\n",
              "2        4\n",
              "3        4\n",
              "4        4\n",
              "        ..\n",
              "96448    9\n",
              "96449    9\n",
              "96450    9\n",
              "96451    9\n",
              "96452    9\n",
              "Name: Month, Length: 96453, dtype: int64"
            ]
          },
          "metadata": {},
          "execution_count": 54
        }
      ]
    },
    {
      "cell_type": "code",
      "source": [
        "df"
      ],
      "metadata": {
        "colab": {
          "base_uri": "https://localhost:8080/",
          "height": 659
        },
        "id": "GhmDA1pfszeD",
        "outputId": "4cbc3cfe-93bb-4a41-8f25-96c82af1657e"
      },
      "execution_count": null,
      "outputs": [
        {
          "output_type": "execute_result",
          "data": {
            "text/plain": [
              "                      Formatted Date        Summary Precip Type  \\\n",
              "0      2006-04-01 00:00:00.000 +0200  Partly Cloudy        rain   \n",
              "1      2006-04-01 01:00:00.000 +0200  Partly Cloudy        rain   \n",
              "2      2006-04-01 02:00:00.000 +0200  Mostly Cloudy        rain   \n",
              "3      2006-04-01 03:00:00.000 +0200  Partly Cloudy        rain   \n",
              "4      2006-04-01 04:00:00.000 +0200  Mostly Cloudy        rain   \n",
              "...                              ...            ...         ...   \n",
              "96448  2016-09-09 19:00:00.000 +0200  Partly Cloudy        rain   \n",
              "96449  2016-09-09 20:00:00.000 +0200  Partly Cloudy        rain   \n",
              "96450  2016-09-09 21:00:00.000 +0200  Partly Cloudy        rain   \n",
              "96451  2016-09-09 22:00:00.000 +0200  Partly Cloudy        rain   \n",
              "96452  2016-09-09 23:00:00.000 +0200  Partly Cloudy        rain   \n",
              "\n",
              "       Temperature (C)  Apparent Temperature (C)  Humidity  Wind Speed (km/h)  \\\n",
              "0             9.472222                  7.388889      0.89            14.1197   \n",
              "1             9.355556                  7.227778      0.86            14.2646   \n",
              "2             9.377778                  9.377778      0.89             3.9284   \n",
              "3             8.288889                  5.944444      0.83            14.1036   \n",
              "4             8.755556                  6.977778      0.83            11.0446   \n",
              "...                ...                       ...       ...                ...   \n",
              "96448        26.016667                 26.016667      0.43            10.9963   \n",
              "96449        24.583333                 24.583333      0.48            10.0947   \n",
              "96450        22.038889                 22.038889      0.56             8.9838   \n",
              "96451        21.522222                 21.522222      0.60            10.5294   \n",
              "96452        20.438889                 20.438889      0.61             5.8765   \n",
              "\n",
              "       Wind Bearing (degrees)  Visibility (km)  Loud Cover  \\\n",
              "0                       251.0          15.8263         0.0   \n",
              "1                       259.0          15.8263         0.0   \n",
              "2                       204.0          14.9569         0.0   \n",
              "3                       269.0          15.8263         0.0   \n",
              "4                       259.0          15.8263         0.0   \n",
              "...                       ...              ...         ...   \n",
              "96448                    31.0          16.1000         0.0   \n",
              "96449                    20.0          15.5526         0.0   \n",
              "96450                    30.0          16.1000         0.0   \n",
              "96451                    20.0          16.1000         0.0   \n",
              "96452                    39.0          15.5204         0.0   \n",
              "\n",
              "       Pressure (millibars)                           Daily Summary  Month  \n",
              "0                   1015.13       Partly cloudy throughout the day.      4  \n",
              "1                   1015.63       Partly cloudy throughout the day.      4  \n",
              "2                   1015.94       Partly cloudy throughout the day.      4  \n",
              "3                   1016.41       Partly cloudy throughout the day.      4  \n",
              "4                   1016.51       Partly cloudy throughout the day.      4  \n",
              "...                     ...                                     ...    ...  \n",
              "96448               1014.36  Partly cloudy starting in the morning.      9  \n",
              "96449               1015.16  Partly cloudy starting in the morning.      9  \n",
              "96450               1015.66  Partly cloudy starting in the morning.      9  \n",
              "96451               1015.95  Partly cloudy starting in the morning.      9  \n",
              "96452               1016.16  Partly cloudy starting in the morning.      9  \n",
              "\n",
              "[96453 rows x 13 columns]"
            ],
            "text/html": [
              "\n",
              "  <div id=\"df-a7e7b32e-8898-44a0-ac84-a56197aa643f\">\n",
              "    <div class=\"colab-df-container\">\n",
              "      <div>\n",
              "<style scoped>\n",
              "    .dataframe tbody tr th:only-of-type {\n",
              "        vertical-align: middle;\n",
              "    }\n",
              "\n",
              "    .dataframe tbody tr th {\n",
              "        vertical-align: top;\n",
              "    }\n",
              "\n",
              "    .dataframe thead th {\n",
              "        text-align: right;\n",
              "    }\n",
              "</style>\n",
              "<table border=\"1\" class=\"dataframe\">\n",
              "  <thead>\n",
              "    <tr style=\"text-align: right;\">\n",
              "      <th></th>\n",
              "      <th>Formatted Date</th>\n",
              "      <th>Summary</th>\n",
              "      <th>Precip Type</th>\n",
              "      <th>Temperature (C)</th>\n",
              "      <th>Apparent Temperature (C)</th>\n",
              "      <th>Humidity</th>\n",
              "      <th>Wind Speed (km/h)</th>\n",
              "      <th>Wind Bearing (degrees)</th>\n",
              "      <th>Visibility (km)</th>\n",
              "      <th>Loud Cover</th>\n",
              "      <th>Pressure (millibars)</th>\n",
              "      <th>Daily Summary</th>\n",
              "      <th>Month</th>\n",
              "    </tr>\n",
              "  </thead>\n",
              "  <tbody>\n",
              "    <tr>\n",
              "      <th>0</th>\n",
              "      <td>2006-04-01 00:00:00.000 +0200</td>\n",
              "      <td>Partly Cloudy</td>\n",
              "      <td>rain</td>\n",
              "      <td>9.472222</td>\n",
              "      <td>7.388889</td>\n",
              "      <td>0.89</td>\n",
              "      <td>14.1197</td>\n",
              "      <td>251.0</td>\n",
              "      <td>15.8263</td>\n",
              "      <td>0.0</td>\n",
              "      <td>1015.13</td>\n",
              "      <td>Partly cloudy throughout the day.</td>\n",
              "      <td>4</td>\n",
              "    </tr>\n",
              "    <tr>\n",
              "      <th>1</th>\n",
              "      <td>2006-04-01 01:00:00.000 +0200</td>\n",
              "      <td>Partly Cloudy</td>\n",
              "      <td>rain</td>\n",
              "      <td>9.355556</td>\n",
              "      <td>7.227778</td>\n",
              "      <td>0.86</td>\n",
              "      <td>14.2646</td>\n",
              "      <td>259.0</td>\n",
              "      <td>15.8263</td>\n",
              "      <td>0.0</td>\n",
              "      <td>1015.63</td>\n",
              "      <td>Partly cloudy throughout the day.</td>\n",
              "      <td>4</td>\n",
              "    </tr>\n",
              "    <tr>\n",
              "      <th>2</th>\n",
              "      <td>2006-04-01 02:00:00.000 +0200</td>\n",
              "      <td>Mostly Cloudy</td>\n",
              "      <td>rain</td>\n",
              "      <td>9.377778</td>\n",
              "      <td>9.377778</td>\n",
              "      <td>0.89</td>\n",
              "      <td>3.9284</td>\n",
              "      <td>204.0</td>\n",
              "      <td>14.9569</td>\n",
              "      <td>0.0</td>\n",
              "      <td>1015.94</td>\n",
              "      <td>Partly cloudy throughout the day.</td>\n",
              "      <td>4</td>\n",
              "    </tr>\n",
              "    <tr>\n",
              "      <th>3</th>\n",
              "      <td>2006-04-01 03:00:00.000 +0200</td>\n",
              "      <td>Partly Cloudy</td>\n",
              "      <td>rain</td>\n",
              "      <td>8.288889</td>\n",
              "      <td>5.944444</td>\n",
              "      <td>0.83</td>\n",
              "      <td>14.1036</td>\n",
              "      <td>269.0</td>\n",
              "      <td>15.8263</td>\n",
              "      <td>0.0</td>\n",
              "      <td>1016.41</td>\n",
              "      <td>Partly cloudy throughout the day.</td>\n",
              "      <td>4</td>\n",
              "    </tr>\n",
              "    <tr>\n",
              "      <th>4</th>\n",
              "      <td>2006-04-01 04:00:00.000 +0200</td>\n",
              "      <td>Mostly Cloudy</td>\n",
              "      <td>rain</td>\n",
              "      <td>8.755556</td>\n",
              "      <td>6.977778</td>\n",
              "      <td>0.83</td>\n",
              "      <td>11.0446</td>\n",
              "      <td>259.0</td>\n",
              "      <td>15.8263</td>\n",
              "      <td>0.0</td>\n",
              "      <td>1016.51</td>\n",
              "      <td>Partly cloudy throughout the day.</td>\n",
              "      <td>4</td>\n",
              "    </tr>\n",
              "    <tr>\n",
              "      <th>...</th>\n",
              "      <td>...</td>\n",
              "      <td>...</td>\n",
              "      <td>...</td>\n",
              "      <td>...</td>\n",
              "      <td>...</td>\n",
              "      <td>...</td>\n",
              "      <td>...</td>\n",
              "      <td>...</td>\n",
              "      <td>...</td>\n",
              "      <td>...</td>\n",
              "      <td>...</td>\n",
              "      <td>...</td>\n",
              "      <td>...</td>\n",
              "    </tr>\n",
              "    <tr>\n",
              "      <th>96448</th>\n",
              "      <td>2016-09-09 19:00:00.000 +0200</td>\n",
              "      <td>Partly Cloudy</td>\n",
              "      <td>rain</td>\n",
              "      <td>26.016667</td>\n",
              "      <td>26.016667</td>\n",
              "      <td>0.43</td>\n",
              "      <td>10.9963</td>\n",
              "      <td>31.0</td>\n",
              "      <td>16.1000</td>\n",
              "      <td>0.0</td>\n",
              "      <td>1014.36</td>\n",
              "      <td>Partly cloudy starting in the morning.</td>\n",
              "      <td>9</td>\n",
              "    </tr>\n",
              "    <tr>\n",
              "      <th>96449</th>\n",
              "      <td>2016-09-09 20:00:00.000 +0200</td>\n",
              "      <td>Partly Cloudy</td>\n",
              "      <td>rain</td>\n",
              "      <td>24.583333</td>\n",
              "      <td>24.583333</td>\n",
              "      <td>0.48</td>\n",
              "      <td>10.0947</td>\n",
              "      <td>20.0</td>\n",
              "      <td>15.5526</td>\n",
              "      <td>0.0</td>\n",
              "      <td>1015.16</td>\n",
              "      <td>Partly cloudy starting in the morning.</td>\n",
              "      <td>9</td>\n",
              "    </tr>\n",
              "    <tr>\n",
              "      <th>96450</th>\n",
              "      <td>2016-09-09 21:00:00.000 +0200</td>\n",
              "      <td>Partly Cloudy</td>\n",
              "      <td>rain</td>\n",
              "      <td>22.038889</td>\n",
              "      <td>22.038889</td>\n",
              "      <td>0.56</td>\n",
              "      <td>8.9838</td>\n",
              "      <td>30.0</td>\n",
              "      <td>16.1000</td>\n",
              "      <td>0.0</td>\n",
              "      <td>1015.66</td>\n",
              "      <td>Partly cloudy starting in the morning.</td>\n",
              "      <td>9</td>\n",
              "    </tr>\n",
              "    <tr>\n",
              "      <th>96451</th>\n",
              "      <td>2016-09-09 22:00:00.000 +0200</td>\n",
              "      <td>Partly Cloudy</td>\n",
              "      <td>rain</td>\n",
              "      <td>21.522222</td>\n",
              "      <td>21.522222</td>\n",
              "      <td>0.60</td>\n",
              "      <td>10.5294</td>\n",
              "      <td>20.0</td>\n",
              "      <td>16.1000</td>\n",
              "      <td>0.0</td>\n",
              "      <td>1015.95</td>\n",
              "      <td>Partly cloudy starting in the morning.</td>\n",
              "      <td>9</td>\n",
              "    </tr>\n",
              "    <tr>\n",
              "      <th>96452</th>\n",
              "      <td>2016-09-09 23:00:00.000 +0200</td>\n",
              "      <td>Partly Cloudy</td>\n",
              "      <td>rain</td>\n",
              "      <td>20.438889</td>\n",
              "      <td>20.438889</td>\n",
              "      <td>0.61</td>\n",
              "      <td>5.8765</td>\n",
              "      <td>39.0</td>\n",
              "      <td>15.5204</td>\n",
              "      <td>0.0</td>\n",
              "      <td>1016.16</td>\n",
              "      <td>Partly cloudy starting in the morning.</td>\n",
              "      <td>9</td>\n",
              "    </tr>\n",
              "  </tbody>\n",
              "</table>\n",
              "<p>96453 rows × 13 columns</p>\n",
              "</div>\n",
              "      <button class=\"colab-df-convert\" onclick=\"convertToInteractive('df-a7e7b32e-8898-44a0-ac84-a56197aa643f')\"\n",
              "              title=\"Convert this dataframe to an interactive table.\"\n",
              "              style=\"display:none;\">\n",
              "        \n",
              "  <svg xmlns=\"http://www.w3.org/2000/svg\" height=\"24px\"viewBox=\"0 0 24 24\"\n",
              "       width=\"24px\">\n",
              "    <path d=\"M0 0h24v24H0V0z\" fill=\"none\"/>\n",
              "    <path d=\"M18.56 5.44l.94 2.06.94-2.06 2.06-.94-2.06-.94-.94-2.06-.94 2.06-2.06.94zm-11 1L8.5 8.5l.94-2.06 2.06-.94-2.06-.94L8.5 2.5l-.94 2.06-2.06.94zm10 10l.94 2.06.94-2.06 2.06-.94-2.06-.94-.94-2.06-.94 2.06-2.06.94z\"/><path d=\"M17.41 7.96l-1.37-1.37c-.4-.4-.92-.59-1.43-.59-.52 0-1.04.2-1.43.59L10.3 9.45l-7.72 7.72c-.78.78-.78 2.05 0 2.83L4 21.41c.39.39.9.59 1.41.59.51 0 1.02-.2 1.41-.59l7.78-7.78 2.81-2.81c.8-.78.8-2.07 0-2.86zM5.41 20L4 18.59l7.72-7.72 1.47 1.35L5.41 20z\"/>\n",
              "  </svg>\n",
              "      </button>\n",
              "      \n",
              "  <style>\n",
              "    .colab-df-container {\n",
              "      display:flex;\n",
              "      flex-wrap:wrap;\n",
              "      gap: 12px;\n",
              "    }\n",
              "\n",
              "    .colab-df-convert {\n",
              "      background-color: #E8F0FE;\n",
              "      border: none;\n",
              "      border-radius: 50%;\n",
              "      cursor: pointer;\n",
              "      display: none;\n",
              "      fill: #1967D2;\n",
              "      height: 32px;\n",
              "      padding: 0 0 0 0;\n",
              "      width: 32px;\n",
              "    }\n",
              "\n",
              "    .colab-df-convert:hover {\n",
              "      background-color: #E2EBFA;\n",
              "      box-shadow: 0px 1px 2px rgba(60, 64, 67, 0.3), 0px 1px 3px 1px rgba(60, 64, 67, 0.15);\n",
              "      fill: #174EA6;\n",
              "    }\n",
              "\n",
              "    [theme=dark] .colab-df-convert {\n",
              "      background-color: #3B4455;\n",
              "      fill: #D2E3FC;\n",
              "    }\n",
              "\n",
              "    [theme=dark] .colab-df-convert:hover {\n",
              "      background-color: #434B5C;\n",
              "      box-shadow: 0px 1px 3px 1px rgba(0, 0, 0, 0.15);\n",
              "      filter: drop-shadow(0px 1px 2px rgba(0, 0, 0, 0.3));\n",
              "      fill: #FFFFFF;\n",
              "    }\n",
              "  </style>\n",
              "\n",
              "      <script>\n",
              "        const buttonEl =\n",
              "          document.querySelector('#df-a7e7b32e-8898-44a0-ac84-a56197aa643f button.colab-df-convert');\n",
              "        buttonEl.style.display =\n",
              "          google.colab.kernel.accessAllowed ? 'block' : 'none';\n",
              "\n",
              "        async function convertToInteractive(key) {\n",
              "          const element = document.querySelector('#df-a7e7b32e-8898-44a0-ac84-a56197aa643f');\n",
              "          const dataTable =\n",
              "            await google.colab.kernel.invokeFunction('convertToInteractive',\n",
              "                                                     [key], {});\n",
              "          if (!dataTable) return;\n",
              "\n",
              "          const docLinkHtml = 'Like what you see? Visit the ' +\n",
              "            '<a target=\"_blank\" href=https://colab.research.google.com/notebooks/data_table.ipynb>data table notebook</a>'\n",
              "            + ' to learn more about interactive tables.';\n",
              "          element.innerHTML = '';\n",
              "          dataTable['output_type'] = 'display_data';\n",
              "          await google.colab.output.renderOutput(dataTable, element);\n",
              "          const docLink = document.createElement('div');\n",
              "          docLink.innerHTML = docLinkHtml;\n",
              "          element.appendChild(docLink);\n",
              "        }\n",
              "      </script>\n",
              "    </div>\n",
              "  </div>\n",
              "  "
            ]
          },
          "metadata": {},
          "execution_count": 55
        }
      ]
    },
    {
      "cell_type": "code",
      "source": [
        "df.info()"
      ],
      "metadata": {
        "colab": {
          "base_uri": "https://localhost:8080/"
        },
        "id": "mdFlKhOou0s6",
        "outputId": "d96886d7-9e4a-48ce-8f73-a11d44215883"
      },
      "execution_count": null,
      "outputs": [
        {
          "output_type": "stream",
          "name": "stdout",
          "text": [
            "<class 'pandas.core.frame.DataFrame'>\n",
            "RangeIndex: 96453 entries, 0 to 96452\n",
            "Data columns (total 13 columns):\n",
            " #   Column                    Non-Null Count  Dtype  \n",
            "---  ------                    --------------  -----  \n",
            " 0   Formatted Date            96453 non-null  object \n",
            " 1   Summary                   96453 non-null  object \n",
            " 2   Precip Type               96453 non-null  object \n",
            " 3   Temperature (C)           96453 non-null  float64\n",
            " 4   Apparent Temperature (C)  96453 non-null  float64\n",
            " 5   Humidity                  96453 non-null  float64\n",
            " 6   Wind Speed (km/h)         96453 non-null  float64\n",
            " 7   Wind Bearing (degrees)    96453 non-null  float64\n",
            " 8   Visibility (km)           96453 non-null  float64\n",
            " 9   Loud Cover                96453 non-null  float64\n",
            " 10  Pressure (millibars)      96453 non-null  float64\n",
            " 11  Daily Summary             96453 non-null  object \n",
            " 12  Month                     96453 non-null  int64  \n",
            "dtypes: float64(8), int64(1), object(4)\n",
            "memory usage: 9.6+ MB\n"
          ]
        }
      ]
    },
    {
      "cell_type": "markdown",
      "source": [
        " הפרדת החודשים השונים לעמודות שונות. חושב לעשות את זה כיוון שאם לא, המידע על החודשים יכול להיאבד כשמנרמלים את הדאטה סט.\n",
        "ניתן לראות בתמונה נרמול של הדאטה וסט, וכיצד מספרי החודשים הופכים ללא לינארים\n",
        "\n",
        "![111דג.png](data:image/png;base64,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)"
      ],
      "metadata": {
        "id": "ZT926jHp6AiD"
      }
    },
    {
      "cell_type": "code",
      "source": [
        "df['Month'].unique()"
      ],
      "metadata": {
        "colab": {
          "base_uri": "https://localhost:8080/"
        },
        "id": "u3oMo16x8PDx",
        "outputId": "c44364a9-710f-4ca7-8f64-87192a0be14a"
      },
      "execution_count": null,
      "outputs": [
        {
          "output_type": "execute_result",
          "data": {
            "text/plain": [
              "array([ 4,  8, 12,  2,  1,  7,  6,  3,  5, 11, 10,  9])"
            ]
          },
          "metadata": {},
          "execution_count": 57
        }
      ]
    },
    {
      "cell_type": "code",
      "source": [
        "Months=pd.get_dummies(df['Month'], drop_first=False)\n",
        "Months"
      ],
      "metadata": {
        "colab": {
          "base_uri": "https://localhost:8080/",
          "height": 424
        },
        "id": "_VWaaEUl_BKy",
        "outputId": "4f62f4e6-8549-4edf-c834-c6c2517abfa7"
      },
      "execution_count": null,
      "outputs": [
        {
          "output_type": "execute_result",
          "data": {
            "text/plain": [
              "       1   2   3   4   5   6   7   8   9   10  11  12\n",
              "0       0   0   0   1   0   0   0   0   0   0   0   0\n",
              "1       0   0   0   1   0   0   0   0   0   0   0   0\n",
              "2       0   0   0   1   0   0   0   0   0   0   0   0\n",
              "3       0   0   0   1   0   0   0   0   0   0   0   0\n",
              "4       0   0   0   1   0   0   0   0   0   0   0   0\n",
              "...    ..  ..  ..  ..  ..  ..  ..  ..  ..  ..  ..  ..\n",
              "96448   0   0   0   0   0   0   0   0   1   0   0   0\n",
              "96449   0   0   0   0   0   0   0   0   1   0   0   0\n",
              "96450   0   0   0   0   0   0   0   0   1   0   0   0\n",
              "96451   0   0   0   0   0   0   0   0   1   0   0   0\n",
              "96452   0   0   0   0   0   0   0   0   1   0   0   0\n",
              "\n",
              "[96453 rows x 12 columns]"
            ],
            "text/html": [
              "\n",
              "  <div id=\"df-b6351d0a-bbb0-4894-b888-e84f5f498c5f\">\n",
              "    <div class=\"colab-df-container\">\n",
              "      <div>\n",
              "<style scoped>\n",
              "    .dataframe tbody tr th:only-of-type {\n",
              "        vertical-align: middle;\n",
              "    }\n",
              "\n",
              "    .dataframe tbody tr th {\n",
              "        vertical-align: top;\n",
              "    }\n",
              "\n",
              "    .dataframe thead th {\n",
              "        text-align: right;\n",
              "    }\n",
              "</style>\n",
              "<table border=\"1\" class=\"dataframe\">\n",
              "  <thead>\n",
              "    <tr style=\"text-align: right;\">\n",
              "      <th></th>\n",
              "      <th>1</th>\n",
              "      <th>2</th>\n",
              "      <th>3</th>\n",
              "      <th>4</th>\n",
              "      <th>5</th>\n",
              "      <th>6</th>\n",
              "      <th>7</th>\n",
              "      <th>8</th>\n",
              "      <th>9</th>\n",
              "      <th>10</th>\n",
              "      <th>11</th>\n",
              "      <th>12</th>\n",
              "    </tr>\n",
              "  </thead>\n",
              "  <tbody>\n",
              "    <tr>\n",
              "      <th>0</th>\n",
              "      <td>0</td>\n",
              "      <td>0</td>\n",
              "      <td>0</td>\n",
              "      <td>1</td>\n",
              "      <td>0</td>\n",
              "      <td>0</td>\n",
              "      <td>0</td>\n",
              "      <td>0</td>\n",
              "      <td>0</td>\n",
              "      <td>0</td>\n",
              "      <td>0</td>\n",
              "      <td>0</td>\n",
              "    </tr>\n",
              "    <tr>\n",
              "      <th>1</th>\n",
              "      <td>0</td>\n",
              "      <td>0</td>\n",
              "      <td>0</td>\n",
              "      <td>1</td>\n",
              "      <td>0</td>\n",
              "      <td>0</td>\n",
              "      <td>0</td>\n",
              "      <td>0</td>\n",
              "      <td>0</td>\n",
              "      <td>0</td>\n",
              "      <td>0</td>\n",
              "      <td>0</td>\n",
              "    </tr>\n",
              "    <tr>\n",
              "      <th>2</th>\n",
              "      <td>0</td>\n",
              "      <td>0</td>\n",
              "      <td>0</td>\n",
              "      <td>1</td>\n",
              "      <td>0</td>\n",
              "      <td>0</td>\n",
              "      <td>0</td>\n",
              "      <td>0</td>\n",
              "      <td>0</td>\n",
              "      <td>0</td>\n",
              "      <td>0</td>\n",
              "      <td>0</td>\n",
              "    </tr>\n",
              "    <tr>\n",
              "      <th>3</th>\n",
              "      <td>0</td>\n",
              "      <td>0</td>\n",
              "      <td>0</td>\n",
              "      <td>1</td>\n",
              "      <td>0</td>\n",
              "      <td>0</td>\n",
              "      <td>0</td>\n",
              "      <td>0</td>\n",
              "      <td>0</td>\n",
              "      <td>0</td>\n",
              "      <td>0</td>\n",
              "      <td>0</td>\n",
              "    </tr>\n",
              "    <tr>\n",
              "      <th>4</th>\n",
              "      <td>0</td>\n",
              "      <td>0</td>\n",
              "      <td>0</td>\n",
              "      <td>1</td>\n",
              "      <td>0</td>\n",
              "      <td>0</td>\n",
              "      <td>0</td>\n",
              "      <td>0</td>\n",
              "      <td>0</td>\n",
              "      <td>0</td>\n",
              "      <td>0</td>\n",
              "      <td>0</td>\n",
              "    </tr>\n",
              "    <tr>\n",
              "      <th>...</th>\n",
              "      <td>...</td>\n",
              "      <td>...</td>\n",
              "      <td>...</td>\n",
              "      <td>...</td>\n",
              "      <td>...</td>\n",
              "      <td>...</td>\n",
              "      <td>...</td>\n",
              "      <td>...</td>\n",
              "      <td>...</td>\n",
              "      <td>...</td>\n",
              "      <td>...</td>\n",
              "      <td>...</td>\n",
              "    </tr>\n",
              "    <tr>\n",
              "      <th>96448</th>\n",
              "      <td>0</td>\n",
              "      <td>0</td>\n",
              "      <td>0</td>\n",
              "      <td>0</td>\n",
              "      <td>0</td>\n",
              "      <td>0</td>\n",
              "      <td>0</td>\n",
              "      <td>0</td>\n",
              "      <td>1</td>\n",
              "      <td>0</td>\n",
              "      <td>0</td>\n",
              "      <td>0</td>\n",
              "    </tr>\n",
              "    <tr>\n",
              "      <th>96449</th>\n",
              "      <td>0</td>\n",
              "      <td>0</td>\n",
              "      <td>0</td>\n",
              "      <td>0</td>\n",
              "      <td>0</td>\n",
              "      <td>0</td>\n",
              "      <td>0</td>\n",
              "      <td>0</td>\n",
              "      <td>1</td>\n",
              "      <td>0</td>\n",
              "      <td>0</td>\n",
              "      <td>0</td>\n",
              "    </tr>\n",
              "    <tr>\n",
              "      <th>96450</th>\n",
              "      <td>0</td>\n",
              "      <td>0</td>\n",
              "      <td>0</td>\n",
              "      <td>0</td>\n",
              "      <td>0</td>\n",
              "      <td>0</td>\n",
              "      <td>0</td>\n",
              "      <td>0</td>\n",
              "      <td>1</td>\n",
              "      <td>0</td>\n",
              "      <td>0</td>\n",
              "      <td>0</td>\n",
              "    </tr>\n",
              "    <tr>\n",
              "      <th>96451</th>\n",
              "      <td>0</td>\n",
              "      <td>0</td>\n",
              "      <td>0</td>\n",
              "      <td>0</td>\n",
              "      <td>0</td>\n",
              "      <td>0</td>\n",
              "      <td>0</td>\n",
              "      <td>0</td>\n",
              "      <td>1</td>\n",
              "      <td>0</td>\n",
              "      <td>0</td>\n",
              "      <td>0</td>\n",
              "    </tr>\n",
              "    <tr>\n",
              "      <th>96452</th>\n",
              "      <td>0</td>\n",
              "      <td>0</td>\n",
              "      <td>0</td>\n",
              "      <td>0</td>\n",
              "      <td>0</td>\n",
              "      <td>0</td>\n",
              "      <td>0</td>\n",
              "      <td>0</td>\n",
              "      <td>1</td>\n",
              "      <td>0</td>\n",
              "      <td>0</td>\n",
              "      <td>0</td>\n",
              "    </tr>\n",
              "  </tbody>\n",
              "</table>\n",
              "<p>96453 rows × 12 columns</p>\n",
              "</div>\n",
              "      <button class=\"colab-df-convert\" onclick=\"convertToInteractive('df-b6351d0a-bbb0-4894-b888-e84f5f498c5f')\"\n",
              "              title=\"Convert this dataframe to an interactive table.\"\n",
              "              style=\"display:none;\">\n",
              "        \n",
              "  <svg xmlns=\"http://www.w3.org/2000/svg\" height=\"24px\"viewBox=\"0 0 24 24\"\n",
              "       width=\"24px\">\n",
              "    <path d=\"M0 0h24v24H0V0z\" fill=\"none\"/>\n",
              "    <path d=\"M18.56 5.44l.94 2.06.94-2.06 2.06-.94-2.06-.94-.94-2.06-.94 2.06-2.06.94zm-11 1L8.5 8.5l.94-2.06 2.06-.94-2.06-.94L8.5 2.5l-.94 2.06-2.06.94zm10 10l.94 2.06.94-2.06 2.06-.94-2.06-.94-.94-2.06-.94 2.06-2.06.94z\"/><path d=\"M17.41 7.96l-1.37-1.37c-.4-.4-.92-.59-1.43-.59-.52 0-1.04.2-1.43.59L10.3 9.45l-7.72 7.72c-.78.78-.78 2.05 0 2.83L4 21.41c.39.39.9.59 1.41.59.51 0 1.02-.2 1.41-.59l7.78-7.78 2.81-2.81c.8-.78.8-2.07 0-2.86zM5.41 20L4 18.59l7.72-7.72 1.47 1.35L5.41 20z\"/>\n",
              "  </svg>\n",
              "      </button>\n",
              "      \n",
              "  <style>\n",
              "    .colab-df-container {\n",
              "      display:flex;\n",
              "      flex-wrap:wrap;\n",
              "      gap: 12px;\n",
              "    }\n",
              "\n",
              "    .colab-df-convert {\n",
              "      background-color: #E8F0FE;\n",
              "      border: none;\n",
              "      border-radius: 50%;\n",
              "      cursor: pointer;\n",
              "      display: none;\n",
              "      fill: #1967D2;\n",
              "      height: 32px;\n",
              "      padding: 0 0 0 0;\n",
              "      width: 32px;\n",
              "    }\n",
              "\n",
              "    .colab-df-convert:hover {\n",
              "      background-color: #E2EBFA;\n",
              "      box-shadow: 0px 1px 2px rgba(60, 64, 67, 0.3), 0px 1px 3px 1px rgba(60, 64, 67, 0.15);\n",
              "      fill: #174EA6;\n",
              "    }\n",
              "\n",
              "    [theme=dark] .colab-df-convert {\n",
              "      background-color: #3B4455;\n",
              "      fill: #D2E3FC;\n",
              "    }\n",
              "\n",
              "    [theme=dark] .colab-df-convert:hover {\n",
              "      background-color: #434B5C;\n",
              "      box-shadow: 0px 1px 3px 1px rgba(0, 0, 0, 0.15);\n",
              "      filter: drop-shadow(0px 1px 2px rgba(0, 0, 0, 0.3));\n",
              "      fill: #FFFFFF;\n",
              "    }\n",
              "  </style>\n",
              "\n",
              "      <script>\n",
              "        const buttonEl =\n",
              "          document.querySelector('#df-b6351d0a-bbb0-4894-b888-e84f5f498c5f button.colab-df-convert');\n",
              "        buttonEl.style.display =\n",
              "          google.colab.kernel.accessAllowed ? 'block' : 'none';\n",
              "\n",
              "        async function convertToInteractive(key) {\n",
              "          const element = document.querySelector('#df-b6351d0a-bbb0-4894-b888-e84f5f498c5f');\n",
              "          const dataTable =\n",
              "            await google.colab.kernel.invokeFunction('convertToInteractive',\n",
              "                                                     [key], {});\n",
              "          if (!dataTable) return;\n",
              "\n",
              "          const docLinkHtml = 'Like what you see? Visit the ' +\n",
              "            '<a target=\"_blank\" href=https://colab.research.google.com/notebooks/data_table.ipynb>data table notebook</a>'\n",
              "            + ' to learn more about interactive tables.';\n",
              "          element.innerHTML = '';\n",
              "          dataTable['output_type'] = 'display_data';\n",
              "          await google.colab.output.renderOutput(dataTable, element);\n",
              "          const docLink = document.createElement('div');\n",
              "          docLink.innerHTML = docLinkHtml;\n",
              "          element.appendChild(docLink);\n",
              "        }\n",
              "      </script>\n",
              "    </div>\n",
              "  </div>\n",
              "  "
            ]
          },
          "metadata": {},
          "execution_count": 58
        }
      ]
    },
    {
      "cell_type": "code",
      "source": [
        "df=pd.concat([df,Months], axis=1)\n",
        "df"
      ],
      "metadata": {
        "colab": {
          "base_uri": "https://localhost:8080/",
          "height": 659
        },
        "id": "IFEFD3e6BDta",
        "outputId": "c1960c42-83bd-47f2-e848-f8ce627ee970"
      },
      "execution_count": null,
      "outputs": [
        {
          "output_type": "execute_result",
          "data": {
            "text/plain": [
              "                      Formatted Date        Summary Precip Type  \\\n",
              "0      2006-04-01 00:00:00.000 +0200  Partly Cloudy        rain   \n",
              "1      2006-04-01 01:00:00.000 +0200  Partly Cloudy        rain   \n",
              "2      2006-04-01 02:00:00.000 +0200  Mostly Cloudy        rain   \n",
              "3      2006-04-01 03:00:00.000 +0200  Partly Cloudy        rain   \n",
              "4      2006-04-01 04:00:00.000 +0200  Mostly Cloudy        rain   \n",
              "...                              ...            ...         ...   \n",
              "96448  2016-09-09 19:00:00.000 +0200  Partly Cloudy        rain   \n",
              "96449  2016-09-09 20:00:00.000 +0200  Partly Cloudy        rain   \n",
              "96450  2016-09-09 21:00:00.000 +0200  Partly Cloudy        rain   \n",
              "96451  2016-09-09 22:00:00.000 +0200  Partly Cloudy        rain   \n",
              "96452  2016-09-09 23:00:00.000 +0200  Partly Cloudy        rain   \n",
              "\n",
              "       Temperature (C)  Apparent Temperature (C)  Humidity  Wind Speed (km/h)  \\\n",
              "0             9.472222                  7.388889      0.89            14.1197   \n",
              "1             9.355556                  7.227778      0.86            14.2646   \n",
              "2             9.377778                  9.377778      0.89             3.9284   \n",
              "3             8.288889                  5.944444      0.83            14.1036   \n",
              "4             8.755556                  6.977778      0.83            11.0446   \n",
              "...                ...                       ...       ...                ...   \n",
              "96448        26.016667                 26.016667      0.43            10.9963   \n",
              "96449        24.583333                 24.583333      0.48            10.0947   \n",
              "96450        22.038889                 22.038889      0.56             8.9838   \n",
              "96451        21.522222                 21.522222      0.60            10.5294   \n",
              "96452        20.438889                 20.438889      0.61             5.8765   \n",
              "\n",
              "       Wind Bearing (degrees)  Visibility (km)  Loud Cover  ...  3  4  5  6  \\\n",
              "0                       251.0          15.8263         0.0  ...  0  1  0  0   \n",
              "1                       259.0          15.8263         0.0  ...  0  1  0  0   \n",
              "2                       204.0          14.9569         0.0  ...  0  1  0  0   \n",
              "3                       269.0          15.8263         0.0  ...  0  1  0  0   \n",
              "4                       259.0          15.8263         0.0  ...  0  1  0  0   \n",
              "...                       ...              ...         ...  ... .. .. .. ..   \n",
              "96448                    31.0          16.1000         0.0  ...  0  0  0  0   \n",
              "96449                    20.0          15.5526         0.0  ...  0  0  0  0   \n",
              "96450                    30.0          16.1000         0.0  ...  0  0  0  0   \n",
              "96451                    20.0          16.1000         0.0  ...  0  0  0  0   \n",
              "96452                    39.0          15.5204         0.0  ...  0  0  0  0   \n",
              "\n",
              "       7  8  9  10  11  12  \n",
              "0      0  0  0   0   0   0  \n",
              "1      0  0  0   0   0   0  \n",
              "2      0  0  0   0   0   0  \n",
              "3      0  0  0   0   0   0  \n",
              "4      0  0  0   0   0   0  \n",
              "...   .. .. ..  ..  ..  ..  \n",
              "96448  0  0  1   0   0   0  \n",
              "96449  0  0  1   0   0   0  \n",
              "96450  0  0  1   0   0   0  \n",
              "96451  0  0  1   0   0   0  \n",
              "96452  0  0  1   0   0   0  \n",
              "\n",
              "[96453 rows x 25 columns]"
            ],
            "text/html": [
              "\n",
              "  <div id=\"df-4fe9d375-2228-4892-a159-99504fc411ef\">\n",
              "    <div class=\"colab-df-container\">\n",
              "      <div>\n",
              "<style scoped>\n",
              "    .dataframe tbody tr th:only-of-type {\n",
              "        vertical-align: middle;\n",
              "    }\n",
              "\n",
              "    .dataframe tbody tr th {\n",
              "        vertical-align: top;\n",
              "    }\n",
              "\n",
              "    .dataframe thead th {\n",
              "        text-align: right;\n",
              "    }\n",
              "</style>\n",
              "<table border=\"1\" class=\"dataframe\">\n",
              "  <thead>\n",
              "    <tr style=\"text-align: right;\">\n",
              "      <th></th>\n",
              "      <th>Formatted Date</th>\n",
              "      <th>Summary</th>\n",
              "      <th>Precip Type</th>\n",
              "      <th>Temperature (C)</th>\n",
              "      <th>Apparent Temperature (C)</th>\n",
              "      <th>Humidity</th>\n",
              "      <th>Wind Speed (km/h)</th>\n",
              "      <th>Wind Bearing (degrees)</th>\n",
              "      <th>Visibility (km)</th>\n",
              "      <th>Loud Cover</th>\n",
              "      <th>...</th>\n",
              "      <th>3</th>\n",
              "      <th>4</th>\n",
              "      <th>5</th>\n",
              "      <th>6</th>\n",
              "      <th>7</th>\n",
              "      <th>8</th>\n",
              "      <th>9</th>\n",
              "      <th>10</th>\n",
              "      <th>11</th>\n",
              "      <th>12</th>\n",
              "    </tr>\n",
              "  </thead>\n",
              "  <tbody>\n",
              "    <tr>\n",
              "      <th>0</th>\n",
              "      <td>2006-04-01 00:00:00.000 +0200</td>\n",
              "      <td>Partly Cloudy</td>\n",
              "      <td>rain</td>\n",
              "      <td>9.472222</td>\n",
              "      <td>7.388889</td>\n",
              "      <td>0.89</td>\n",
              "      <td>14.1197</td>\n",
              "      <td>251.0</td>\n",
              "      <td>15.8263</td>\n",
              "      <td>0.0</td>\n",
              "      <td>...</td>\n",
              "      <td>0</td>\n",
              "      <td>1</td>\n",
              "      <td>0</td>\n",
              "      <td>0</td>\n",
              "      <td>0</td>\n",
              "      <td>0</td>\n",
              "      <td>0</td>\n",
              "      <td>0</td>\n",
              "      <td>0</td>\n",
              "      <td>0</td>\n",
              "    </tr>\n",
              "    <tr>\n",
              "      <th>1</th>\n",
              "      <td>2006-04-01 01:00:00.000 +0200</td>\n",
              "      <td>Partly Cloudy</td>\n",
              "      <td>rain</td>\n",
              "      <td>9.355556</td>\n",
              "      <td>7.227778</td>\n",
              "      <td>0.86</td>\n",
              "      <td>14.2646</td>\n",
              "      <td>259.0</td>\n",
              "      <td>15.8263</td>\n",
              "      <td>0.0</td>\n",
              "      <td>...</td>\n",
              "      <td>0</td>\n",
              "      <td>1</td>\n",
              "      <td>0</td>\n",
              "      <td>0</td>\n",
              "      <td>0</td>\n",
              "      <td>0</td>\n",
              "      <td>0</td>\n",
              "      <td>0</td>\n",
              "      <td>0</td>\n",
              "      <td>0</td>\n",
              "    </tr>\n",
              "    <tr>\n",
              "      <th>2</th>\n",
              "      <td>2006-04-01 02:00:00.000 +0200</td>\n",
              "      <td>Mostly Cloudy</td>\n",
              "      <td>rain</td>\n",
              "      <td>9.377778</td>\n",
              "      <td>9.377778</td>\n",
              "      <td>0.89</td>\n",
              "      <td>3.9284</td>\n",
              "      <td>204.0</td>\n",
              "      <td>14.9569</td>\n",
              "      <td>0.0</td>\n",
              "      <td>...</td>\n",
              "      <td>0</td>\n",
              "      <td>1</td>\n",
              "      <td>0</td>\n",
              "      <td>0</td>\n",
              "      <td>0</td>\n",
              "      <td>0</td>\n",
              "      <td>0</td>\n",
              "      <td>0</td>\n",
              "      <td>0</td>\n",
              "      <td>0</td>\n",
              "    </tr>\n",
              "    <tr>\n",
              "      <th>3</th>\n",
              "      <td>2006-04-01 03:00:00.000 +0200</td>\n",
              "      <td>Partly Cloudy</td>\n",
              "      <td>rain</td>\n",
              "      <td>8.288889</td>\n",
              "      <td>5.944444</td>\n",
              "      <td>0.83</td>\n",
              "      <td>14.1036</td>\n",
              "      <td>269.0</td>\n",
              "      <td>15.8263</td>\n",
              "      <td>0.0</td>\n",
              "      <td>...</td>\n",
              "      <td>0</td>\n",
              "      <td>1</td>\n",
              "      <td>0</td>\n",
              "      <td>0</td>\n",
              "      <td>0</td>\n",
              "      <td>0</td>\n",
              "      <td>0</td>\n",
              "      <td>0</td>\n",
              "      <td>0</td>\n",
              "      <td>0</td>\n",
              "    </tr>\n",
              "    <tr>\n",
              "      <th>4</th>\n",
              "      <td>2006-04-01 04:00:00.000 +0200</td>\n",
              "      <td>Mostly Cloudy</td>\n",
              "      <td>rain</td>\n",
              "      <td>8.755556</td>\n",
              "      <td>6.977778</td>\n",
              "      <td>0.83</td>\n",
              "      <td>11.0446</td>\n",
              "      <td>259.0</td>\n",
              "      <td>15.8263</td>\n",
              "      <td>0.0</td>\n",
              "      <td>...</td>\n",
              "      <td>0</td>\n",
              "      <td>1</td>\n",
              "      <td>0</td>\n",
              "      <td>0</td>\n",
              "      <td>0</td>\n",
              "      <td>0</td>\n",
              "      <td>0</td>\n",
              "      <td>0</td>\n",
              "      <td>0</td>\n",
              "      <td>0</td>\n",
              "    </tr>\n",
              "    <tr>\n",
              "      <th>...</th>\n",
              "      <td>...</td>\n",
              "      <td>...</td>\n",
              "      <td>...</td>\n",
              "      <td>...</td>\n",
              "      <td>...</td>\n",
              "      <td>...</td>\n",
              "      <td>...</td>\n",
              "      <td>...</td>\n",
              "      <td>...</td>\n",
              "      <td>...</td>\n",
              "      <td>...</td>\n",
              "      <td>...</td>\n",
              "      <td>...</td>\n",
              "      <td>...</td>\n",
              "      <td>...</td>\n",
              "      <td>...</td>\n",
              "      <td>...</td>\n",
              "      <td>...</td>\n",
              "      <td>...</td>\n",
              "      <td>...</td>\n",
              "      <td>...</td>\n",
              "    </tr>\n",
              "    <tr>\n",
              "      <th>96448</th>\n",
              "      <td>2016-09-09 19:00:00.000 +0200</td>\n",
              "      <td>Partly Cloudy</td>\n",
              "      <td>rain</td>\n",
              "      <td>26.016667</td>\n",
              "      <td>26.016667</td>\n",
              "      <td>0.43</td>\n",
              "      <td>10.9963</td>\n",
              "      <td>31.0</td>\n",
              "      <td>16.1000</td>\n",
              "      <td>0.0</td>\n",
              "      <td>...</td>\n",
              "      <td>0</td>\n",
              "      <td>0</td>\n",
              "      <td>0</td>\n",
              "      <td>0</td>\n",
              "      <td>0</td>\n",
              "      <td>0</td>\n",
              "      <td>1</td>\n",
              "      <td>0</td>\n",
              "      <td>0</td>\n",
              "      <td>0</td>\n",
              "    </tr>\n",
              "    <tr>\n",
              "      <th>96449</th>\n",
              "      <td>2016-09-09 20:00:00.000 +0200</td>\n",
              "      <td>Partly Cloudy</td>\n",
              "      <td>rain</td>\n",
              "      <td>24.583333</td>\n",
              "      <td>24.583333</td>\n",
              "      <td>0.48</td>\n",
              "      <td>10.0947</td>\n",
              "      <td>20.0</td>\n",
              "      <td>15.5526</td>\n",
              "      <td>0.0</td>\n",
              "      <td>...</td>\n",
              "      <td>0</td>\n",
              "      <td>0</td>\n",
              "      <td>0</td>\n",
              "      <td>0</td>\n",
              "      <td>0</td>\n",
              "      <td>0</td>\n",
              "      <td>1</td>\n",
              "      <td>0</td>\n",
              "      <td>0</td>\n",
              "      <td>0</td>\n",
              "    </tr>\n",
              "    <tr>\n",
              "      <th>96450</th>\n",
              "      <td>2016-09-09 21:00:00.000 +0200</td>\n",
              "      <td>Partly Cloudy</td>\n",
              "      <td>rain</td>\n",
              "      <td>22.038889</td>\n",
              "      <td>22.038889</td>\n",
              "      <td>0.56</td>\n",
              "      <td>8.9838</td>\n",
              "      <td>30.0</td>\n",
              "      <td>16.1000</td>\n",
              "      <td>0.0</td>\n",
              "      <td>...</td>\n",
              "      <td>0</td>\n",
              "      <td>0</td>\n",
              "      <td>0</td>\n",
              "      <td>0</td>\n",
              "      <td>0</td>\n",
              "      <td>0</td>\n",
              "      <td>1</td>\n",
              "      <td>0</td>\n",
              "      <td>0</td>\n",
              "      <td>0</td>\n",
              "    </tr>\n",
              "    <tr>\n",
              "      <th>96451</th>\n",
              "      <td>2016-09-09 22:00:00.000 +0200</td>\n",
              "      <td>Partly Cloudy</td>\n",
              "      <td>rain</td>\n",
              "      <td>21.522222</td>\n",
              "      <td>21.522222</td>\n",
              "      <td>0.60</td>\n",
              "      <td>10.5294</td>\n",
              "      <td>20.0</td>\n",
              "      <td>16.1000</td>\n",
              "      <td>0.0</td>\n",
              "      <td>...</td>\n",
              "      <td>0</td>\n",
              "      <td>0</td>\n",
              "      <td>0</td>\n",
              "      <td>0</td>\n",
              "      <td>0</td>\n",
              "      <td>0</td>\n",
              "      <td>1</td>\n",
              "      <td>0</td>\n",
              "      <td>0</td>\n",
              "      <td>0</td>\n",
              "    </tr>\n",
              "    <tr>\n",
              "      <th>96452</th>\n",
              "      <td>2016-09-09 23:00:00.000 +0200</td>\n",
              "      <td>Partly Cloudy</td>\n",
              "      <td>rain</td>\n",
              "      <td>20.438889</td>\n",
              "      <td>20.438889</td>\n",
              "      <td>0.61</td>\n",
              "      <td>5.8765</td>\n",
              "      <td>39.0</td>\n",
              "      <td>15.5204</td>\n",
              "      <td>0.0</td>\n",
              "      <td>...</td>\n",
              "      <td>0</td>\n",
              "      <td>0</td>\n",
              "      <td>0</td>\n",
              "      <td>0</td>\n",
              "      <td>0</td>\n",
              "      <td>0</td>\n",
              "      <td>1</td>\n",
              "      <td>0</td>\n",
              "      <td>0</td>\n",
              "      <td>0</td>\n",
              "    </tr>\n",
              "  </tbody>\n",
              "</table>\n",
              "<p>96453 rows × 25 columns</p>\n",
              "</div>\n",
              "      <button class=\"colab-df-convert\" onclick=\"convertToInteractive('df-4fe9d375-2228-4892-a159-99504fc411ef')\"\n",
              "              title=\"Convert this dataframe to an interactive table.\"\n",
              "              style=\"display:none;\">\n",
              "        \n",
              "  <svg xmlns=\"http://www.w3.org/2000/svg\" height=\"24px\"viewBox=\"0 0 24 24\"\n",
              "       width=\"24px\">\n",
              "    <path d=\"M0 0h24v24H0V0z\" fill=\"none\"/>\n",
              "    <path d=\"M18.56 5.44l.94 2.06.94-2.06 2.06-.94-2.06-.94-.94-2.06-.94 2.06-2.06.94zm-11 1L8.5 8.5l.94-2.06 2.06-.94-2.06-.94L8.5 2.5l-.94 2.06-2.06.94zm10 10l.94 2.06.94-2.06 2.06-.94-2.06-.94-.94-2.06-.94 2.06-2.06.94z\"/><path d=\"M17.41 7.96l-1.37-1.37c-.4-.4-.92-.59-1.43-.59-.52 0-1.04.2-1.43.59L10.3 9.45l-7.72 7.72c-.78.78-.78 2.05 0 2.83L4 21.41c.39.39.9.59 1.41.59.51 0 1.02-.2 1.41-.59l7.78-7.78 2.81-2.81c.8-.78.8-2.07 0-2.86zM5.41 20L4 18.59l7.72-7.72 1.47 1.35L5.41 20z\"/>\n",
              "  </svg>\n",
              "      </button>\n",
              "      \n",
              "  <style>\n",
              "    .colab-df-container {\n",
              "      display:flex;\n",
              "      flex-wrap:wrap;\n",
              "      gap: 12px;\n",
              "    }\n",
              "\n",
              "    .colab-df-convert {\n",
              "      background-color: #E8F0FE;\n",
              "      border: none;\n",
              "      border-radius: 50%;\n",
              "      cursor: pointer;\n",
              "      display: none;\n",
              "      fill: #1967D2;\n",
              "      height: 32px;\n",
              "      padding: 0 0 0 0;\n",
              "      width: 32px;\n",
              "    }\n",
              "\n",
              "    .colab-df-convert:hover {\n",
              "      background-color: #E2EBFA;\n",
              "      box-shadow: 0px 1px 2px rgba(60, 64, 67, 0.3), 0px 1px 3px 1px rgba(60, 64, 67, 0.15);\n",
              "      fill: #174EA6;\n",
              "    }\n",
              "\n",
              "    [theme=dark] .colab-df-convert {\n",
              "      background-color: #3B4455;\n",
              "      fill: #D2E3FC;\n",
              "    }\n",
              "\n",
              "    [theme=dark] .colab-df-convert:hover {\n",
              "      background-color: #434B5C;\n",
              "      box-shadow: 0px 1px 3px 1px rgba(0, 0, 0, 0.15);\n",
              "      filter: drop-shadow(0px 1px 2px rgba(0, 0, 0, 0.3));\n",
              "      fill: #FFFFFF;\n",
              "    }\n",
              "  </style>\n",
              "\n",
              "      <script>\n",
              "        const buttonEl =\n",
              "          document.querySelector('#df-4fe9d375-2228-4892-a159-99504fc411ef button.colab-df-convert');\n",
              "        buttonEl.style.display =\n",
              "          google.colab.kernel.accessAllowed ? 'block' : 'none';\n",
              "\n",
              "        async function convertToInteractive(key) {\n",
              "          const element = document.querySelector('#df-4fe9d375-2228-4892-a159-99504fc411ef');\n",
              "          const dataTable =\n",
              "            await google.colab.kernel.invokeFunction('convertToInteractive',\n",
              "                                                     [key], {});\n",
              "          if (!dataTable) return;\n",
              "\n",
              "          const docLinkHtml = 'Like what you see? Visit the ' +\n",
              "            '<a target=\"_blank\" href=https://colab.research.google.com/notebooks/data_table.ipynb>data table notebook</a>'\n",
              "            + ' to learn more about interactive tables.';\n",
              "          element.innerHTML = '';\n",
              "          dataTable['output_type'] = 'display_data';\n",
              "          await google.colab.output.renderOutput(dataTable, element);\n",
              "          const docLink = document.createElement('div');\n",
              "          docLink.innerHTML = docLinkHtml;\n",
              "          element.appendChild(docLink);\n",
              "        }\n",
              "      </script>\n",
              "    </div>\n",
              "  </div>\n",
              "  "
            ]
          },
          "metadata": {},
          "execution_count": 59
        }
      ]
    },
    {
      "cell_type": "code",
      "source": [
        "df.rename(columns={1:'January',2:'Fabuary',3:'March',4:'April',5:'May',6:'June'}, inplace=True)\n",
        "df.rename(columns={7:'July',8:'August',9:'September',10:'October',11:'November',12:'December'}, inplace=True)"
      ],
      "metadata": {
        "id": "j0aozK6kBcoR"
      },
      "execution_count": null,
      "outputs": []
    },
    {
      "cell_type": "code",
      "source": [
        "df"
      ],
      "metadata": {
        "colab": {
          "base_uri": "https://localhost:8080/",
          "height": 850
        },
        "id": "aXE8TGs5CeCL",
        "outputId": "cc59f5ae-c56f-4602-b732-6a47b04c1ed9"
      },
      "execution_count": null,
      "outputs": [
        {
          "output_type": "execute_result",
          "data": {
            "text/plain": [
              "                      Formatted Date        Summary Precip Type  \\\n",
              "0      2006-04-01 00:00:00.000 +0200  Partly Cloudy        rain   \n",
              "1      2006-04-01 01:00:00.000 +0200  Partly Cloudy        rain   \n",
              "2      2006-04-01 02:00:00.000 +0200  Mostly Cloudy        rain   \n",
              "3      2006-04-01 03:00:00.000 +0200  Partly Cloudy        rain   \n",
              "4      2006-04-01 04:00:00.000 +0200  Mostly Cloudy        rain   \n",
              "...                              ...            ...         ...   \n",
              "96448  2016-09-09 19:00:00.000 +0200  Partly Cloudy        rain   \n",
              "96449  2016-09-09 20:00:00.000 +0200  Partly Cloudy        rain   \n",
              "96450  2016-09-09 21:00:00.000 +0200  Partly Cloudy        rain   \n",
              "96451  2016-09-09 22:00:00.000 +0200  Partly Cloudy        rain   \n",
              "96452  2016-09-09 23:00:00.000 +0200  Partly Cloudy        rain   \n",
              "\n",
              "       Temperature (C)  Apparent Temperature (C)  Humidity  Wind Speed (km/h)  \\\n",
              "0             9.472222                  7.388889      0.89            14.1197   \n",
              "1             9.355556                  7.227778      0.86            14.2646   \n",
              "2             9.377778                  9.377778      0.89             3.9284   \n",
              "3             8.288889                  5.944444      0.83            14.1036   \n",
              "4             8.755556                  6.977778      0.83            11.0446   \n",
              "...                ...                       ...       ...                ...   \n",
              "96448        26.016667                 26.016667      0.43            10.9963   \n",
              "96449        24.583333                 24.583333      0.48            10.0947   \n",
              "96450        22.038889                 22.038889      0.56             8.9838   \n",
              "96451        21.522222                 21.522222      0.60            10.5294   \n",
              "96452        20.438889                 20.438889      0.61             5.8765   \n",
              "\n",
              "       Wind Bearing (degrees)  Visibility (km)  Loud Cover  ...  March April  \\\n",
              "0                       251.0          15.8263         0.0  ...      0     1   \n",
              "1                       259.0          15.8263         0.0  ...      0     1   \n",
              "2                       204.0          14.9569         0.0  ...      0     1   \n",
              "3                       269.0          15.8263         0.0  ...      0     1   \n",
              "4                       259.0          15.8263         0.0  ...      0     1   \n",
              "...                       ...              ...         ...  ...    ...   ...   \n",
              "96448                    31.0          16.1000         0.0  ...      0     0   \n",
              "96449                    20.0          15.5526         0.0  ...      0     0   \n",
              "96450                    30.0          16.1000         0.0  ...      0     0   \n",
              "96451                    20.0          16.1000         0.0  ...      0     0   \n",
              "96452                    39.0          15.5204         0.0  ...      0     0   \n",
              "\n",
              "       May  June  July  August  September  October  November  December  \n",
              "0        0     0     0       0          0        0         0         0  \n",
              "1        0     0     0       0          0        0         0         0  \n",
              "2        0     0     0       0          0        0         0         0  \n",
              "3        0     0     0       0          0        0         0         0  \n",
              "4        0     0     0       0          0        0         0         0  \n",
              "...    ...   ...   ...     ...        ...      ...       ...       ...  \n",
              "96448    0     0     0       0          1        0         0         0  \n",
              "96449    0     0     0       0          1        0         0         0  \n",
              "96450    0     0     0       0          1        0         0         0  \n",
              "96451    0     0     0       0          1        0         0         0  \n",
              "96452    0     0     0       0          1        0         0         0  \n",
              "\n",
              "[96453 rows x 25 columns]"
            ],
            "text/html": [
              "\n",
              "  <div id=\"df-881aecfa-0f2e-45f0-898e-4d490e266d97\">\n",
              "    <div class=\"colab-df-container\">\n",
              "      <div>\n",
              "<style scoped>\n",
              "    .dataframe tbody tr th:only-of-type {\n",
              "        vertical-align: middle;\n",
              "    }\n",
              "\n",
              "    .dataframe tbody tr th {\n",
              "        vertical-align: top;\n",
              "    }\n",
              "\n",
              "    .dataframe thead th {\n",
              "        text-align: right;\n",
              "    }\n",
              "</style>\n",
              "<table border=\"1\" class=\"dataframe\">\n",
              "  <thead>\n",
              "    <tr style=\"text-align: right;\">\n",
              "      <th></th>\n",
              "      <th>Formatted Date</th>\n",
              "      <th>Summary</th>\n",
              "      <th>Precip Type</th>\n",
              "      <th>Temperature (C)</th>\n",
              "      <th>Apparent Temperature (C)</th>\n",
              "      <th>Humidity</th>\n",
              "      <th>Wind Speed (km/h)</th>\n",
              "      <th>Wind Bearing (degrees)</th>\n",
              "      <th>Visibility (km)</th>\n",
              "      <th>Loud Cover</th>\n",
              "      <th>...</th>\n",
              "      <th>March</th>\n",
              "      <th>April</th>\n",
              "      <th>May</th>\n",
              "      <th>June</th>\n",
              "      <th>July</th>\n",
              "      <th>August</th>\n",
              "      <th>September</th>\n",
              "      <th>October</th>\n",
              "      <th>November</th>\n",
              "      <th>December</th>\n",
              "    </tr>\n",
              "  </thead>\n",
              "  <tbody>\n",
              "    <tr>\n",
              "      <th>0</th>\n",
              "      <td>2006-04-01 00:00:00.000 +0200</td>\n",
              "      <td>Partly Cloudy</td>\n",
              "      <td>rain</td>\n",
              "      <td>9.472222</td>\n",
              "      <td>7.388889</td>\n",
              "      <td>0.89</td>\n",
              "      <td>14.1197</td>\n",
              "      <td>251.0</td>\n",
              "      <td>15.8263</td>\n",
              "      <td>0.0</td>\n",
              "      <td>...</td>\n",
              "      <td>0</td>\n",
              "      <td>1</td>\n",
              "      <td>0</td>\n",
              "      <td>0</td>\n",
              "      <td>0</td>\n",
              "      <td>0</td>\n",
              "      <td>0</td>\n",
              "      <td>0</td>\n",
              "      <td>0</td>\n",
              "      <td>0</td>\n",
              "    </tr>\n",
              "    <tr>\n",
              "      <th>1</th>\n",
              "      <td>2006-04-01 01:00:00.000 +0200</td>\n",
              "      <td>Partly Cloudy</td>\n",
              "      <td>rain</td>\n",
              "      <td>9.355556</td>\n",
              "      <td>7.227778</td>\n",
              "      <td>0.86</td>\n",
              "      <td>14.2646</td>\n",
              "      <td>259.0</td>\n",
              "      <td>15.8263</td>\n",
              "      <td>0.0</td>\n",
              "      <td>...</td>\n",
              "      <td>0</td>\n",
              "      <td>1</td>\n",
              "      <td>0</td>\n",
              "      <td>0</td>\n",
              "      <td>0</td>\n",
              "      <td>0</td>\n",
              "      <td>0</td>\n",
              "      <td>0</td>\n",
              "      <td>0</td>\n",
              "      <td>0</td>\n",
              "    </tr>\n",
              "    <tr>\n",
              "      <th>2</th>\n",
              "      <td>2006-04-01 02:00:00.000 +0200</td>\n",
              "      <td>Mostly Cloudy</td>\n",
              "      <td>rain</td>\n",
              "      <td>9.377778</td>\n",
              "      <td>9.377778</td>\n",
              "      <td>0.89</td>\n",
              "      <td>3.9284</td>\n",
              "      <td>204.0</td>\n",
              "      <td>14.9569</td>\n",
              "      <td>0.0</td>\n",
              "      <td>...</td>\n",
              "      <td>0</td>\n",
              "      <td>1</td>\n",
              "      <td>0</td>\n",
              "      <td>0</td>\n",
              "      <td>0</td>\n",
              "      <td>0</td>\n",
              "      <td>0</td>\n",
              "      <td>0</td>\n",
              "      <td>0</td>\n",
              "      <td>0</td>\n",
              "    </tr>\n",
              "    <tr>\n",
              "      <th>3</th>\n",
              "      <td>2006-04-01 03:00:00.000 +0200</td>\n",
              "      <td>Partly Cloudy</td>\n",
              "      <td>rain</td>\n",
              "      <td>8.288889</td>\n",
              "      <td>5.944444</td>\n",
              "      <td>0.83</td>\n",
              "      <td>14.1036</td>\n",
              "      <td>269.0</td>\n",
              "      <td>15.8263</td>\n",
              "      <td>0.0</td>\n",
              "      <td>...</td>\n",
              "      <td>0</td>\n",
              "      <td>1</td>\n",
              "      <td>0</td>\n",
              "      <td>0</td>\n",
              "      <td>0</td>\n",
              "      <td>0</td>\n",
              "      <td>0</td>\n",
              "      <td>0</td>\n",
              "      <td>0</td>\n",
              "      <td>0</td>\n",
              "    </tr>\n",
              "    <tr>\n",
              "      <th>4</th>\n",
              "      <td>2006-04-01 04:00:00.000 +0200</td>\n",
              "      <td>Mostly Cloudy</td>\n",
              "      <td>rain</td>\n",
              "      <td>8.755556</td>\n",
              "      <td>6.977778</td>\n",
              "      <td>0.83</td>\n",
              "      <td>11.0446</td>\n",
              "      <td>259.0</td>\n",
              "      <td>15.8263</td>\n",
              "      <td>0.0</td>\n",
              "      <td>...</td>\n",
              "      <td>0</td>\n",
              "      <td>1</td>\n",
              "      <td>0</td>\n",
              "      <td>0</td>\n",
              "      <td>0</td>\n",
              "      <td>0</td>\n",
              "      <td>0</td>\n",
              "      <td>0</td>\n",
              "      <td>0</td>\n",
              "      <td>0</td>\n",
              "    </tr>\n",
              "    <tr>\n",
              "      <th>...</th>\n",
              "      <td>...</td>\n",
              "      <td>...</td>\n",
              "      <td>...</td>\n",
              "      <td>...</td>\n",
              "      <td>...</td>\n",
              "      <td>...</td>\n",
              "      <td>...</td>\n",
              "      <td>...</td>\n",
              "      <td>...</td>\n",
              "      <td>...</td>\n",
              "      <td>...</td>\n",
              "      <td>...</td>\n",
              "      <td>...</td>\n",
              "      <td>...</td>\n",
              "      <td>...</td>\n",
              "      <td>...</td>\n",
              "      <td>...</td>\n",
              "      <td>...</td>\n",
              "      <td>...</td>\n",
              "      <td>...</td>\n",
              "      <td>...</td>\n",
              "    </tr>\n",
              "    <tr>\n",
              "      <th>96448</th>\n",
              "      <td>2016-09-09 19:00:00.000 +0200</td>\n",
              "      <td>Partly Cloudy</td>\n",
              "      <td>rain</td>\n",
              "      <td>26.016667</td>\n",
              "      <td>26.016667</td>\n",
              "      <td>0.43</td>\n",
              "      <td>10.9963</td>\n",
              "      <td>31.0</td>\n",
              "      <td>16.1000</td>\n",
              "      <td>0.0</td>\n",
              "      <td>...</td>\n",
              "      <td>0</td>\n",
              "      <td>0</td>\n",
              "      <td>0</td>\n",
              "      <td>0</td>\n",
              "      <td>0</td>\n",
              "      <td>0</td>\n",
              "      <td>1</td>\n",
              "      <td>0</td>\n",
              "      <td>0</td>\n",
              "      <td>0</td>\n",
              "    </tr>\n",
              "    <tr>\n",
              "      <th>96449</th>\n",
              "      <td>2016-09-09 20:00:00.000 +0200</td>\n",
              "      <td>Partly Cloudy</td>\n",
              "      <td>rain</td>\n",
              "      <td>24.583333</td>\n",
              "      <td>24.583333</td>\n",
              "      <td>0.48</td>\n",
              "      <td>10.0947</td>\n",
              "      <td>20.0</td>\n",
              "      <td>15.5526</td>\n",
              "      <td>0.0</td>\n",
              "      <td>...</td>\n",
              "      <td>0</td>\n",
              "      <td>0</td>\n",
              "      <td>0</td>\n",
              "      <td>0</td>\n",
              "      <td>0</td>\n",
              "      <td>0</td>\n",
              "      <td>1</td>\n",
              "      <td>0</td>\n",
              "      <td>0</td>\n",
              "      <td>0</td>\n",
              "    </tr>\n",
              "    <tr>\n",
              "      <th>96450</th>\n",
              "      <td>2016-09-09 21:00:00.000 +0200</td>\n",
              "      <td>Partly Cloudy</td>\n",
              "      <td>rain</td>\n",
              "      <td>22.038889</td>\n",
              "      <td>22.038889</td>\n",
              "      <td>0.56</td>\n",
              "      <td>8.9838</td>\n",
              "      <td>30.0</td>\n",
              "      <td>16.1000</td>\n",
              "      <td>0.0</td>\n",
              "      <td>...</td>\n",
              "      <td>0</td>\n",
              "      <td>0</td>\n",
              "      <td>0</td>\n",
              "      <td>0</td>\n",
              "      <td>0</td>\n",
              "      <td>0</td>\n",
              "      <td>1</td>\n",
              "      <td>0</td>\n",
              "      <td>0</td>\n",
              "      <td>0</td>\n",
              "    </tr>\n",
              "    <tr>\n",
              "      <th>96451</th>\n",
              "      <td>2016-09-09 22:00:00.000 +0200</td>\n",
              "      <td>Partly Cloudy</td>\n",
              "      <td>rain</td>\n",
              "      <td>21.522222</td>\n",
              "      <td>21.522222</td>\n",
              "      <td>0.60</td>\n",
              "      <td>10.5294</td>\n",
              "      <td>20.0</td>\n",
              "      <td>16.1000</td>\n",
              "      <td>0.0</td>\n",
              "      <td>...</td>\n",
              "      <td>0</td>\n",
              "      <td>0</td>\n",
              "      <td>0</td>\n",
              "      <td>0</td>\n",
              "      <td>0</td>\n",
              "      <td>0</td>\n",
              "      <td>1</td>\n",
              "      <td>0</td>\n",
              "      <td>0</td>\n",
              "      <td>0</td>\n",
              "    </tr>\n",
              "    <tr>\n",
              "      <th>96452</th>\n",
              "      <td>2016-09-09 23:00:00.000 +0200</td>\n",
              "      <td>Partly Cloudy</td>\n",
              "      <td>rain</td>\n",
              "      <td>20.438889</td>\n",
              "      <td>20.438889</td>\n",
              "      <td>0.61</td>\n",
              "      <td>5.8765</td>\n",
              "      <td>39.0</td>\n",
              "      <td>15.5204</td>\n",
              "      <td>0.0</td>\n",
              "      <td>...</td>\n",
              "      <td>0</td>\n",
              "      <td>0</td>\n",
              "      <td>0</td>\n",
              "      <td>0</td>\n",
              "      <td>0</td>\n",
              "      <td>0</td>\n",
              "      <td>1</td>\n",
              "      <td>0</td>\n",
              "      <td>0</td>\n",
              "      <td>0</td>\n",
              "    </tr>\n",
              "  </tbody>\n",
              "</table>\n",
              "<p>96453 rows × 25 columns</p>\n",
              "</div>\n",
              "      <button class=\"colab-df-convert\" onclick=\"convertToInteractive('df-881aecfa-0f2e-45f0-898e-4d490e266d97')\"\n",
              "              title=\"Convert this dataframe to an interactive table.\"\n",
              "              style=\"display:none;\">\n",
              "        \n",
              "  <svg xmlns=\"http://www.w3.org/2000/svg\" height=\"24px\"viewBox=\"0 0 24 24\"\n",
              "       width=\"24px\">\n",
              "    <path d=\"M0 0h24v24H0V0z\" fill=\"none\"/>\n",
              "    <path d=\"M18.56 5.44l.94 2.06.94-2.06 2.06-.94-2.06-.94-.94-2.06-.94 2.06-2.06.94zm-11 1L8.5 8.5l.94-2.06 2.06-.94-2.06-.94L8.5 2.5l-.94 2.06-2.06.94zm10 10l.94 2.06.94-2.06 2.06-.94-2.06-.94-.94-2.06-.94 2.06-2.06.94z\"/><path d=\"M17.41 7.96l-1.37-1.37c-.4-.4-.92-.59-1.43-.59-.52 0-1.04.2-1.43.59L10.3 9.45l-7.72 7.72c-.78.78-.78 2.05 0 2.83L4 21.41c.39.39.9.59 1.41.59.51 0 1.02-.2 1.41-.59l7.78-7.78 2.81-2.81c.8-.78.8-2.07 0-2.86zM5.41 20L4 18.59l7.72-7.72 1.47 1.35L5.41 20z\"/>\n",
              "  </svg>\n",
              "      </button>\n",
              "      \n",
              "  <style>\n",
              "    .colab-df-container {\n",
              "      display:flex;\n",
              "      flex-wrap:wrap;\n",
              "      gap: 12px;\n",
              "    }\n",
              "\n",
              "    .colab-df-convert {\n",
              "      background-color: #E8F0FE;\n",
              "      border: none;\n",
              "      border-radius: 50%;\n",
              "      cursor: pointer;\n",
              "      display: none;\n",
              "      fill: #1967D2;\n",
              "      height: 32px;\n",
              "      padding: 0 0 0 0;\n",
              "      width: 32px;\n",
              "    }\n",
              "\n",
              "    .colab-df-convert:hover {\n",
              "      background-color: #E2EBFA;\n",
              "      box-shadow: 0px 1px 2px rgba(60, 64, 67, 0.3), 0px 1px 3px 1px rgba(60, 64, 67, 0.15);\n",
              "      fill: #174EA6;\n",
              "    }\n",
              "\n",
              "    [theme=dark] .colab-df-convert {\n",
              "      background-color: #3B4455;\n",
              "      fill: #D2E3FC;\n",
              "    }\n",
              "\n",
              "    [theme=dark] .colab-df-convert:hover {\n",
              "      background-color: #434B5C;\n",
              "      box-shadow: 0px 1px 3px 1px rgba(0, 0, 0, 0.15);\n",
              "      filter: drop-shadow(0px 1px 2px rgba(0, 0, 0, 0.3));\n",
              "      fill: #FFFFFF;\n",
              "    }\n",
              "  </style>\n",
              "\n",
              "      <script>\n",
              "        const buttonEl =\n",
              "          document.querySelector('#df-881aecfa-0f2e-45f0-898e-4d490e266d97 button.colab-df-convert');\n",
              "        buttonEl.style.display =\n",
              "          google.colab.kernel.accessAllowed ? 'block' : 'none';\n",
              "\n",
              "        async function convertToInteractive(key) {\n",
              "          const element = document.querySelector('#df-881aecfa-0f2e-45f0-898e-4d490e266d97');\n",
              "          const dataTable =\n",
              "            await google.colab.kernel.invokeFunction('convertToInteractive',\n",
              "                                                     [key], {});\n",
              "          if (!dataTable) return;\n",
              "\n",
              "          const docLinkHtml = 'Like what you see? Visit the ' +\n",
              "            '<a target=\"_blank\" href=https://colab.research.google.com/notebooks/data_table.ipynb>data table notebook</a>'\n",
              "            + ' to learn more about interactive tables.';\n",
              "          element.innerHTML = '';\n",
              "          dataTable['output_type'] = 'display_data';\n",
              "          await google.colab.output.renderOutput(dataTable, element);\n",
              "          const docLink = document.createElement('div');\n",
              "          docLink.innerHTML = docLinkHtml;\n",
              "          element.appendChild(docLink);\n",
              "        }\n",
              "      </script>\n",
              "    </div>\n",
              "  </div>\n",
              "  "
            ]
          },
          "metadata": {},
          "execution_count": 61
        }
      ]
    },
    {
      "cell_type": "code",
      "source": [
        "df=df.drop('Month',axis=1)\n",
        "df.head()"
      ],
      "metadata": {
        "colab": {
          "base_uri": "https://localhost:8080/",
          "height": 488
        },
        "id": "rGpa68rSC5_y",
        "outputId": "7756246e-90bc-443a-ecdf-66e3a59c404c"
      },
      "execution_count": null,
      "outputs": [
        {
          "output_type": "execute_result",
          "data": {
            "text/plain": [
              "                  Formatted Date        Summary Precip Type  Temperature (C)  \\\n",
              "0  2006-04-01 00:00:00.000 +0200  Partly Cloudy        rain         9.472222   \n",
              "1  2006-04-01 01:00:00.000 +0200  Partly Cloudy        rain         9.355556   \n",
              "2  2006-04-01 02:00:00.000 +0200  Mostly Cloudy        rain         9.377778   \n",
              "3  2006-04-01 03:00:00.000 +0200  Partly Cloudy        rain         8.288889   \n",
              "4  2006-04-01 04:00:00.000 +0200  Mostly Cloudy        rain         8.755556   \n",
              "\n",
              "   Apparent Temperature (C)  Humidity  Wind Speed (km/h)  \\\n",
              "0                  7.388889      0.89            14.1197   \n",
              "1                  7.227778      0.86            14.2646   \n",
              "2                  9.377778      0.89             3.9284   \n",
              "3                  5.944444      0.83            14.1036   \n",
              "4                  6.977778      0.83            11.0446   \n",
              "\n",
              "   Wind Bearing (degrees)  Visibility (km)  Loud Cover  ...  March April  May  \\\n",
              "0                   251.0          15.8263         0.0  ...      0     1    0   \n",
              "1                   259.0          15.8263         0.0  ...      0     1    0   \n",
              "2                   204.0          14.9569         0.0  ...      0     1    0   \n",
              "3                   269.0          15.8263         0.0  ...      0     1    0   \n",
              "4                   259.0          15.8263         0.0  ...      0     1    0   \n",
              "\n",
              "   June  July  August  September  October  November  December  \n",
              "0     0     0       0          0        0         0         0  \n",
              "1     0     0       0          0        0         0         0  \n",
              "2     0     0       0          0        0         0         0  \n",
              "3     0     0       0          0        0         0         0  \n",
              "4     0     0       0          0        0         0         0  \n",
              "\n",
              "[5 rows x 24 columns]"
            ],
            "text/html": [
              "\n",
              "  <div id=\"df-c1c5ece0-12b2-45ca-b96c-2dd7fa2bb75f\">\n",
              "    <div class=\"colab-df-container\">\n",
              "      <div>\n",
              "<style scoped>\n",
              "    .dataframe tbody tr th:only-of-type {\n",
              "        vertical-align: middle;\n",
              "    }\n",
              "\n",
              "    .dataframe tbody tr th {\n",
              "        vertical-align: top;\n",
              "    }\n",
              "\n",
              "    .dataframe thead th {\n",
              "        text-align: right;\n",
              "    }\n",
              "</style>\n",
              "<table border=\"1\" class=\"dataframe\">\n",
              "  <thead>\n",
              "    <tr style=\"text-align: right;\">\n",
              "      <th></th>\n",
              "      <th>Formatted Date</th>\n",
              "      <th>Summary</th>\n",
              "      <th>Precip Type</th>\n",
              "      <th>Temperature (C)</th>\n",
              "      <th>Apparent Temperature (C)</th>\n",
              "      <th>Humidity</th>\n",
              "      <th>Wind Speed (km/h)</th>\n",
              "      <th>Wind Bearing (degrees)</th>\n",
              "      <th>Visibility (km)</th>\n",
              "      <th>Loud Cover</th>\n",
              "      <th>...</th>\n",
              "      <th>March</th>\n",
              "      <th>April</th>\n",
              "      <th>May</th>\n",
              "      <th>June</th>\n",
              "      <th>July</th>\n",
              "      <th>August</th>\n",
              "      <th>September</th>\n",
              "      <th>October</th>\n",
              "      <th>November</th>\n",
              "      <th>December</th>\n",
              "    </tr>\n",
              "  </thead>\n",
              "  <tbody>\n",
              "    <tr>\n",
              "      <th>0</th>\n",
              "      <td>2006-04-01 00:00:00.000 +0200</td>\n",
              "      <td>Partly Cloudy</td>\n",
              "      <td>rain</td>\n",
              "      <td>9.472222</td>\n",
              "      <td>7.388889</td>\n",
              "      <td>0.89</td>\n",
              "      <td>14.1197</td>\n",
              "      <td>251.0</td>\n",
              "      <td>15.8263</td>\n",
              "      <td>0.0</td>\n",
              "      <td>...</td>\n",
              "      <td>0</td>\n",
              "      <td>1</td>\n",
              "      <td>0</td>\n",
              "      <td>0</td>\n",
              "      <td>0</td>\n",
              "      <td>0</td>\n",
              "      <td>0</td>\n",
              "      <td>0</td>\n",
              "      <td>0</td>\n",
              "      <td>0</td>\n",
              "    </tr>\n",
              "    <tr>\n",
              "      <th>1</th>\n",
              "      <td>2006-04-01 01:00:00.000 +0200</td>\n",
              "      <td>Partly Cloudy</td>\n",
              "      <td>rain</td>\n",
              "      <td>9.355556</td>\n",
              "      <td>7.227778</td>\n",
              "      <td>0.86</td>\n",
              "      <td>14.2646</td>\n",
              "      <td>259.0</td>\n",
              "      <td>15.8263</td>\n",
              "      <td>0.0</td>\n",
              "      <td>...</td>\n",
              "      <td>0</td>\n",
              "      <td>1</td>\n",
              "      <td>0</td>\n",
              "      <td>0</td>\n",
              "      <td>0</td>\n",
              "      <td>0</td>\n",
              "      <td>0</td>\n",
              "      <td>0</td>\n",
              "      <td>0</td>\n",
              "      <td>0</td>\n",
              "    </tr>\n",
              "    <tr>\n",
              "      <th>2</th>\n",
              "      <td>2006-04-01 02:00:00.000 +0200</td>\n",
              "      <td>Mostly Cloudy</td>\n",
              "      <td>rain</td>\n",
              "      <td>9.377778</td>\n",
              "      <td>9.377778</td>\n",
              "      <td>0.89</td>\n",
              "      <td>3.9284</td>\n",
              "      <td>204.0</td>\n",
              "      <td>14.9569</td>\n",
              "      <td>0.0</td>\n",
              "      <td>...</td>\n",
              "      <td>0</td>\n",
              "      <td>1</td>\n",
              "      <td>0</td>\n",
              "      <td>0</td>\n",
              "      <td>0</td>\n",
              "      <td>0</td>\n",
              "      <td>0</td>\n",
              "      <td>0</td>\n",
              "      <td>0</td>\n",
              "      <td>0</td>\n",
              "    </tr>\n",
              "    <tr>\n",
              "      <th>3</th>\n",
              "      <td>2006-04-01 03:00:00.000 +0200</td>\n",
              "      <td>Partly Cloudy</td>\n",
              "      <td>rain</td>\n",
              "      <td>8.288889</td>\n",
              "      <td>5.944444</td>\n",
              "      <td>0.83</td>\n",
              "      <td>14.1036</td>\n",
              "      <td>269.0</td>\n",
              "      <td>15.8263</td>\n",
              "      <td>0.0</td>\n",
              "      <td>...</td>\n",
              "      <td>0</td>\n",
              "      <td>1</td>\n",
              "      <td>0</td>\n",
              "      <td>0</td>\n",
              "      <td>0</td>\n",
              "      <td>0</td>\n",
              "      <td>0</td>\n",
              "      <td>0</td>\n",
              "      <td>0</td>\n",
              "      <td>0</td>\n",
              "    </tr>\n",
              "    <tr>\n",
              "      <th>4</th>\n",
              "      <td>2006-04-01 04:00:00.000 +0200</td>\n",
              "      <td>Mostly Cloudy</td>\n",
              "      <td>rain</td>\n",
              "      <td>8.755556</td>\n",
              "      <td>6.977778</td>\n",
              "      <td>0.83</td>\n",
              "      <td>11.0446</td>\n",
              "      <td>259.0</td>\n",
              "      <td>15.8263</td>\n",
              "      <td>0.0</td>\n",
              "      <td>...</td>\n",
              "      <td>0</td>\n",
              "      <td>1</td>\n",
              "      <td>0</td>\n",
              "      <td>0</td>\n",
              "      <td>0</td>\n",
              "      <td>0</td>\n",
              "      <td>0</td>\n",
              "      <td>0</td>\n",
              "      <td>0</td>\n",
              "      <td>0</td>\n",
              "    </tr>\n",
              "  </tbody>\n",
              "</table>\n",
              "<p>5 rows × 24 columns</p>\n",
              "</div>\n",
              "      <button class=\"colab-df-convert\" onclick=\"convertToInteractive('df-c1c5ece0-12b2-45ca-b96c-2dd7fa2bb75f')\"\n",
              "              title=\"Convert this dataframe to an interactive table.\"\n",
              "              style=\"display:none;\">\n",
              "        \n",
              "  <svg xmlns=\"http://www.w3.org/2000/svg\" height=\"24px\"viewBox=\"0 0 24 24\"\n",
              "       width=\"24px\">\n",
              "    <path d=\"M0 0h24v24H0V0z\" fill=\"none\"/>\n",
              "    <path d=\"M18.56 5.44l.94 2.06.94-2.06 2.06-.94-2.06-.94-.94-2.06-.94 2.06-2.06.94zm-11 1L8.5 8.5l.94-2.06 2.06-.94-2.06-.94L8.5 2.5l-.94 2.06-2.06.94zm10 10l.94 2.06.94-2.06 2.06-.94-2.06-.94-.94-2.06-.94 2.06-2.06.94z\"/><path d=\"M17.41 7.96l-1.37-1.37c-.4-.4-.92-.59-1.43-.59-.52 0-1.04.2-1.43.59L10.3 9.45l-7.72 7.72c-.78.78-.78 2.05 0 2.83L4 21.41c.39.39.9.59 1.41.59.51 0 1.02-.2 1.41-.59l7.78-7.78 2.81-2.81c.8-.78.8-2.07 0-2.86zM5.41 20L4 18.59l7.72-7.72 1.47 1.35L5.41 20z\"/>\n",
              "  </svg>\n",
              "      </button>\n",
              "      \n",
              "  <style>\n",
              "    .colab-df-container {\n",
              "      display:flex;\n",
              "      flex-wrap:wrap;\n",
              "      gap: 12px;\n",
              "    }\n",
              "\n",
              "    .colab-df-convert {\n",
              "      background-color: #E8F0FE;\n",
              "      border: none;\n",
              "      border-radius: 50%;\n",
              "      cursor: pointer;\n",
              "      display: none;\n",
              "      fill: #1967D2;\n",
              "      height: 32px;\n",
              "      padding: 0 0 0 0;\n",
              "      width: 32px;\n",
              "    }\n",
              "\n",
              "    .colab-df-convert:hover {\n",
              "      background-color: #E2EBFA;\n",
              "      box-shadow: 0px 1px 2px rgba(60, 64, 67, 0.3), 0px 1px 3px 1px rgba(60, 64, 67, 0.15);\n",
              "      fill: #174EA6;\n",
              "    }\n",
              "\n",
              "    [theme=dark] .colab-df-convert {\n",
              "      background-color: #3B4455;\n",
              "      fill: #D2E3FC;\n",
              "    }\n",
              "\n",
              "    [theme=dark] .colab-df-convert:hover {\n",
              "      background-color: #434B5C;\n",
              "      box-shadow: 0px 1px 3px 1px rgba(0, 0, 0, 0.15);\n",
              "      filter: drop-shadow(0px 1px 2px rgba(0, 0, 0, 0.3));\n",
              "      fill: #FFFFFF;\n",
              "    }\n",
              "  </style>\n",
              "\n",
              "      <script>\n",
              "        const buttonEl =\n",
              "          document.querySelector('#df-c1c5ece0-12b2-45ca-b96c-2dd7fa2bb75f button.colab-df-convert');\n",
              "        buttonEl.style.display =\n",
              "          google.colab.kernel.accessAllowed ? 'block' : 'none';\n",
              "\n",
              "        async function convertToInteractive(key) {\n",
              "          const element = document.querySelector('#df-c1c5ece0-12b2-45ca-b96c-2dd7fa2bb75f');\n",
              "          const dataTable =\n",
              "            await google.colab.kernel.invokeFunction('convertToInteractive',\n",
              "                                                     [key], {});\n",
              "          if (!dataTable) return;\n",
              "\n",
              "          const docLinkHtml = 'Like what you see? Visit the ' +\n",
              "            '<a target=\"_blank\" href=https://colab.research.google.com/notebooks/data_table.ipynb>data table notebook</a>'\n",
              "            + ' to learn more about interactive tables.';\n",
              "          element.innerHTML = '';\n",
              "          dataTable['output_type'] = 'display_data';\n",
              "          await google.colab.output.renderOutput(dataTable, element);\n",
              "          const docLink = document.createElement('div');\n",
              "          docLink.innerHTML = docLinkHtml;\n",
              "          element.appendChild(docLink);\n",
              "        }\n",
              "      </script>\n",
              "    </div>\n",
              "  </div>\n",
              "  "
            ]
          },
          "metadata": {},
          "execution_count": 62
        }
      ]
    },
    {
      "cell_type": "markdown",
      "source": [
        "________________________________________________________________________________\n",
        "\n",
        "![21.png](data:image/png;base64,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)![1.png](data:image/png;base64,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)"
      ],
      "metadata": {
        "id": "4kXyg9tuWn1F"
      }
    },
    {
      "cell_type": "markdown",
      "source": [
        "כיוון שלמשקעים שלושה ערכים שונים ואילו לעמוד LOUD COVER יש רק סוג אחד, היא לא רלוונטית וכנראה טעות אנוש"
      ],
      "metadata": {
        "id": "A1SdhMOQWvJ1"
      }
    },
    {
      "cell_type": "code",
      "source": [
        "df=df.drop('Loud Cover', axis=1)"
      ],
      "metadata": {
        "id": "EkCjy-vEwTED"
      },
      "execution_count": null,
      "outputs": []
    },
    {
      "cell_type": "markdown",
      "source": [
        "כל הנתונים הללו אינם לינארים ולא מספריים בכלל. הם כולם סובייקטיבים ולא אובייקטיבים ו\"מקצועיים\" מספיק. לדוגמא סיכום היום במילים, אין משהו שניתן לעשות עם זה. את התאריך אוריד גם כן כיוון ששמרתי את החודשים"
      ],
      "metadata": {
        "id": "RQhCcXCDXFdO"
      }
    },
    {
      "cell_type": "code",
      "source": [
        "Y=df['Precip Type']\n",
        "df=df.drop(columns=['Formatted Date', 'Summary', 'Precip Type', 'Daily Summary'])"
      ],
      "metadata": {
        "id": "gzNnqHeysWY4"
      },
      "execution_count": null,
      "outputs": []
    },
    {
      "cell_type": "markdown",
      "source": [
        "### Correlation"
      ],
      "metadata": {
        "id": "786xee21FFPl"
      }
    },
    {
      "cell_type": "markdown",
      "source": [
        "הצגת היחסים בין הנתונים לאחר שנוקו וסודרו. פעם אחת בטבלה רגילה, ופעם אחת בטבלת קור חום- כלומר, ככול שהיחסים מתקרבים ל 1 יהיה חם יותר (אדום), וככל שמתקרבים ל -1 יהיה קר יותר(כחול)"
      ],
      "metadata": {
        "id": "NrB6l2oRjr3S"
      }
    },
    {
      "cell_type": "code",
      "source": [
        "df.corr()"
      ],
      "metadata": {
        "colab": {
          "base_uri": "https://localhost:8080/",
          "height": 883
        },
        "id": "g1-pqeZN5Qhg",
        "outputId": "8faca043-93cb-4d86-bc31-b0b4f841ddd6"
      },
      "execution_count": null,
      "outputs": [
        {
          "output_type": "execute_result",
          "data": {
            "text/plain": [
              "                          Temperature (C)  Apparent Temperature (C)  Humidity  \\\n",
              "Temperature (C)                  1.000000                  0.992629 -0.632255   \n",
              "Apparent Temperature (C)         0.992629                  1.000000 -0.602571   \n",
              "Humidity                        -0.632255                 -0.602571  1.000000   \n",
              "Wind Speed (km/h)                0.008957                 -0.056650 -0.224951   \n",
              "Wind Bearing (degrees)           0.029988                  0.029031  0.000735   \n",
              "Visibility (km)                  0.392847                  0.381718 -0.369173   \n",
              "Pressure (millibars)            -0.005447                 -0.000219  0.005454   \n",
              "January                         -0.354458                 -0.364211  0.180424   \n",
              "Fabuary                         -0.296328                 -0.309203  0.116308   \n",
              "March                           -0.160110                 -0.164434 -0.049707   \n",
              "April                            0.025795                  0.035962 -0.143474   \n",
              "May                              0.157516                  0.167315 -0.067878   \n",
              "June                             0.275029                  0.276459 -0.074103   \n",
              "July                             0.351597                  0.344968 -0.148333   \n",
              "August                           0.332469                  0.325472 -0.155020   \n",
              "September                        0.174861                  0.183125 -0.070552   \n",
              "October                         -0.018836                 -0.004577  0.061818   \n",
              "November                        -0.167304                 -0.163066  0.142193   \n",
              "December                        -0.328322                 -0.336077  0.211059   \n",
              "\n",
              "                          Wind Speed (km/h)  Wind Bearing (degrees)  \\\n",
              "Temperature (C)                    0.008957                0.029988   \n",
              "Apparent Temperature (C)          -0.056650                0.029031   \n",
              "Humidity                          -0.224951                0.000735   \n",
              "Wind Speed (km/h)                  1.000000                0.103822   \n",
              "Wind Bearing (degrees)             0.103822                1.000000   \n",
              "Visibility (km)                    0.100749                0.047594   \n",
              "Pressure (millibars)              -0.049263               -0.011651   \n",
              "January                            0.030926               -0.020143   \n",
              "Fabuary                            0.057596                0.003258   \n",
              "March                              0.114200               -0.002751   \n",
              "April                              0.046829               -0.002384   \n",
              "May                                0.006549                0.001594   \n",
              "June                              -0.051230                0.042536   \n",
              "July                              -0.051552                0.043384   \n",
              "August                            -0.082811                0.022211   \n",
              "September                         -0.051431                0.000441   \n",
              "October                           -0.035723               -0.030070   \n",
              "November                           0.005781               -0.040026   \n",
              "December                           0.012686               -0.017914   \n",
              "\n",
              "                          Visibility (km)  Pressure (millibars)   January  \\\n",
              "Temperature (C)                  0.392847             -0.005447 -0.354458   \n",
              "Apparent Temperature (C)         0.381718             -0.000219 -0.364211   \n",
              "Humidity                        -0.369173              0.005454  0.180424   \n",
              "Wind Speed (km/h)                0.100749             -0.049263  0.030926   \n",
              "Wind Bearing (degrees)           0.047594             -0.011651 -0.020143   \n",
              "Visibility (km)                  1.000000              0.059818 -0.182804   \n",
              "Pressure (millibars)             0.059818              1.000000  0.007523   \n",
              "January                         -0.182804              0.007523  1.000000   \n",
              "Fabuary                         -0.111639              0.001717 -0.088185   \n",
              "March                            0.040873             -0.004382 -0.092648   \n",
              "April                            0.102519              0.017287 -0.091073   \n",
              "May                              0.112252              0.000686 -0.092717   \n",
              "June                             0.117220             -0.003458 -0.091073   \n",
              "July                             0.133658              0.013873 -0.092698   \n",
              "August                           0.153376             -0.003961 -0.092865   \n",
              "September                        0.089580             -0.006829 -0.091073   \n",
              "October                         -0.044023              0.000020 -0.092785   \n",
              "November                        -0.153832              0.023170 -0.091073   \n",
              "December                        -0.259601             -0.045124 -0.092717   \n",
              "\n",
              "                           Fabuary     March     April       May      June  \\\n",
              "Temperature (C)          -0.296328 -0.160110  0.025795  0.157516  0.275029   \n",
              "Apparent Temperature (C) -0.309203 -0.164434  0.035962  0.167315  0.276459   \n",
              "Humidity                  0.116308 -0.049707 -0.143474 -0.067878 -0.074103   \n",
              "Wind Speed (km/h)         0.057596  0.114200  0.046829  0.006549 -0.051230   \n",
              "Wind Bearing (degrees)    0.003258 -0.002751 -0.002384  0.001594  0.042536   \n",
              "Visibility (km)          -0.111639  0.040873  0.102519  0.112252  0.117220   \n",
              "Pressure (millibars)      0.001717 -0.004382  0.017287  0.000686 -0.003458   \n",
              "January                  -0.088185 -0.092648 -0.091073 -0.092717 -0.091073   \n",
              "Fabuary                   1.000000 -0.088121 -0.086622 -0.088185 -0.086622   \n",
              "March                    -0.088121  1.000000 -0.091006 -0.092648 -0.091006   \n",
              "April                    -0.086622 -0.091006  1.000000 -0.091073 -0.089458   \n",
              "May                      -0.088185 -0.092648 -0.091073  1.000000 -0.091073   \n",
              "June                     -0.086622 -0.091006 -0.089458 -0.091073  1.000000   \n",
              "July                     -0.088168 -0.092630 -0.091055 -0.092698 -0.091055   \n",
              "August                   -0.088327 -0.092797 -0.091219 -0.092865 -0.091219   \n",
              "September                -0.086622 -0.091006 -0.089458 -0.091073 -0.089458   \n",
              "October                  -0.088250 -0.092716 -0.091140 -0.092785 -0.091140   \n",
              "November                 -0.086622 -0.091006 -0.089458 -0.091073 -0.089458   \n",
              "December                 -0.088185 -0.092648 -0.091073 -0.092717 -0.091073   \n",
              "\n",
              "                              July    August  September   October  November  \\\n",
              "Temperature (C)           0.351597  0.332469   0.174861 -0.018836 -0.167304   \n",
              "Apparent Temperature (C)  0.344968  0.325472   0.183125 -0.004577 -0.163066   \n",
              "Humidity                 -0.148333 -0.155020  -0.070552  0.061818  0.142193   \n",
              "Wind Speed (km/h)        -0.051552 -0.082811  -0.051431 -0.035723  0.005781   \n",
              "Wind Bearing (degrees)    0.043384  0.022211   0.000441 -0.030070 -0.040026   \n",
              "Visibility (km)           0.133658  0.153376   0.089580 -0.044023 -0.153832   \n",
              "Pressure (millibars)      0.013873 -0.003961  -0.006829  0.000020  0.023170   \n",
              "January                  -0.092698 -0.092865  -0.091073 -0.092785 -0.091073   \n",
              "Fabuary                  -0.088168 -0.088327  -0.086622 -0.088250 -0.086622   \n",
              "March                    -0.092630 -0.092797  -0.091006 -0.092716 -0.091006   \n",
              "April                    -0.091055 -0.091219  -0.089458 -0.091140 -0.089458   \n",
              "May                      -0.092698 -0.092865  -0.091073 -0.092785 -0.091073   \n",
              "June                     -0.091055 -0.091219  -0.089458 -0.091140 -0.089458   \n",
              "July                      1.000000 -0.092846  -0.091055 -0.092766 -0.091055   \n",
              "August                   -0.092846  1.000000  -0.091219 -0.092933 -0.091219   \n",
              "September                -0.091055 -0.091219   1.000000 -0.091140 -0.089458   \n",
              "October                  -0.092766 -0.092933  -0.091140  1.000000 -0.091140   \n",
              "November                 -0.091055 -0.091219  -0.089458 -0.091140  1.000000   \n",
              "December                 -0.092698 -0.092865  -0.091073 -0.092785 -0.091073   \n",
              "\n",
              "                          December  \n",
              "Temperature (C)          -0.328322  \n",
              "Apparent Temperature (C) -0.336077  \n",
              "Humidity                  0.211059  \n",
              "Wind Speed (km/h)         0.012686  \n",
              "Wind Bearing (degrees)   -0.017914  \n",
              "Visibility (km)          -0.259601  \n",
              "Pressure (millibars)     -0.045124  \n",
              "January                  -0.092717  \n",
              "Fabuary                  -0.088185  \n",
              "March                    -0.092648  \n",
              "April                    -0.091073  \n",
              "May                      -0.092717  \n",
              "June                     -0.091073  \n",
              "July                     -0.092698  \n",
              "August                   -0.092865  \n",
              "September                -0.091073  \n",
              "October                  -0.092785  \n",
              "November                 -0.091073  \n",
              "December                  1.000000  "
            ],
            "text/html": [
              "\n",
              "  <div id=\"df-1c7c4b9f-f00c-4d9f-baba-f155f029a4cb\">\n",
              "    <div class=\"colab-df-container\">\n",
              "      <div>\n",
              "<style scoped>\n",
              "    .dataframe tbody tr th:only-of-type {\n",
              "        vertical-align: middle;\n",
              "    }\n",
              "\n",
              "    .dataframe tbody tr th {\n",
              "        vertical-align: top;\n",
              "    }\n",
              "\n",
              "    .dataframe thead th {\n",
              "        text-align: right;\n",
              "    }\n",
              "</style>\n",
              "<table border=\"1\" class=\"dataframe\">\n",
              "  <thead>\n",
              "    <tr style=\"text-align: right;\">\n",
              "      <th></th>\n",
              "      <th>Temperature (C)</th>\n",
              "      <th>Apparent Temperature (C)</th>\n",
              "      <th>Humidity</th>\n",
              "      <th>Wind Speed (km/h)</th>\n",
              "      <th>Wind Bearing (degrees)</th>\n",
              "      <th>Visibility (km)</th>\n",
              "      <th>Pressure (millibars)</th>\n",
              "      <th>January</th>\n",
              "      <th>Fabuary</th>\n",
              "      <th>March</th>\n",
              "      <th>April</th>\n",
              "      <th>May</th>\n",
              "      <th>June</th>\n",
              "      <th>July</th>\n",
              "      <th>August</th>\n",
              "      <th>September</th>\n",
              "      <th>October</th>\n",
              "      <th>November</th>\n",
              "      <th>December</th>\n",
              "    </tr>\n",
              "  </thead>\n",
              "  <tbody>\n",
              "    <tr>\n",
              "      <th>Temperature (C)</th>\n",
              "      <td>1.000000</td>\n",
              "      <td>0.992629</td>\n",
              "      <td>-0.632255</td>\n",
              "      <td>0.008957</td>\n",
              "      <td>0.029988</td>\n",
              "      <td>0.392847</td>\n",
              "      <td>-0.005447</td>\n",
              "      <td>-0.354458</td>\n",
              "      <td>-0.296328</td>\n",
              "      <td>-0.160110</td>\n",
              "      <td>0.025795</td>\n",
              "      <td>0.157516</td>\n",
              "      <td>0.275029</td>\n",
              "      <td>0.351597</td>\n",
              "      <td>0.332469</td>\n",
              "      <td>0.174861</td>\n",
              "      <td>-0.018836</td>\n",
              "      <td>-0.167304</td>\n",
              "      <td>-0.328322</td>\n",
              "    </tr>\n",
              "    <tr>\n",
              "      <th>Apparent Temperature (C)</th>\n",
              "      <td>0.992629</td>\n",
              "      <td>1.000000</td>\n",
              "      <td>-0.602571</td>\n",
              "      <td>-0.056650</td>\n",
              "      <td>0.029031</td>\n",
              "      <td>0.381718</td>\n",
              "      <td>-0.000219</td>\n",
              "      <td>-0.364211</td>\n",
              "      <td>-0.309203</td>\n",
              "      <td>-0.164434</td>\n",
              "      <td>0.035962</td>\n",
              "      <td>0.167315</td>\n",
              "      <td>0.276459</td>\n",
              "      <td>0.344968</td>\n",
              "      <td>0.325472</td>\n",
              "      <td>0.183125</td>\n",
              "      <td>-0.004577</td>\n",
              "      <td>-0.163066</td>\n",
              "      <td>-0.336077</td>\n",
              "    </tr>\n",
              "    <tr>\n",
              "      <th>Humidity</th>\n",
              "      <td>-0.632255</td>\n",
              "      <td>-0.602571</td>\n",
              "      <td>1.000000</td>\n",
              "      <td>-0.224951</td>\n",
              "      <td>0.000735</td>\n",
              "      <td>-0.369173</td>\n",
              "      <td>0.005454</td>\n",
              "      <td>0.180424</td>\n",
              "      <td>0.116308</td>\n",
              "      <td>-0.049707</td>\n",
              "      <td>-0.143474</td>\n",
              "      <td>-0.067878</td>\n",
              "      <td>-0.074103</td>\n",
              "      <td>-0.148333</td>\n",
              "      <td>-0.155020</td>\n",
              "      <td>-0.070552</td>\n",
              "      <td>0.061818</td>\n",
              "      <td>0.142193</td>\n",
              "      <td>0.211059</td>\n",
              "    </tr>\n",
              "    <tr>\n",
              "      <th>Wind Speed (km/h)</th>\n",
              "      <td>0.008957</td>\n",
              "      <td>-0.056650</td>\n",
              "      <td>-0.224951</td>\n",
              "      <td>1.000000</td>\n",
              "      <td>0.103822</td>\n",
              "      <td>0.100749</td>\n",
              "      <td>-0.049263</td>\n",
              "      <td>0.030926</td>\n",
              "      <td>0.057596</td>\n",
              "      <td>0.114200</td>\n",
              "      <td>0.046829</td>\n",
              "      <td>0.006549</td>\n",
              "      <td>-0.051230</td>\n",
              "      <td>-0.051552</td>\n",
              "      <td>-0.082811</td>\n",
              "      <td>-0.051431</td>\n",
              "      <td>-0.035723</td>\n",
              "      <td>0.005781</td>\n",
              "      <td>0.012686</td>\n",
              "    </tr>\n",
              "    <tr>\n",
              "      <th>Wind Bearing (degrees)</th>\n",
              "      <td>0.029988</td>\n",
              "      <td>0.029031</td>\n",
              "      <td>0.000735</td>\n",
              "      <td>0.103822</td>\n",
              "      <td>1.000000</td>\n",
              "      <td>0.047594</td>\n",
              "      <td>-0.011651</td>\n",
              "      <td>-0.020143</td>\n",
              "      <td>0.003258</td>\n",
              "      <td>-0.002751</td>\n",
              "      <td>-0.002384</td>\n",
              "      <td>0.001594</td>\n",
              "      <td>0.042536</td>\n",
              "      <td>0.043384</td>\n",
              "      <td>0.022211</td>\n",
              "      <td>0.000441</td>\n",
              "      <td>-0.030070</td>\n",
              "      <td>-0.040026</td>\n",
              "      <td>-0.017914</td>\n",
              "    </tr>\n",
              "    <tr>\n",
              "      <th>Visibility (km)</th>\n",
              "      <td>0.392847</td>\n",
              "      <td>0.381718</td>\n",
              "      <td>-0.369173</td>\n",
              "      <td>0.100749</td>\n",
              "      <td>0.047594</td>\n",
              "      <td>1.000000</td>\n",
              "      <td>0.059818</td>\n",
              "      <td>-0.182804</td>\n",
              "      <td>-0.111639</td>\n",
              "      <td>0.040873</td>\n",
              "      <td>0.102519</td>\n",
              "      <td>0.112252</td>\n",
              "      <td>0.117220</td>\n",
              "      <td>0.133658</td>\n",
              "      <td>0.153376</td>\n",
              "      <td>0.089580</td>\n",
              "      <td>-0.044023</td>\n",
              "      <td>-0.153832</td>\n",
              "      <td>-0.259601</td>\n",
              "    </tr>\n",
              "    <tr>\n",
              "      <th>Pressure (millibars)</th>\n",
              "      <td>-0.005447</td>\n",
              "      <td>-0.000219</td>\n",
              "      <td>0.005454</td>\n",
              "      <td>-0.049263</td>\n",
              "      <td>-0.011651</td>\n",
              "      <td>0.059818</td>\n",
              "      <td>1.000000</td>\n",
              "      <td>0.007523</td>\n",
              "      <td>0.001717</td>\n",
              "      <td>-0.004382</td>\n",
              "      <td>0.017287</td>\n",
              "      <td>0.000686</td>\n",
              "      <td>-0.003458</td>\n",
              "      <td>0.013873</td>\n",
              "      <td>-0.003961</td>\n",
              "      <td>-0.006829</td>\n",
              "      <td>0.000020</td>\n",
              "      <td>0.023170</td>\n",
              "      <td>-0.045124</td>\n",
              "    </tr>\n",
              "    <tr>\n",
              "      <th>January</th>\n",
              "      <td>-0.354458</td>\n",
              "      <td>-0.364211</td>\n",
              "      <td>0.180424</td>\n",
              "      <td>0.030926</td>\n",
              "      <td>-0.020143</td>\n",
              "      <td>-0.182804</td>\n",
              "      <td>0.007523</td>\n",
              "      <td>1.000000</td>\n",
              "      <td>-0.088185</td>\n",
              "      <td>-0.092648</td>\n",
              "      <td>-0.091073</td>\n",
              "      <td>-0.092717</td>\n",
              "      <td>-0.091073</td>\n",
              "      <td>-0.092698</td>\n",
              "      <td>-0.092865</td>\n",
              "      <td>-0.091073</td>\n",
              "      <td>-0.092785</td>\n",
              "      <td>-0.091073</td>\n",
              "      <td>-0.092717</td>\n",
              "    </tr>\n",
              "    <tr>\n",
              "      <th>Fabuary</th>\n",
              "      <td>-0.296328</td>\n",
              "      <td>-0.309203</td>\n",
              "      <td>0.116308</td>\n",
              "      <td>0.057596</td>\n",
              "      <td>0.003258</td>\n",
              "      <td>-0.111639</td>\n",
              "      <td>0.001717</td>\n",
              "      <td>-0.088185</td>\n",
              "      <td>1.000000</td>\n",
              "      <td>-0.088121</td>\n",
              "      <td>-0.086622</td>\n",
              "      <td>-0.088185</td>\n",
              "      <td>-0.086622</td>\n",
              "      <td>-0.088168</td>\n",
              "      <td>-0.088327</td>\n",
              "      <td>-0.086622</td>\n",
              "      <td>-0.088250</td>\n",
              "      <td>-0.086622</td>\n",
              "      <td>-0.088185</td>\n",
              "    </tr>\n",
              "    <tr>\n",
              "      <th>March</th>\n",
              "      <td>-0.160110</td>\n",
              "      <td>-0.164434</td>\n",
              "      <td>-0.049707</td>\n",
              "      <td>0.114200</td>\n",
              "      <td>-0.002751</td>\n",
              "      <td>0.040873</td>\n",
              "      <td>-0.004382</td>\n",
              "      <td>-0.092648</td>\n",
              "      <td>-0.088121</td>\n",
              "      <td>1.000000</td>\n",
              "      <td>-0.091006</td>\n",
              "      <td>-0.092648</td>\n",
              "      <td>-0.091006</td>\n",
              "      <td>-0.092630</td>\n",
              "      <td>-0.092797</td>\n",
              "      <td>-0.091006</td>\n",
              "      <td>-0.092716</td>\n",
              "      <td>-0.091006</td>\n",
              "      <td>-0.092648</td>\n",
              "    </tr>\n",
              "    <tr>\n",
              "      <th>April</th>\n",
              "      <td>0.025795</td>\n",
              "      <td>0.035962</td>\n",
              "      <td>-0.143474</td>\n",
              "      <td>0.046829</td>\n",
              "      <td>-0.002384</td>\n",
              "      <td>0.102519</td>\n",
              "      <td>0.017287</td>\n",
              "      <td>-0.091073</td>\n",
              "      <td>-0.086622</td>\n",
              "      <td>-0.091006</td>\n",
              "      <td>1.000000</td>\n",
              "      <td>-0.091073</td>\n",
              "      <td>-0.089458</td>\n",
              "      <td>-0.091055</td>\n",
              "      <td>-0.091219</td>\n",
              "      <td>-0.089458</td>\n",
              "      <td>-0.091140</td>\n",
              "      <td>-0.089458</td>\n",
              "      <td>-0.091073</td>\n",
              "    </tr>\n",
              "    <tr>\n",
              "      <th>May</th>\n",
              "      <td>0.157516</td>\n",
              "      <td>0.167315</td>\n",
              "      <td>-0.067878</td>\n",
              "      <td>0.006549</td>\n",
              "      <td>0.001594</td>\n",
              "      <td>0.112252</td>\n",
              "      <td>0.000686</td>\n",
              "      <td>-0.092717</td>\n",
              "      <td>-0.088185</td>\n",
              "      <td>-0.092648</td>\n",
              "      <td>-0.091073</td>\n",
              "      <td>1.000000</td>\n",
              "      <td>-0.091073</td>\n",
              "      <td>-0.092698</td>\n",
              "      <td>-0.092865</td>\n",
              "      <td>-0.091073</td>\n",
              "      <td>-0.092785</td>\n",
              "      <td>-0.091073</td>\n",
              "      <td>-0.092717</td>\n",
              "    </tr>\n",
              "    <tr>\n",
              "      <th>June</th>\n",
              "      <td>0.275029</td>\n",
              "      <td>0.276459</td>\n",
              "      <td>-0.074103</td>\n",
              "      <td>-0.051230</td>\n",
              "      <td>0.042536</td>\n",
              "      <td>0.117220</td>\n",
              "      <td>-0.003458</td>\n",
              "      <td>-0.091073</td>\n",
              "      <td>-0.086622</td>\n",
              "      <td>-0.091006</td>\n",
              "      <td>-0.089458</td>\n",
              "      <td>-0.091073</td>\n",
              "      <td>1.000000</td>\n",
              "      <td>-0.091055</td>\n",
              "      <td>-0.091219</td>\n",
              "      <td>-0.089458</td>\n",
              "      <td>-0.091140</td>\n",
              "      <td>-0.089458</td>\n",
              "      <td>-0.091073</td>\n",
              "    </tr>\n",
              "    <tr>\n",
              "      <th>July</th>\n",
              "      <td>0.351597</td>\n",
              "      <td>0.344968</td>\n",
              "      <td>-0.148333</td>\n",
              "      <td>-0.051552</td>\n",
              "      <td>0.043384</td>\n",
              "      <td>0.133658</td>\n",
              "      <td>0.013873</td>\n",
              "      <td>-0.092698</td>\n",
              "      <td>-0.088168</td>\n",
              "      <td>-0.092630</td>\n",
              "      <td>-0.091055</td>\n",
              "      <td>-0.092698</td>\n",
              "      <td>-0.091055</td>\n",
              "      <td>1.000000</td>\n",
              "      <td>-0.092846</td>\n",
              "      <td>-0.091055</td>\n",
              "      <td>-0.092766</td>\n",
              "      <td>-0.091055</td>\n",
              "      <td>-0.092698</td>\n",
              "    </tr>\n",
              "    <tr>\n",
              "      <th>August</th>\n",
              "      <td>0.332469</td>\n",
              "      <td>0.325472</td>\n",
              "      <td>-0.155020</td>\n",
              "      <td>-0.082811</td>\n",
              "      <td>0.022211</td>\n",
              "      <td>0.153376</td>\n",
              "      <td>-0.003961</td>\n",
              "      <td>-0.092865</td>\n",
              "      <td>-0.088327</td>\n",
              "      <td>-0.092797</td>\n",
              "      <td>-0.091219</td>\n",
              "      <td>-0.092865</td>\n",
              "      <td>-0.091219</td>\n",
              "      <td>-0.092846</td>\n",
              "      <td>1.000000</td>\n",
              "      <td>-0.091219</td>\n",
              "      <td>-0.092933</td>\n",
              "      <td>-0.091219</td>\n",
              "      <td>-0.092865</td>\n",
              "    </tr>\n",
              "    <tr>\n",
              "      <th>September</th>\n",
              "      <td>0.174861</td>\n",
              "      <td>0.183125</td>\n",
              "      <td>-0.070552</td>\n",
              "      <td>-0.051431</td>\n",
              "      <td>0.000441</td>\n",
              "      <td>0.089580</td>\n",
              "      <td>-0.006829</td>\n",
              "      <td>-0.091073</td>\n",
              "      <td>-0.086622</td>\n",
              "      <td>-0.091006</td>\n",
              "      <td>-0.089458</td>\n",
              "      <td>-0.091073</td>\n",
              "      <td>-0.089458</td>\n",
              "      <td>-0.091055</td>\n",
              "      <td>-0.091219</td>\n",
              "      <td>1.000000</td>\n",
              "      <td>-0.091140</td>\n",
              "      <td>-0.089458</td>\n",
              "      <td>-0.091073</td>\n",
              "    </tr>\n",
              "    <tr>\n",
              "      <th>October</th>\n",
              "      <td>-0.018836</td>\n",
              "      <td>-0.004577</td>\n",
              "      <td>0.061818</td>\n",
              "      <td>-0.035723</td>\n",
              "      <td>-0.030070</td>\n",
              "      <td>-0.044023</td>\n",
              "      <td>0.000020</td>\n",
              "      <td>-0.092785</td>\n",
              "      <td>-0.088250</td>\n",
              "      <td>-0.092716</td>\n",
              "      <td>-0.091140</td>\n",
              "      <td>-0.092785</td>\n",
              "      <td>-0.091140</td>\n",
              "      <td>-0.092766</td>\n",
              "      <td>-0.092933</td>\n",
              "      <td>-0.091140</td>\n",
              "      <td>1.000000</td>\n",
              "      <td>-0.091140</td>\n",
              "      <td>-0.092785</td>\n",
              "    </tr>\n",
              "    <tr>\n",
              "      <th>November</th>\n",
              "      <td>-0.167304</td>\n",
              "      <td>-0.163066</td>\n",
              "      <td>0.142193</td>\n",
              "      <td>0.005781</td>\n",
              "      <td>-0.040026</td>\n",
              "      <td>-0.153832</td>\n",
              "      <td>0.023170</td>\n",
              "      <td>-0.091073</td>\n",
              "      <td>-0.086622</td>\n",
              "      <td>-0.091006</td>\n",
              "      <td>-0.089458</td>\n",
              "      <td>-0.091073</td>\n",
              "      <td>-0.089458</td>\n",
              "      <td>-0.091055</td>\n",
              "      <td>-0.091219</td>\n",
              "      <td>-0.089458</td>\n",
              "      <td>-0.091140</td>\n",
              "      <td>1.000000</td>\n",
              "      <td>-0.091073</td>\n",
              "    </tr>\n",
              "    <tr>\n",
              "      <th>December</th>\n",
              "      <td>-0.328322</td>\n",
              "      <td>-0.336077</td>\n",
              "      <td>0.211059</td>\n",
              "      <td>0.012686</td>\n",
              "      <td>-0.017914</td>\n",
              "      <td>-0.259601</td>\n",
              "      <td>-0.045124</td>\n",
              "      <td>-0.092717</td>\n",
              "      <td>-0.088185</td>\n",
              "      <td>-0.092648</td>\n",
              "      <td>-0.091073</td>\n",
              "      <td>-0.092717</td>\n",
              "      <td>-0.091073</td>\n",
              "      <td>-0.092698</td>\n",
              "      <td>-0.092865</td>\n",
              "      <td>-0.091073</td>\n",
              "      <td>-0.092785</td>\n",
              "      <td>-0.091073</td>\n",
              "      <td>1.000000</td>\n",
              "    </tr>\n",
              "  </tbody>\n",
              "</table>\n",
              "</div>\n",
              "      <button class=\"colab-df-convert\" onclick=\"convertToInteractive('df-1c7c4b9f-f00c-4d9f-baba-f155f029a4cb')\"\n",
              "              title=\"Convert this dataframe to an interactive table.\"\n",
              "              style=\"display:none;\">\n",
              "        \n",
              "  <svg xmlns=\"http://www.w3.org/2000/svg\" height=\"24px\"viewBox=\"0 0 24 24\"\n",
              "       width=\"24px\">\n",
              "    <path d=\"M0 0h24v24H0V0z\" fill=\"none\"/>\n",
              "    <path d=\"M18.56 5.44l.94 2.06.94-2.06 2.06-.94-2.06-.94-.94-2.06-.94 2.06-2.06.94zm-11 1L8.5 8.5l.94-2.06 2.06-.94-2.06-.94L8.5 2.5l-.94 2.06-2.06.94zm10 10l.94 2.06.94-2.06 2.06-.94-2.06-.94-.94-2.06-.94 2.06-2.06.94z\"/><path d=\"M17.41 7.96l-1.37-1.37c-.4-.4-.92-.59-1.43-.59-.52 0-1.04.2-1.43.59L10.3 9.45l-7.72 7.72c-.78.78-.78 2.05 0 2.83L4 21.41c.39.39.9.59 1.41.59.51 0 1.02-.2 1.41-.59l7.78-7.78 2.81-2.81c.8-.78.8-2.07 0-2.86zM5.41 20L4 18.59l7.72-7.72 1.47 1.35L5.41 20z\"/>\n",
              "  </svg>\n",
              "      </button>\n",
              "      \n",
              "  <style>\n",
              "    .colab-df-container {\n",
              "      display:flex;\n",
              "      flex-wrap:wrap;\n",
              "      gap: 12px;\n",
              "    }\n",
              "\n",
              "    .colab-df-convert {\n",
              "      background-color: #E8F0FE;\n",
              "      border: none;\n",
              "      border-radius: 50%;\n",
              "      cursor: pointer;\n",
              "      display: none;\n",
              "      fill: #1967D2;\n",
              "      height: 32px;\n",
              "      padding: 0 0 0 0;\n",
              "      width: 32px;\n",
              "    }\n",
              "\n",
              "    .colab-df-convert:hover {\n",
              "      background-color: #E2EBFA;\n",
              "      box-shadow: 0px 1px 2px rgba(60, 64, 67, 0.3), 0px 1px 3px 1px rgba(60, 64, 67, 0.15);\n",
              "      fill: #174EA6;\n",
              "    }\n",
              "\n",
              "    [theme=dark] .colab-df-convert {\n",
              "      background-color: #3B4455;\n",
              "      fill: #D2E3FC;\n",
              "    }\n",
              "\n",
              "    [theme=dark] .colab-df-convert:hover {\n",
              "      background-color: #434B5C;\n",
              "      box-shadow: 0px 1px 3px 1px rgba(0, 0, 0, 0.15);\n",
              "      filter: drop-shadow(0px 1px 2px rgba(0, 0, 0, 0.3));\n",
              "      fill: #FFFFFF;\n",
              "    }\n",
              "  </style>\n",
              "\n",
              "      <script>\n",
              "        const buttonEl =\n",
              "          document.querySelector('#df-1c7c4b9f-f00c-4d9f-baba-f155f029a4cb button.colab-df-convert');\n",
              "        buttonEl.style.display =\n",
              "          google.colab.kernel.accessAllowed ? 'block' : 'none';\n",
              "\n",
              "        async function convertToInteractive(key) {\n",
              "          const element = document.querySelector('#df-1c7c4b9f-f00c-4d9f-baba-f155f029a4cb');\n",
              "          const dataTable =\n",
              "            await google.colab.kernel.invokeFunction('convertToInteractive',\n",
              "                                                     [key], {});\n",
              "          if (!dataTable) return;\n",
              "\n",
              "          const docLinkHtml = 'Like what you see? Visit the ' +\n",
              "            '<a target=\"_blank\" href=https://colab.research.google.com/notebooks/data_table.ipynb>data table notebook</a>'\n",
              "            + ' to learn more about interactive tables.';\n",
              "          element.innerHTML = '';\n",
              "          dataTable['output_type'] = 'display_data';\n",
              "          await google.colab.output.renderOutput(dataTable, element);\n",
              "          const docLink = document.createElement('div');\n",
              "          docLink.innerHTML = docLinkHtml;\n",
              "          element.appendChild(docLink);\n",
              "        }\n",
              "      </script>\n",
              "    </div>\n",
              "  </div>\n",
              "  "
            ]
          },
          "metadata": {},
          "execution_count": 67
        }
      ]
    },
    {
      "cell_type": "code",
      "source": [
        "plt.figure(figsize=(10,10))\n",
        "corr=df.corr()\n",
        "sns.heatmap(corr,vmin=-1,cmap='coolwarm',annot=True, fmt='.2f')"
      ],
      "metadata": {
        "colab": {
          "base_uri": "https://localhost:8080/",
          "height": 732
        },
        "id": "lBesEwd15B32",
        "outputId": "8ae4b915-3b8b-4900-a952-77e51b24bf22"
      },
      "execution_count": null,
      "outputs": [
        {
          "output_type": "execute_result",
          "data": {
            "text/plain": [
              "<matplotlib.axes._subplots.AxesSubplot at 0x7f90e1ba4e50>"
            ]
          },
          "metadata": {},
          "execution_count": 69
        },
        {
          "output_type": "display_data",
          "data": {
            "text/plain": [
              "<Figure size 720x720 with 2 Axes>"
            ],
            "image/png": "[encoded data removed]"
          },
          "metadata": {
            "needs_background": "light"
          }
        }
      ]
    },
    {
      "cell_type": "markdown",
      "source": [
        "# Data prepration for machine learning"
      ],
      "metadata": {
        "id": "CobQKjK8fA4Z"
      }
    },
    {
      "cell_type": "markdown",
      "source": [
        "העברת הנתונים מפאנדאס לנאמפיי, נירמול הנתונים לפי פונקציה. הצגת התפלגות train, test.\n",
        "\n",
        "בפרק זה אכין את הנתונים למכונות הלומדות. אעביר מפאנדאס לנאמפיי את הנתונים כיוון שאלו הנתונים שהמכונות יודעות לעבוד איתם בצורה המיטבית, אנרמל באמצעות פונקציה מובנית, שתעשה את הפעולה הרבה יותר טוב משאני אוכל, ואחלק את הנתונים לפי TRAIN,TEST"
      ],
      "metadata": {
        "id": "Px-VCDrtsQsH"
      }
    },
    {
      "cell_type": "code",
      "source": [
        "y=Y.to_numpy()\n",
        "y"
      ],
      "metadata": {
        "colab": {
          "base_uri": "https://localhost:8080/"
        },
        "id": "wa7_bEr_h43a",
        "outputId": "81ec3861-322f-461d-ab40-8989bd525914"
      },
      "execution_count": null,
      "outputs": [
        {
          "output_type": "execute_result",
          "data": {
            "text/plain": [
              "array(['rain', 'rain', 'rain', ..., 'rain', 'rain', 'rain'], dtype=object)"
            ]
          },
          "metadata": {},
          "execution_count": 70
        }
      ]
    },
    {
      "cell_type": "code",
      "source": [
        "X=df.to_numpy()\n",
        "X"
      ],
      "metadata": {
        "colab": {
          "base_uri": "https://localhost:8080/"
        },
        "id": "TVSrwzw3j13M",
        "outputId": "407055a1-b32d-4c6c-d567-d7875b3149a2"
      },
      "execution_count": null,
      "outputs": [
        {
          "output_type": "execute_result",
          "data": {
            "text/plain": [
              "array([[ 9.47222222,  7.38888889,  0.89      , ...,  0.        ,\n",
              "         0.        ,  0.        ],\n",
              "       [ 9.35555556,  7.22777778,  0.86      , ...,  0.        ,\n",
              "         0.        ,  0.        ],\n",
              "       [ 9.37777778,  9.37777778,  0.89      , ...,  0.        ,\n",
              "         0.        ,  0.        ],\n",
              "       ...,\n",
              "       [22.03888889, 22.03888889,  0.56      , ...,  0.        ,\n",
              "         0.        ,  0.        ],\n",
              "       [21.52222222, 21.52222222,  0.6       , ...,  0.        ,\n",
              "         0.        ,  0.        ],\n",
              "       [20.43888889, 20.43888889,  0.61      , ...,  0.        ,\n",
              "         0.        ,  0.        ]])"
            ]
          },
          "metadata": {},
          "execution_count": 71
        }
      ]
    },
    {
      "cell_type": "code",
      "source": [
        "scaler = MinMaxScaler()\n",
        "X=scaler.fit_transform(X)\n",
        "X"
      ],
      "metadata": {
        "colab": {
          "base_uri": "https://localhost:8080/"
        },
        "id": "3qVjg5oSj3bb",
        "outputId": "3b4eace2-2253-4a6f-cfc6-2f835cdaf540"
      },
      "execution_count": null,
      "outputs": [
        {
          "output_type": "execute_result",
          "data": {
            "text/plain": [
              "array([[0.50697507, 0.52348604, 0.89      , ..., 0.        , 0.        ,\n",
              "        0.        ],\n",
              "       [0.50508505, 0.52108359, 0.86      , ..., 0.        , 0.        ,\n",
              "        0.        ],\n",
              "       [0.50544505, 0.5531439 , 0.89      , ..., 0.        , 0.        ,\n",
              "        0.        ],\n",
              "       ...,\n",
              "       [0.71055711, 0.7419435 , 0.56      , ..., 0.        , 0.        ,\n",
              "        0.        ],\n",
              "       [0.70218702, 0.73423909, 0.6       , ..., 0.        , 0.        ,\n",
              "        0.        ],\n",
              "       [0.68463685, 0.71808467, 0.61      , ..., 0.        , 0.        ,\n",
              "        0.        ]])"
            ]
          },
          "metadata": {},
          "execution_count": 72
        }
      ]
    },
    {
      "cell_type": "code",
      "source": [
        "X_train,X_test,y_train,y_test=train_test_split(X,y,test_size=0.3,random_state=42)"
      ],
      "metadata": {
        "id": "EYm_f2lHkQmC"
      },
      "execution_count": null,
      "outputs": []
    },
    {
      "cell_type": "code",
      "source": [
        "print(\"Train:\\n\")\n",
        "print(\"x:\", X_train.shape)\n",
        "print(\"y:\",y_train.shape)\n",
        "print(\"\\nTest:\\n\")\n",
        "print(\"x:\", X_test.shape)\n",
        "print(\"y:\",y_test.shape)"
      ],
      "metadata": {
        "colab": {
          "base_uri": "https://localhost:8080/"
        },
        "id": "ZSDPYi0akvci",
        "outputId": "118ce1ca-4692-438c-ff0b-07fc7997ddcf"
      },
      "execution_count": null,
      "outputs": [
        {
          "output_type": "stream",
          "name": "stdout",
          "text": [
            "Train:\n",
            "\n",
            "x: (67517, 19)\n",
            "y: (67517,)\n",
            "\n",
            "Test:\n",
            "\n",
            "x: (28936, 19)\n",
            "y: (28936,)\n"
          ]
        }
      ]
    },
    {
      "cell_type": "markdown",
      "source": [
        "# Machine learning"
      ],
      "metadata": {
        "id": "VgfT1QgtnNcz"
      }
    },
    {
      "cell_type": "markdown",
      "source": [
        "יצירת מכונות לומדות על פי סוגי האלגוריתמים שלמדנו: \n",
        "\n",
        "Knn\n",
        "\n",
        "Svm\n",
        "\n",
        "Percepron"
      ],
      "metadata": {
        "id": "Nvbs9H2-s5_u"
      }
    },
    {
      "cell_type": "markdown",
      "source": [
        "## KNN"
      ],
      "metadata": {
        "id": "ZRXBODRpnXhb"
      }
    },
    {
      "cell_type": "markdown",
      "source": [
        "הרצת אלגוריתם knn \n",
        "\n",
        "ובדיקת הדיוק על פי המדדים:\n",
        "\n",
        "Accuracy\n",
        "\n",
        "F1\n",
        "\n",
        "Recall\n",
        "\n",
        "Precision\n",
        "\n",
        "ועל פי מטריצת הבלבול"
      ],
      "metadata": {
        "id": "1SLS_ciBsilc"
      }
    },
    {
      "cell_type": "markdown",
      "source": [
        "הK הכי טוב הוא 3.\n",
        "\n",
        "בדקתי במרווחים של 5 בין 3 ל 100\n",
        "מצורפת תמונה![3.png](data:image/png;base64,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)"
      ],
      "metadata": {
        "id": "QcvevWsolq1J"
      }
    },
    {
      "cell_type": "code",
      "source": [
        "knn=KNeighborsClassifier(n_neighbors=3)\n",
        "knn.fit(X_train, y_train)"
      ],
      "metadata": {
        "colab": {
          "base_uri": "https://localhost:8080/"
        },
        "id": "ZsTvB1_Y2v5l",
        "outputId": "39a9da42-a4fd-439f-9409-34d243bbda18"
      },
      "execution_count": null,
      "outputs": [
        {
          "output_type": "execute_result",
          "data": {
            "text/plain": [
              "KNeighborsClassifier(n_neighbors=3)"
            ]
          },
          "metadata": {},
          "execution_count": 81
        }
      ]
    },
    {
      "cell_type": "code",
      "source": [
        "y_hat=knn.predict(X_test)"
      ],
      "metadata": {
        "id": "zc9A3xFBmBX5"
      },
      "execution_count": null,
      "outputs": []
    },
    {
      "cell_type": "code",
      "source": [
        "plot_confusion_matrix(knn, X_test, y_test)"
      ],
      "metadata": {
        "colab": {
          "base_uri": "https://localhost:8080/",
          "height": 353
        },
        "id": "LbqYhQe36Lrk",
        "outputId": "86180ef1-6c65-4d9a-d707-c282cc61cbda"
      },
      "execution_count": null,
      "outputs": [
        {
          "output_type": "stream",
          "name": "stderr",
          "text": [
            "/usr/local/lib/python3.7/dist-packages/sklearn/utils/deprecation.py:87: FutureWarning: Function plot_confusion_matrix is deprecated; Function `plot_confusion_matrix` is deprecated in 1.0 and will be removed in 1.2. Use one of the class methods: ConfusionMatrixDisplay.from_predictions or ConfusionMatrixDisplay.from_estimator.\n",
            "  warnings.warn(msg, category=FutureWarning)\n"
          ]
        },
        {
          "output_type": "execute_result",
          "data": {
            "text/plain": [
              "<sklearn.metrics._plot.confusion_matrix.ConfusionMatrixDisplay at 0x7f90df1ee050>"
            ]
          },
          "metadata": {},
          "execution_count": 82
        },
        {
          "output_type": "display_data",
          "data": {
            "text/plain": [
              "<Figure size 432x288 with 2 Axes>"
            ],
            "image/png": "[encoded data removed]"
          },
          "metadata": {
            "needs_background": "light"
          }
        }
      ]
    },
    {
      "cell_type": "code",
      "source": [
        "print(\"Recall score: \",recall_score(y_test, y_hat, average=\"micro\"))\n",
        "print(\"Precision score: \",precision_score(y_test, y_hat, average=\"micro\"))\n",
        "print(\"F1 score: \",f1_score(y_test, y_hat, average=\"micro\"))\n",
        "print(\"Accuracy score: \",accuracy_score(y_test, y_hat))"
      ],
      "metadata": {
        "colab": {
          "base_uri": "https://localhost:8080/"
        },
        "id": "Cu1CDX0c9OM2",
        "outputId": "c33b3d5e-40b8-486f-a133-e330e4461cf4"
      },
      "execution_count": null,
      "outputs": [
        {
          "output_type": "stream",
          "name": "stdout",
          "text": [
            "Recall score:  0.9761542714957147\n",
            "Precision score:  0.9761542714957147\n",
            "F1 score:  0.9761542714957147\n",
            "Accuracy score:  0.9761542714957147\n"
          ]
        }
      ]
    },
    {
      "cell_type": "markdown",
      "source": [
        "## SVM"
      ],
      "metadata": {
        "id": "RrCreX7-ncsT"
      }
    },
    {
      "cell_type": "markdown",
      "source": [
        "הרצת אלגוריתם SVM \n",
        "\n",
        "ובדיקת הדיוק על פי המדדים:\n",
        "\n",
        "Accuracy\n",
        "\n",
        "F1\n",
        "\n",
        "Recall\n",
        "\n",
        "Precision\n",
        "\n",
        "ועל פי מטריצת הבלבול"
      ],
      "metadata": {
        "id": "f0xxAsAUmQ9R"
      }
    },
    {
      "cell_type": "markdown",
      "source": [
        "שימוש ברגרסיה לינארית"
      ],
      "metadata": {
        "id": "jdX_Fphsk7eC"
      }
    },
    {
      "cell_type": "code",
      "source": [
        "clf = svm.SVC(kernel='linear')\n",
        "clf.fit(X_train, y_train)"
      ],
      "metadata": {
        "colab": {
          "base_uri": "https://localhost:8080/"
        },
        "id": "8sBW4eE0Ahkf",
        "outputId": "699ffd3b-f402-453a-dcba-6be3ab431de0"
      },
      "execution_count": null,
      "outputs": [
        {
          "output_type": "execute_result",
          "data": {
            "text/plain": [
              "SVC(kernel='linear')"
            ]
          },
          "metadata": {},
          "execution_count": 153
        }
      ]
    },
    {
      "cell_type": "code",
      "source": [
        "y_hat=clf.predict(X_test)"
      ],
      "metadata": {
        "id": "BjyM1H1bBC4w"
      },
      "execution_count": null,
      "outputs": []
    },
    {
      "cell_type": "code",
      "source": [
        "plot_confusion_matrix(clf, X_test, y_test)  "
      ],
      "metadata": {
        "colab": {
          "base_uri": "https://localhost:8080/",
          "height": 352
        },
        "id": "x6Mxa6D8BS1n",
        "outputId": "5241768c-64c9-4e2b-d6d2-86088d96235b"
      },
      "execution_count": null,
      "outputs": [
        {
          "output_type": "stream",
          "name": "stderr",
          "text": [
            "/usr/local/lib/python3.7/dist-packages/sklearn/utils/deprecation.py:87: FutureWarning: Function plot_confusion_matrix is deprecated; Function `plot_confusion_matrix` is deprecated in 1.0 and will be removed in 1.2. Use one of the class methods: ConfusionMatrixDisplay.from_predictions or ConfusionMatrixDisplay.from_estimator.\n",
            "  warnings.warn(msg, category=FutureWarning)\n"
          ]
        },
        {
          "output_type": "execute_result",
          "data": {
            "text/plain": [
              "<sklearn.metrics._plot.confusion_matrix.ConfusionMatrixDisplay at 0x7f16cf3cbb50>"
            ]
          },
          "metadata": {},
          "execution_count": 156
        },
        {
          "output_type": "display_data",
          "data": {
            "text/plain": [
              "<Figure size 432x288 with 2 Axes>"
            ],
            "image/png": "[encoded data removed]"
          },
          "metadata": {
            "needs_background": "light"
          }
        }
      ]
    },
    {
      "cell_type": "code",
      "source": [
        "print(\"Recall score: \",recall_score(y_test, y_hat, average=\"macro\"))\n",
        "print(\"Precision score: \",precision_score(y_test, y_hat, average=\"micro\"))\n",
        "print(\"F1 score: \",f1_score(y_test, y_hat, average=\"micro\"))\n",
        "print(\"Accuracy score: \",accuracy_score(y_test, y_hat))"
      ],
      "metadata": {
        "colab": {
          "base_uri": "https://localhost:8080/"
        },
        "id": "KzPPbCQTBZc3",
        "outputId": "0ecbac12-6fcb-4d91-c0c2-57c4939ada41"
      },
      "execution_count": null,
      "outputs": [
        {
          "output_type": "stream",
          "name": "stdout",
          "text": [
            "Recall score:  0.6538497663603908\n",
            "Precision score:  0.9860381531656068\n",
            "F1 score:  0.9860381531656068\n",
            "Accuracy score:  0.9860381531656068\n"
          ]
        }
      ]
    },
    {
      "cell_type": "markdown",
      "source": [
        "## Perceptron"
      ],
      "metadata": {
        "id": "ojWPLO2xngcS"
      }
    },
    {
      "cell_type": "markdown",
      "source": [
        "הרצת אלגוריתם PERCEPTRON \n",
        "\n",
        "ובדיקת הדיוק על פי המדדים:\n",
        "\n",
        "Accuracy\n",
        "\n",
        "F1\n",
        "\n",
        "Recall\n",
        "\n",
        "Precision\n",
        "\n",
        "ועל פי מטריצת הבלבול"
      ],
      "metadata": {
        "id": "UdEk68rOmbQS"
      }
    },
    {
      "cell_type": "code",
      "source": [
        "clf = Perceptron(tol=1e-3, random_state=42,verbose=0,n_iter_no_change=100)\n",
        "clf.fit(X_train, y_train)#אימון מערכת\n",
        "print(clf.score(X_train, y_train))"
      ],
      "metadata": {
        "colab": {
          "base_uri": "https://localhost:8080/"
        },
        "id": "zPt7mqKgCYBw",
        "outputId": "f56ec430-2769-43c0-9de1-fa90576c3ff1"
      },
      "execution_count": null,
      "outputs": [
        {
          "output_type": "stream",
          "name": "stdout",
          "text": [
            "0.9847742050150332\n"
          ]
        }
      ]
    },
    {
      "cell_type": "code",
      "source": [
        "y_hat = clf.predict(X_test)\n",
        "print(\"Recall score: \",recall_score(y_test, y_hat, average=\"micro\"))\n",
        "print(\"Precision score: \",precision_score(y_test, y_hat, average=\"micro\"))\n",
        "print(\"F1 score: \",f1_score(y_test, y_hat, average=\"micro\"))\n",
        "print(\"Accuracy score: \",accuracy_score(y_test, y_hat))"
      ],
      "metadata": {
        "colab": {
          "base_uri": "https://localhost:8080/"
        },
        "id": "sZCAEdK5Cf0P",
        "outputId": "4dc65334-2048-41ab-ea70-fc2e53e96781"
      },
      "execution_count": null,
      "outputs": [
        {
          "output_type": "stream",
          "name": "stdout",
          "text": [
            "Recall score:  0.9833079900470003\n",
            "Precision score:  0.9833079900470003\n",
            "F1 score:  0.9833079900470003\n",
            "Accuracy score:  0.9833079900470003\n"
          ]
        }
      ]
    },
    {
      "cell_type": "code",
      "source": [
        "plot_confusion_matrix(clf, X_test, y_test, cmap=\"Purples\")  "
      ],
      "metadata": {
        "colab": {
          "base_uri": "https://localhost:8080/",
          "height": 354
        },
        "id": "zJ4DBTd4C7Qg",
        "outputId": "a76e1988-1a3e-4fbf-dd21-9c5bd1c1cadb"
      },
      "execution_count": null,
      "outputs": [
        {
          "output_type": "stream",
          "name": "stderr",
          "text": [
            "/usr/local/lib/python3.7/dist-packages/sklearn/utils/deprecation.py:87: FutureWarning: Function plot_confusion_matrix is deprecated; Function `plot_confusion_matrix` is deprecated in 1.0 and will be removed in 1.2. Use one of the class methods: ConfusionMatrixDisplay.from_predictions or ConfusionMatrixDisplay.from_estimator.\n",
            "  warnings.warn(msg, category=FutureWarning)\n"
          ]
        },
        {
          "output_type": "execute_result",
          "data": {
            "text/plain": [
              "<sklearn.metrics._plot.confusion_matrix.ConfusionMatrixDisplay at 0x7f16cf185e50>"
            ]
          },
          "metadata": {},
          "execution_count": 165
        },
        {
          "output_type": "display_data",
          "data": {
            "text/plain": [
              "<Figure size 432x288 with 2 Axes>"
            ],
            "image/png": "[encoded data removed]"
          },
          "metadata": {
            "needs_background": "light"
          }
        }
      ]
    },
    {
      "cell_type": "markdown",
      "source": [
        "# Summary"
      ],
      "metadata": {
        "id": "GeuXGss7DWla"
      }
    },
    {
      "cell_type": "markdown",
      "source": [
        "**:כבלוק טקסט**"
      ],
      "metadata": {
        "id": "LoxpQmZXrsI7"
      }
    },
    {
      "cell_type": "markdown",
      "source": [
        "לסיכום, הפרויקט שלי מתחלק לשני חלקים עיקריים: מדעי הנתונים וניתוחם, למידת מכונה. אתייחס אליהם בנפרד.\n",
        "1.\tבפרויקט שלי השתמשתי בנתונים המורכבים מדגימות של מזג האוויר המוצגות בפרמטרים רבים. בקוד, הצגתי את הנתונים, הצגתי קשר בין הנתונים ואת טבע הנתונים בגרפים, ניקיתי את הנתונים, שיניתי וסידרתי את הפרמטרים (עמודות), נרמלתי את הנתונים, והכנתי אותם לקראת שלב למידת המכונה. בשלב הזה נתקעתי לעתים כיוון שלא הבנתי את החומר בצורה טובה. תוך כדי הכנת השלב בפרויקט למדתי מפורומים ומאתרי לימוד באינטרנט להשתמש ב PANDAS, NUMPY, SEABORN בצורה מיטבית ואני מאמין שהפרויקט שלי מעיד על כך.\n",
        "2.\tבפרויקט השתמשתי בשלוש סוגים של מכונות לומדות: KNN, SVM, PERCEPTRON. את שלוש המכונות למדנו בכיתה בשיעורי למידת מכונה. שלבי יצירת המכונות הלומדות והערכתן היו דומים למדי; למעט KNN שהיה שונה במעט כיוון שבמכונה הזו צריך למצוא גם את ה K הטוב ביותר. במשך הכנת השלב הזה (שהיה קצר הרבה יותר משלב מדעי הנתונים) לא נתקעתי בקשיים. נעזרתי בקוד שהוצג בשיעורים ובמטלות ושיעורי הבית שהגשתי על מנת להגיע לקוד מסודר ונכון. הדבר היחיד שהיה מעט מעיק בשלב הזה היה למצוא את ה K הטוב ביותר במכונה KNN, כפי שכתבתי למעלה. מציאת הערך הייתה מעיקה בגלל גודל הנתונים שהשתמשתי (97000 דגימות). בגלל גודל הנתונים, הרצת האלגוריתם שוב ושוב כדי למצוא את הציון המקסימלי לקחה זמן רב מאד, מסיבה זו לא הכנסתי את הבלוק לקוד, אלא רק צילום מסך של מגמת הירידה בציון.\n",
        "\n",
        "מסקנות:\n",
        "המסקנות שלי מהפרויקט הן:\n",
        "א.\tמענה על שאלת החקר שלי אפשרי ביותר, ועוד בדיוק גבוה. הגעתי לציונים הנעים בין 96% ל 99% בשלוש המכונות.\n",
        "ב.\tמאגר הנתונים שהשתמשתי בו גדול מדי. גודל הנתונים הפריע לי בכמה מקומות בקוד, בעיקר מבחינת זמן ריצה. כאשר רציתי לשנות משהו בקוד ולהריץ ולבדוק שעובד, לקח זמן רב יותר משציפיתי.\n",
        "הצעות לשיפור:\n",
        "ראשית, אני חושב שהייתי יכול להתייחס לשנים שבהן נלקחו הדגימות, ולא רק לחודשים. אני לא יודע עד כמה זה היה משפר את הדיוק, אבל שיפור יכול להיות אפשרי. שנית, הייתי יכול להוציא גם נתונים חריגים בגודלם ולא רק בסוגם ובכך לנקות את הנתונים בצורה טובה יותר ולהגיע לתוצאה טובה יותר. כפי שכתבתי למעלה, גודל הנתונים הקשה על דברים מהסוג הזה ולכן וויתרתי על כך בפרויקט שלי.\n"
      ],
      "metadata": {
        "id": "8m8JruOMmkPa"
      }
    },
    {
      "cell_type": "markdown",
      "source": [
        "**צילום מסמך וורד:**"
      ],
      "metadata": {
        "id": "iX5jCQq7rxdC"
      }
    },
    {
      "cell_type": "markdown",
      "source": [
        "![4.png](data:image/png;base64,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)"
      ],
      "metadata": {
        "id": "10SgUpSjr0k6"
      }
    }
  ]
}